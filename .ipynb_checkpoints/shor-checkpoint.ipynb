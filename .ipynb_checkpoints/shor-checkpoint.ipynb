{
 "cells": [
  {
   "cell_type": "code",
   "execution_count": 1,
   "metadata": {
    "collapsed": true
   },
   "outputs": [
    {
     "name": "stdout",
     "output_type": "stream",
     "text": [
      "Imports Successful\n"
     ]
    }
   ],
   "source": [
    "import matplotlib.pyplot as plt\n",
    "import numpy as np\n",
    "from qiskit import QuantumCircuit, Aer, transpile\n",
    "from qiskit.visualization import plot_histogram\n",
    "from math import gcd\n",
    "from numpy.random import randint\n",
    "import pandas as pd\n",
    "from fractions import Fraction\n",
    "from qiskit.quantum_info import Statevector\n",
    "print(\"Imports Successful\")"
   ]
  },
  {
   "cell_type": "code",
   "execution_count": 2,
   "metadata": {},
   "outputs": [],
   "source": [
    "def qft_dagger(n):\n",
    "    \"\"\"n-qubit QFTdagger the first n qubits in circ\"\"\"\n",
    "    qc = QuantumCircuit(n)\n",
    "    # Don't forget the Swaps!\n",
    "    for qubit in range(n//2):\n",
    "        qc.swap(qubit, n-qubit-1)\n",
    "    for j in range(n):\n",
    "        for m in range(j):\n",
    "            qc.cp(-np.pi/float(2**(j-m)), m, j)\n",
    "        qc.h(j)\n",
    "    qc.name = \"QFT†\"\n",
    "    return qc"
   ]
  },
  {
   "cell_type": "code",
   "execution_count": 3,
   "metadata": {},
   "outputs": [],
   "source": [
    "\n",
    "def test_cycles(circuit, cycles):\n",
    "    i = 1\n",
    "    for application in range(cycles):\n",
    "        print(\"Apply %s, %i times: %i\" % (circuit.name, application, i))\n",
    "        sv = Statevector.from_int(i, 32)  # 32 is no. of elements in vector (dimension)\n",
    "        sv = sv.evolve(circuit)\n",
    "        output = sv.sample_memory(1)[0]  # simulate one shot (circuit is deterministic)\n",
    "        i = int(output, 2)  # convert binary output to int\n"
   ]
  },
  {
   "cell_type": "code",
   "execution_count": 7,
   "metadata": {},
   "outputs": [
    {
     "name": "stdout",
     "output_type": "stream",
     "text": [
      "Apply 2x (mod 15), 0 times: 1\n",
      "Apply 2x (mod 15), 1 times: 2\n",
      "Apply 2x (mod 15), 2 times: 4\n",
      "Apply 2x (mod 15), 3 times: 8\n",
      "Apply 2x (mod 15), 4 times: 1\n",
      "Apply 2x (mod 15), 5 times: 2\n"
     ]
    },
    {
     "data": {
      "image/png": "[encoded data removed]",
      "text/plain": [
       "<Figure size 371.107x451.5 with 1 Axes>"
      ]
     },
     "execution_count": 7,
     "metadata": {},
     "output_type": "execute_result"
    }
   ],
   "source": [
    "\n",
    "tm15 = QuantumCircuit(5)  # 2x mod 15\n",
    "tm15.name = \"2x (mod 15)\"\n",
    "tm15.swap(0, 3)\n",
    "tm15.swap(3, 2)\n",
    "tm15.swap(2, 1)\n",
    "\n",
    "test_cycles(tm15, 6)\n",
    "tm15.draw('mpl')"
   ]
  },
  {
   "cell_type": "code",
   "execution_count": 8,
   "metadata": {},
   "outputs": [
    {
     "name": "stdout",
     "output_type": "stream",
     "text": [
      "Apply 2x (mod 31), 0 times: 1\n",
      "Apply 2x (mod 31), 1 times: 2\n",
      "Apply 2x (mod 31), 2 times: 4\n",
      "Apply 2x (mod 31), 3 times: 8\n",
      "Apply 2x (mod 31), 4 times: 16\n",
      "Apply 2x (mod 31), 5 times: 1\n",
      "Apply 2x mod 21, 0 times: 1\n",
      "Apply 2x mod 21, 1 times: 2\n",
      "Apply 2x mod 21, 2 times: 4\n",
      "Apply 2x mod 21, 3 times: 8\n",
      "Apply 2x mod 21, 4 times: 16\n",
      "Apply 2x mod 21, 5 times: 11\n",
      "Apply 2x mod 21, 6 times: 1\n",
      "Apply 2x mod 21, 7 times: 2\n"
     ]
    },
    {
     "data": {
      "image/png": "[encoded data removed]",
      "text/plain": [
       "<Figure size 789.163x451.5 with 1 Axes>"
      ]
     },
     "execution_count": 8,
     "metadata": {},
     "output_type": "execute_result"
    }
   ],
   "source": [
    "tm31 = QuantumCircuit(5)\n",
    "tm31.name = \"2x (mod 31)\"\n",
    "tm31.swap(3, 4)\n",
    "tm31 = tm31.compose(tm15)\n",
    "\n",
    "test_cycles(tm31, 6)\n",
    "tm31.draw()\n",
    "\n",
    "tm21 = QuantumCircuit(5)\n",
    "tm21.name = \"2x mod 21\"\n",
    "tm21.cswap(0,3,4)\n",
    "tm21.cswap(0,1,2)\n",
    "tm21.cx(4, 2)\n",
    "tm21.cx(4, 0)\n",
    "tm21 = tm21.compose(tm31)\n",
    "\n",
    "test_cycles(tm21, 8)\n",
    "tm21.draw('mpl')"
   ]
  },
  {
   "cell_type": "code",
   "execution_count": 9,
   "metadata": {},
   "outputs": [],
   "source": [
    "def c_amod15(a, power):\n",
    "    \"\"\"Controlled multiplication by a mod 15\"\"\"\n",
    "    if a not in [2,4,7,8,11,13]:\n",
    "        raise ValueError(\"'a' must be 2,4,7,8,11 or 13\")\n",
    "    U = QuantumCircuit(4)\n",
    "    for _iteration in range(power):\n",
    "        if a in [2,13]:\n",
    "            U.swap(2,3)\n",
    "            U.swap(1,2)\n",
    "            U.swap(0,1)\n",
    "        if a in [7,8]:\n",
    "            U.swap(0,1)\n",
    "            U.swap(1,2)\n",
    "            U.swap(2,3)\n",
    "        if a in [4, 11]:\n",
    "            U.swap(1,3)\n",
    "            U.swap(0,2)\n",
    "        if a in [7,11,13]:\n",
    "            for q in range(4):\n",
    "                U.x(q)\n",
    "\n",
    "    # print(f\"{a}^{power} mod 15 \\n\", U)\n",
    "    U = U.to_gate()\n",
    "    U.name = f\"{a}^{power} mod 15\"\n",
    "\n",
    "    c_U = U.control()\n",
    "    return c_U"
   ]
  },
  {
   "cell_type": "code",
   "execution_count": null,
   "metadata": {},
   "outputs": [],
   "source": [
    "def qpe_amod15(a):\n",
    "    \"\"\"Performs quantum phase estimation on the operation a*r mod 15.\n",
    "    Args:\n",
    "        a (int): This is 'a' in a*r mod 15\n",
    "    Returns:\n",
    "        float: Estimate of the phase\n",
    "    \"\"\"\n",
    "    N_COUNT = 8\n",
    "    qc = QuantumCircuit(4+N_COUNT, N_COUNT)\n",
    "    for q in range(N_COUNT):\n",
    "        qc.h(q)     # Initialize counting qubits in state |+>\n",
    "    qc.x(3+N_COUNT) # And auxiliary register in state |1>\n",
    "    for q in range(N_COUNT): # Do controlled-U operations\n",
    "        qc.append(c_amod15(a, 2**q),\n",
    "                 [q] + [i+N_COUNT for i in range(4)])\n",
    "    qc.append(qft_dagger(N_COUNT), range(N_COUNT)) # Do inverse-QFT\n",
    "    qc.measure(range(N_COUNT), range(N_COUNT))\n",
    "    # Simulate Results\n",
    "    aer_sim = Aer.get_backend('aer_simulator')\n",
    "    # `memory=True` tells the backend to save each measurement in a list\n",
    "    # print(qc)\n",
    "    job = aer_sim.run(transpile(qc, aer_sim), shots=1, memory=True)\n",
    "    readings = job.result().get_memory()\n",
    "    print(\"Register Reading: \" + readings[0])\n",
    "    phase = int(readings[0],2)/(2**N_COUNT)\n",
    "    print(f\"Corresponding Phase: {phase}\")\n",
    "    return phase"
   ]
  },
  {
   "cell_type": "code",
   "execution_count": null,
   "metadata": {},
   "outputs": [],
   "source": [
    "N=15\n",
    "a = 7\n",
    "FACTOR_FOUND = False\n",
    "ATTEMPT = 0\n",
    "while not FACTOR_FOUND:\n",
    "    ATTEMPT += 1\n",
    "    print(f\"\\nATTEMPT {ATTEMPT}:\")\n",
    "    phase = qpe_amod15(a) # Phase = s/r\n",
    "    frac = Fraction(phase).limit_denominator(N)\n",
    "    r = frac.denominator\n",
    "    print(f\"Result: r = {r}\")\n",
    "    if phase != 0:\n",
    "        # Guesses for factors are gcd(x^{r/2} ±1 , 15)\n",
    "        guesses = [gcd(a**(r//2)-1, N), gcd(a**(r//2)+1, N)]\n",
    "        print(f\"Guessed Factors: {guesses[0]} and {guesses[1]}\")\n",
    "        for guess in guesses:\n",
    "            if guess not in [1,N] and (N % guess) == 0:\n",
    "                # Guess is a factor!\n",
    "                print(f\"*** Non-trivial factor found: {guess} ***\")\n",
    "                FACTOR_FOUND = True"
   ]
  }
 ],
 "metadata": {
  "kernelspec": {
   "display_name": "Python 3 (ipykernel)",
   "language": "python",
   "name": "python3"
  },
  "language_info": {
   "codemirror_mode": {
    "name": "ipython",
    "version": 3
   },
   "file_extension": ".py",
   "mimetype": "text/x-python",
   "name": "python",
   "nbconvert_exporter": "python",
   "pygments_lexer": "ipython3",
   "version": "3.10.11"
  }
 },
 "nbformat": 4,
 "nbformat_minor": 1
}
