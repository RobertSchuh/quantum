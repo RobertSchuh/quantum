{
 "cells": [
  {
   "cell_type": "markdown",
   "metadata": {
    "id": "gRMrBHmZnl5s"
   },
   "source": [
    "# Variational quantum eigensolver"
   ]
  },
  {
   "cell_type": "markdown",
   "metadata": {
    "id": "FOSVCPG0nl5t"
   },
   "source": [
    "In this notebook we want to use the variational quantum eigensolver (VQE) to simulate two different molecules ($\\rm{H}_2$ and $\\rm{Li}\\rm{H}$). \n",
    "We start with the simplest case $\\rm{H}_2$ as an exmaple. Afterwards you're supposted to use the VQE to simulate $\\rm{Li}\\rm{H}$ yourself."
   ]
  },
  {
   "cell_type": "markdown",
   "metadata": {
    "id": "yxteLGr-nl5u"
   },
   "source": [
    "The following code is required if you want to use the build-in *Jupyter Notebook* application of Manjaro. It is necessary to display the braket notation properly. If you have opened this file in VS-Code, you do not need the code and you can ignore the parse error caused by the cell."
   ]
  },
  {
   "cell_type": "markdown",
   "metadata": {
    "id": "fKLC5ZUNnl5u"
   },
   "source": [
    "$$\\renewcommand{\\ket}[1]{\\left|{#1}\\right\\rangle}$$\n",
    "$$\\renewcommand{\\bra}[1]{\\left\\langle{#1}\\right|}$$"
   ]
  },
  {
   "cell_type": "markdown",
   "metadata": {
    "id": "xOt3m3Wrnl5v"
   },
   "source": [
    "## Part 1: VQE for ${\\text{H}}_2$ molecule"
   ]
  },
  {
   "cell_type": "markdown",
   "metadata": {
    "id": "br_JLG3rnl5v"
   },
   "source": [
    "### 1. Running the first simulation"
   ]
  },
  {
   "cell_type": "markdown",
   "metadata": {
    "id": "xikbWiv7nl5v"
   },
   "source": [
    "In this section all steps and concepts of the VQE are introduced with the aim of a first simulation of $\\rm{H}_2$. \n",
    "Various qubit converters, approaches or optimisers can be used for the VQE. At this point, we will limit ourselves to one possibility each. Later, other possibilities for the converter, the ansatz or the optimiser will be tried out. \n",
    "\n",
    "**Task**: Work through the following sections step by step and execute the given code. Try to mentally link the content of this section with the content from the manual. \n",
    "Note: There are no further tasks in this section so you can concentrate on the physics behind the code."
   ]
  },
  {
   "cell_type": "markdown",
   "metadata": {
    "id": "3Q9MeURjnl5w"
   },
   "source": [
    "#### 1.1 Driver (generate the molecule and select a basis set)"
   ]
  },
  {
   "cell_type": "markdown",
   "metadata": {
    "id": "FDcmiVNmnl5w"
   },
   "source": [
    "As a first step a so called driver has to be created for the molecule. A driver is the interface to the classical chemistry codes, that are available in Qiskit. It can for examples be used to set up the electronic structure problem Hamiltonian for a given molecule (see section 5.2.1 of the manual) or provides the chemical basis sets presented in section 5.2.5 of the manual. By running a driver, we obtain all necessary information about the molecule and we can further use this information to set up the VQE.\n",
    "\n",
    "Practically, we first use the `Molecule` class to define the molecule by specifying the two atoms and their position in space. Usually, for simple molecules, $x = y = 0$ is chosen and the $z$ coordinate is used to set the distance between the two atoms. \n",
    "Our molecule consists of two hydrogen atoms with a distance of 0.75 Angstrom. After that we can start the actual driver. For this we have to pass the molecule and to specify the basis set for the orbitals as well as the driver type. For this experiment we choose the STO-3G basis set (see section 5.2.5 of the manual for more details) and the Qiskit `PySCF` driver.\n",
    "\n",
    "We will stick with this driver for the whole experiment, as it provides all information needed for the VQE.\n"
   ]
  },
  {
   "cell_type": "code",
   "execution_count": 1,
   "metadata": {
    "colab": {
     "base_uri": "https://localhost:8080/"
    },
    "id": "9fKkqc3Tnl5y",
    "outputId": "ba915f58-a39b-40be-ae80-77ed1a7af8a2"
   },
   "outputs": [
    {
     "name": "stdout",
     "output_type": "stream",
     "text": [
      "Looking in indexes: https://pypi.org/simple, https://us-python.pkg.dev/colab-wheels/public/simple/\n",
      "Requirement already satisfied: qiskit in /usr/local/lib/python3.10/dist-packages (0.43.0)\n",
      "Requirement already satisfied: qiskit-ibmq-provider==0.20.2 in /usr/local/lib/python3.10/dist-packages (from qiskit) (0.20.2)\n",
      "Requirement already satisfied: qiskit-aer==0.12.0 in /usr/local/lib/python3.10/dist-packages (from qiskit) (0.12.0)\n",
      "Requirement already satisfied: qiskit-terra==0.24.0 in /usr/local/lib/python3.10/dist-packages (from qiskit) (0.24.0)\n",
      "Requirement already satisfied: scipy>=1.0 in /usr/local/lib/python3.10/dist-packages (from qiskit-aer==0.12.0->qiskit) (1.10.1)\n",
      "Requirement already satisfied: numpy>=1.16.3 in /usr/local/lib/python3.10/dist-packages (from qiskit-aer==0.12.0->qiskit) (1.22.4)\n",
      "Requirement already satisfied: requests>=2.19 in /usr/local/lib/python3.10/dist-packages (from qiskit-ibmq-provider==0.20.2->qiskit) (2.27.1)\n",
      "Requirement already satisfied: websockets>=10.0 in /usr/local/lib/python3.10/dist-packages (from qiskit-ibmq-provider==0.20.2->qiskit) (11.0.3)\n",
      "Requirement already satisfied: python-dateutil>=2.8.0 in /usr/local/lib/python3.10/dist-packages (from qiskit-ibmq-provider==0.20.2->qiskit) (2.8.2)\n",
      "Requirement already satisfied: requests-ntlm<=1.1.0 in /usr/local/lib/python3.10/dist-packages (from qiskit-ibmq-provider==0.20.2->qiskit) (1.1.0)\n",
      "Requirement already satisfied: urllib3>=1.21.1 in /usr/local/lib/python3.10/dist-packages (from qiskit-ibmq-provider==0.20.2->qiskit) (1.26.15)\n",
      "Requirement already satisfied: websocket-client>=1.5.1 in /usr/local/lib/python3.10/dist-packages (from qiskit-ibmq-provider==0.20.2->qiskit) (1.5.1)\n",
      "Requirement already satisfied: stevedore>=3.0.0 in /usr/local/lib/python3.10/dist-packages (from qiskit-terra==0.24.0->qiskit) (5.0.0)\n",
      "Requirement already satisfied: dill>=0.3 in /usr/local/lib/python3.10/dist-packages (from qiskit-terra==0.24.0->qiskit) (0.3.6)\n",
      "Requirement already satisfied: symengine<0.10,>=0.9 in /usr/local/lib/python3.10/dist-packages (from qiskit-terra==0.24.0->qiskit) (0.9.2)\n",
      "Requirement already satisfied: psutil>=5 in /usr/local/lib/python3.10/dist-packages (from qiskit-terra==0.24.0->qiskit) (5.9.5)\n",
      "Requirement already satisfied: sympy>=1.3 in /usr/local/lib/python3.10/dist-packages (from qiskit-terra==0.24.0->qiskit) (1.11.1)\n",
      "Requirement already satisfied: rustworkx>=0.12.0 in /usr/local/lib/python3.10/dist-packages (from qiskit-terra==0.24.0->qiskit) (0.12.1)\n",
      "Requirement already satisfied: ply>=3.10 in /usr/local/lib/python3.10/dist-packages (from qiskit-terra==0.24.0->qiskit) (3.11)\n",
      "Requirement already satisfied: six>=1.5 in /usr/local/lib/python3.10/dist-packages (from python-dateutil>=2.8.0->qiskit-ibmq-provider==0.20.2->qiskit) (1.16.0)\n",
      "Requirement already satisfied: certifi>=2017.4.17 in /usr/local/lib/python3.10/dist-packages (from requests>=2.19->qiskit-ibmq-provider==0.20.2->qiskit) (2022.12.7)\n",
      "Requirement already satisfied: charset-normalizer~=2.0.0 in /usr/local/lib/python3.10/dist-packages (from requests>=2.19->qiskit-ibmq-provider==0.20.2->qiskit) (2.0.12)\n",
      "Requirement already satisfied: idna<4,>=2.5 in /usr/local/lib/python3.10/dist-packages (from requests>=2.19->qiskit-ibmq-provider==0.20.2->qiskit) (3.4)\n",
      "Requirement already satisfied: cryptography>=1.3 in /usr/local/lib/python3.10/dist-packages (from requests-ntlm<=1.1.0->qiskit-ibmq-provider==0.20.2->qiskit) (40.0.2)\n",
      "Requirement already satisfied: ntlm-auth>=1.0.2 in /usr/local/lib/python3.10/dist-packages (from requests-ntlm<=1.1.0->qiskit-ibmq-provider==0.20.2->qiskit) (1.5.0)\n",
      "Requirement already satisfied: pbr!=2.1.0,>=2.0.0 in /usr/local/lib/python3.10/dist-packages (from stevedore>=3.0.0->qiskit-terra==0.24.0->qiskit) (5.11.1)\n",
      "Requirement already satisfied: mpmath>=0.19 in /usr/local/lib/python3.10/dist-packages (from sympy>=1.3->qiskit-terra==0.24.0->qiskit) (1.3.0)\n",
      "Requirement already satisfied: cffi>=1.12 in /usr/local/lib/python3.10/dist-packages (from cryptography>=1.3->requests-ntlm<=1.1.0->qiskit-ibmq-provider==0.20.2->qiskit) (1.15.1)\n",
      "Requirement already satisfied: pycparser in /usr/local/lib/python3.10/dist-packages (from cffi>=1.12->cryptography>=1.3->requests-ntlm<=1.1.0->qiskit-ibmq-provider==0.20.2->qiskit) (2.21)\n",
      "Looking in indexes: https://pypi.org/simple, https://us-python.pkg.dev/colab-wheels/public/simple/\n",
      "Requirement already satisfied: qiskit_nature in /usr/local/lib/python3.10/dist-packages (0.6.0)\n",
      "Requirement already satisfied: qiskit-terra>=0.23 in /usr/local/lib/python3.10/dist-packages (from qiskit_nature) (0.24.0)\n",
      "Requirement already satisfied: numpy>=1.17 in /usr/local/lib/python3.10/dist-packages (from qiskit_nature) (1.22.4)\n",
      "Requirement already satisfied: typing-extensions in /usr/local/lib/python3.10/dist-packages (from qiskit_nature) (4.5.0)\n",
      "Requirement already satisfied: psutil>=5 in /usr/local/lib/python3.10/dist-packages (from qiskit_nature) (5.9.5)\n",
      "Requirement already satisfied: scikit-learn>=0.20.0 in /usr/local/lib/python3.10/dist-packages (from qiskit_nature) (1.2.2)\n",
      "Requirement already satisfied: h5py in /usr/local/lib/python3.10/dist-packages (from qiskit_nature) (3.8.0)\n",
      "Requirement already satisfied: rustworkx in /usr/local/lib/python3.10/dist-packages (from qiskit_nature) (0.12.1)\n",
      "Requirement already satisfied: scipy>=1.4 in /usr/local/lib/python3.10/dist-packages (from qiskit_nature) (1.10.1)\n",
      "Requirement already satisfied: setuptools>=40.1.0 in /usr/local/lib/python3.10/dist-packages (from qiskit_nature) (67.7.2)\n",
      "Requirement already satisfied: sympy>=1.3 in /usr/local/lib/python3.10/dist-packages (from qiskit-terra>=0.23->qiskit_nature) (1.11.1)\n",
      "Requirement already satisfied: dill>=0.3 in /usr/local/lib/python3.10/dist-packages (from qiskit-terra>=0.23->qiskit_nature) (0.3.6)\n",
      "Requirement already satisfied: ply>=3.10 in /usr/local/lib/python3.10/dist-packages (from qiskit-terra>=0.23->qiskit_nature) (3.11)\n",
      "Requirement already satisfied: symengine<0.10,>=0.9 in /usr/local/lib/python3.10/dist-packages (from qiskit-terra>=0.23->qiskit_nature) (0.9.2)\n",
      "Requirement already satisfied: stevedore>=3.0.0 in /usr/local/lib/python3.10/dist-packages (from qiskit-terra>=0.23->qiskit_nature) (5.0.0)\n",
      "Requirement already satisfied: python-dateutil>=2.8.0 in /usr/local/lib/python3.10/dist-packages (from qiskit-terra>=0.23->qiskit_nature) (2.8.2)\n",
      "Requirement already satisfied: joblib>=1.1.1 in /usr/local/lib/python3.10/dist-packages (from scikit-learn>=0.20.0->qiskit_nature) (1.2.0)\n",
      "Requirement already satisfied: threadpoolctl>=2.0.0 in /usr/local/lib/python3.10/dist-packages (from scikit-learn>=0.20.0->qiskit_nature) (3.1.0)\n",
      "Requirement already satisfied: six>=1.5 in /usr/local/lib/python3.10/dist-packages (from python-dateutil>=2.8.0->qiskit-terra>=0.23->qiskit_nature) (1.16.0)\n",
      "Requirement already satisfied: pbr!=2.1.0,>=2.0.0 in /usr/local/lib/python3.10/dist-packages (from stevedore>=3.0.0->qiskit-terra>=0.23->qiskit_nature) (5.11.1)\n",
      "Requirement already satisfied: mpmath>=0.19 in /usr/local/lib/python3.10/dist-packages (from sympy>=1.3->qiskit-terra>=0.23->qiskit_nature) (1.3.0)\n",
      "Looking in indexes: https://pypi.org/simple, https://us-python.pkg.dev/colab-wheels/public/simple/\n",
      "Requirement already satisfied: pyscf in /usr/local/lib/python3.10/dist-packages (2.2.1)\n",
      "Requirement already satisfied: scipy!=1.5.0,!=1.5.1 in /usr/local/lib/python3.10/dist-packages (from pyscf) (1.10.1)\n",
      "Requirement already satisfied: numpy!=1.16,!=1.17,>=1.13 in /usr/local/lib/python3.10/dist-packages (from pyscf) (1.22.4)\n",
      "Requirement already satisfied: h5py>=2.7 in /usr/local/lib/python3.10/dist-packages (from pyscf) (3.8.0)\n",
      "Looking in indexes: https://pypi.org/simple, https://us-python.pkg.dev/colab-wheels/public/simple/\n",
      "Requirement already satisfied: pyscf[all] in /usr/local/lib/python3.10/dist-packages (2.2.1)\n",
      "Requirement already satisfied: numpy!=1.16,!=1.17,>=1.13 in /usr/local/lib/python3.10/dist-packages (from pyscf[all]) (1.22.4)\n",
      "Requirement already satisfied: h5py>=2.7 in /usr/local/lib/python3.10/dist-packages (from pyscf[all]) (3.8.0)\n",
      "Requirement already satisfied: scipy!=1.5.0,!=1.5.1 in /usr/local/lib/python3.10/dist-packages (from pyscf[all]) (1.10.1)\n",
      "Collecting pyscf-semiempirical\n",
      "  Downloading pyscf-semiempirical-0.1.0.tar.gz (20 kB)\n",
      "  Preparing metadata (setup.py) ... \u001b[?25l\u001b[?25hdone\n",
      "Collecting geometric>=0.9.7.2\n",
      "  Using cached geometric-1.0.tar.gz (347 kB)\n",
      "  Preparing metadata (setup.py) ... \u001b[?25l\u001b[?25hdone\n",
      "Collecting pyberny>=0.6.2\n",
      "  Using cached pyberny-0.6.3-py3-none-any.whl (27 kB)\n",
      "Collecting pyscf[all]\n",
      "  Using cached pyscf-2.2.0-cp310-cp310-manylinux_2_12_x86_64.manylinux2010_x86_64.whl (45.6 MB)\n",
      "Collecting pyscf-dftd3\n",
      "  Using cached pyscf-dftd3-0.0.2.tar.gz (10 kB)\n",
      "  Preparing metadata (setup.py) ... \u001b[?25l\u001b[?25hdone\n",
      "Collecting pyscf[all]\n",
      "  Using cached pyscf-2.1.1-cp310-cp310-manylinux_2_12_x86_64.manylinux2010_x86_64.whl (38.2 MB)\n",
      "  Using cached pyscf-2.1.0-cp310-cp310-manylinux_2_12_x86_64.manylinux2010_x86_64.whl (38.2 MB)\n",
      "  Using cached pyscf-2.0.1.tar.gz (7.7 MB)\n",
      "  Preparing metadata (setup.py) ... \u001b[?25l\u001b[?25hdone\n",
      "Collecting pyscf-qsdopt\n",
      "  Using cached pyscf-qsdopt-0.1.0.tar.gz (10 kB)\n",
      "  Preparing metadata (setup.py) ... \u001b[?25l\u001b[?25hdone\n",
      "Collecting pyscf[all]\n",
      "  Using cached pyscf-2.0.0.tar.gz (7.7 MB)\n",
      "  Preparing metadata (setup.py) ... \u001b[?25l\u001b[?25hdone\n",
      "  Using cached pyscf-1.7.6.tar.gz (7.7 MB)\n",
      "  \u001b[1;31merror\u001b[0m: \u001b[1msubprocess-exited-with-error\u001b[0m\n",
      "  \n",
      "  \u001b[31m×\u001b[0m \u001b[32mpython setup.py egg_info\u001b[0m did not run successfully.\n",
      "  \u001b[31m│\u001b[0m exit code: \u001b[1;36m1\u001b[0m\n",
      "  \u001b[31m╰─>\u001b[0m See above for output.\n",
      "  \n",
      "  \u001b[1;35mnote\u001b[0m: This error originates from a subprocess, and is likely not a problem with pip.\n",
      "  Preparing metadata (setup.py) ... \u001b[?25l\u001b[?25herror\n",
      "\u001b[1;31merror\u001b[0m: \u001b[1mmetadata-generation-failed\u001b[0m\n",
      "\n",
      "\u001b[31m×\u001b[0m Encountered error while generating package metadata.\n",
      "\u001b[31m╰─>\u001b[0m See above for output.\n",
      "\n",
      "\u001b[1;35mnote\u001b[0m: This is an issue with the package mentioned above, not pip.\n",
      "\u001b[1;36mhint\u001b[0m: See above for details.\n"
     ]
    }
   ],
   "source": [
    "!pip install qiskit\n",
    "!pip install qiskit_nature\n",
    "!pip install --prefer-binary pyscf\n",
    "!pip install pyscf[all]\n",
    "# testing blablabla\n",
    "from qiskit_nature.drivers import Molecule\n",
    "from qiskit_nature.drivers.second_quantization import (\n",
    "    ElectronicStructureMoleculeDriver, ElectronicStructureDriverType)\n",
    "\n",
    "# Define the molecule \n",
    "molecule = Molecule(\n",
    "    # Coordinates in Angstrom \n",
    "    geometry= [\n",
    "        [\"H\", [0.0,0.0,0.0]], \n",
    "        [\"H\", [0.0,0.0,0.75]]\n",
    "    ]    \n",
    ")\n",
    "\n",
    "# Define the driver \n",
    "driver = ElectronicStructureMoleculeDriver(\n",
    "    molecule=molecule,\n",
    "    basis=\"sto3g\",\n",
    "    driver_type = ElectronicStructureDriverType.PYSCF\n",
    ")\n",
    "\n",
    "# Run the driver\n",
    "properties = driver.run()"
   ]
  },
  {
   "cell_type": "markdown",
   "metadata": {
    "id": "0eWjjHMknl5y"
   },
   "source": [
    "We can call the properties of the generated molecule using the `get_property` function of the driver. "
   ]
  },
  {
   "cell_type": "code",
   "execution_count": 2,
   "metadata": {
    "colab": {
     "base_uri": "https://localhost:8080/"
    },
    "id": "r2ZhOIfUnl5z",
    "outputId": "82c5513e-33d2-492f-b686-63360a8f72b5"
   },
   "outputs": [
    {
     "name": "stdout",
     "output_type": "stream",
     "text": [
      "Total number of electrons in the system:  2\n",
      "Total number of spin orbitals:  4\n"
     ]
    }
   ],
   "source": [
    "# Examples for the properties \n",
    "\n",
    "# Totale number of electrons in the system\n",
    "num_particles = properties.get_property(\"ParticleNumber\").num_particles\n",
    "print('Total number of electrons in the system: ', sum(num_particles))\n",
    "\n",
    "# Number of spin orbitals \n",
    "num_spin_orbitals = properties.get_property(\"ParticleNumber\").num_spin_orbitals\n",
    "print('Total number of spin orbitals: ', num_spin_orbitals)\n"
   ]
  },
  {
   "cell_type": "markdown",
   "metadata": {
    "id": "1pDXwUYXnl5z"
   },
   "source": [
    "Note, that each atom contributes one orbital with two possible spins ($\\uparrow$ and $\\downarrow$), which results in four different spin orbitals to be considered (see section 5.5.1 of the manual)."
   ]
  },
  {
   "cell_type": "markdown",
   "metadata": {
    "id": "ywGjRxk-nl50"
   },
   "source": [
    "#### 1.2 Electronic structure problem and second quantization"
   ]
  },
  {
   "cell_type": "markdown",
   "metadata": {
    "id": "2t9Hn79_nl50"
   },
   "source": [
    "Next we create an `ElectronicStructureProblem` from the driver. The problem mainly contains the corresponding Hamiltonian (given in equation (8) of the manual) in a form that makes it accessible for the next steps. \n",
    "Using the `second_q_ops` function of the object we obtain the second-quantization fermionic Hamiltonian, which is given in equation (12) of the manual. Note, that the numerical solutions of the corresponding integrals (equation (13)) are precalculated and embedded into Qiskit package. \n",
    "We aim for the eigenvalues of this Hamiltonian, which give a good approximation to the ground state energy of the molecule."
   ]
  },
  {
   "cell_type": "code",
   "execution_count": 3,
   "metadata": {
    "colab": {
     "base_uri": "https://localhost:8080/"
    },
    "id": "ag6y1PVanl50",
    "outputId": "38bdeedb-2537-4adc-b8b0-55b574f10299"
   },
   "outputs": [
    {
     "name": "stdout",
     "output_type": "stream",
     "text": [
      "Fermionic Operator\n",
      "register length=4, number terms=36\n",
      "  -1.2472845052236154 * ( +_0 -_0 )\n",
      "+ -0.4812729310959834 * ( +_1 -_1 )\n",
      "+ -1.2472845052236154 * ( +_2 -_2 )\n",
      "+ -0.4812729310959834 * ( +_3 -_3 )\n",
      "+ -0.33642397347431446 * ( +_0 +_0 -_0 -_0 )\n",
      "+ -0.09 ...\n"
     ]
    }
   ],
   "source": [
    "from qiskit_nature.problems.second_quantization import ElectronicStructureProblem\n",
    "\n",
    "# Define the problem using the driver\n",
    "problem = ElectronicStructureProblem(driver)\n",
    "\n",
    "# Generate the second-quantized operators\n",
    "second_q_ops = problem.second_q_ops()\n",
    "\n",
    "# Get the Hamiltonian\n",
    "hamiltonian = second_q_ops['ElectronicEnergy']\n",
    "\n",
    "# Print the Hamiltonain\n",
    "print(hamiltonian)\n"
   ]
  },
  {
   "cell_type": "markdown",
   "metadata": {
    "id": "VR2gtdi1nl50"
   },
   "source": [
    "#### 1.3 Mapping/Qubit converter"
   ]
  },
  {
   "cell_type": "markdown",
   "metadata": {
    "id": "PKCYQPKAnl51"
   },
   "source": [
    "In order to map the problem onto the hardware of the quantum computer (qubits and gates) there are different mappings provided by Qiskit. \n",
    "For now we will stick with the `JordanWignerMapper`, which uses a simple correspondence: One qubit represents a spin-orbital in the molecule. See section 5.3.1 of the manual for more details."
   ]
  },
  {
   "cell_type": "code",
   "execution_count": 4,
   "metadata": {
    "id": "pevIaes6nl51"
   },
   "outputs": [],
   "source": [
    "from qiskit_nature.mappers.second_quantization import JordanWignerMapper\n",
    "from qiskit_nature.converters.second_quantization import QubitConverter\n",
    "\n",
    "# Set the mapper\n",
    "mapper = JordanWignerMapper()\n",
    "\n",
    "# Set the converter without two qubit reduction\n",
    "converter = QubitConverter(mapper = mapper, two_qubit_reduction = False)\n",
    "\n",
    "# Map the fermionic Hamiltonian onto the qubit Hamiltonian\n",
    "num_particles = problem.num_particles\n",
    "qubit_op = converter.convert(hamiltonian, num_particles = num_particles)\n"
   ]
  },
  {
   "cell_type": "markdown",
   "metadata": {
    "id": "4wosyDc_nl51"
   },
   "source": [
    "Note, that the mapping of the fermionic Hamiltonian onto the qubit Hamiltonian using the `QubitConverter` requires the number of particles of the problem, which we can obtain from our `problem` object as described earlier."
   ]
  },
  {
   "cell_type": "markdown",
   "metadata": {
    "id": "bkbVSh0Tnl51"
   },
   "source": [
    "#### 1.4 Initial state & Ansatz"
   ]
  },
  {
   "cell_type": "markdown",
   "metadata": {
    "id": "hWAU4IHwnl52"
   },
   "source": [
    "Next we want to set up the VQE, as presented in section 5.4.1 of the manual. We want to use a initial/reference state $\\ket{\\Psi_{\\mathrm{init}}}$ as a starting point for the optimization. Often in chemisty, a good candidate for this inital state is the Hartree-Fock state, which is provided by Qiskit and can be obtained from the number of particles and spin-orbitals as follows:"
   ]
  },
  {
   "cell_type": "code",
   "execution_count": 5,
   "metadata": {
    "colab": {
     "base_uri": "https://localhost:8080/"
    },
    "id": "RYLMPNURnl52",
    "outputId": "1cfdd985-2445-4525-a2db-5f30ae6da5a7"
   },
   "outputs": [
    {
     "name": "stdout",
     "output_type": "stream",
     "text": [
      "     ┌───┐\n",
      "q_0: ┤ X ├\n",
      "     └───┘\n",
      "q_1: ─────\n",
      "     ┌───┐\n",
      "q_2: ┤ X ├\n",
      "     └───┘\n",
      "q_3: ─────\n",
      "          \n"
     ]
    }
   ],
   "source": [
    "from qiskit_nature.circuit.library import HartreeFock\n",
    "\n",
    "# Get the number of particles and spin-orbitals\n",
    "num_spin_orbitals = problem.num_spin_orbitals\n",
    "num_particles = problem.num_particles\n",
    "\n",
    "# Get the Hatree-Fock state\n",
    "init_state = HartreeFock(num_spin_orbitals, num_particles, converter)\n",
    "\n",
    "# Print the initial state \n",
    "print(init_state)"
   ]
  },
  {
   "cell_type": "markdown",
   "metadata": {
    "id": "sbf8rzWYnl53"
   },
   "source": [
    "In the case of Hydrogen the Hartree-Fock state is generated by the circuit $U_{\\mathrm{init}} = X_0 X_2$. Remember, that a quantum computer initializes its qubits into the state $\\ket{0}$. By applying the two $X$-gates, we end up with the state $\\ket{1010}$. Note, that the difference between this state and the one given in equation (45) of the manual is due to a different numbering of the corresponding orbitals. \n",
    "This shows, that it will become important to translate the results of the VQE back into a definitive notation."
   ]
  },
  {
   "cell_type": "markdown",
   "metadata": {
    "id": "wnnZbkS_nl53"
   },
   "source": [
    "An important choice is the quantum circuit, which is used to approximate the ground state during the VQE routine. This circuit is called the Ansatz (see sections 5.4.1 and 5.4.2 of the manual for more details). Qiskit contains many different Ansätze. A bunch of them is discussed in section 5.4.2 of the manual. For now we stick with the UCCSD-Ansatz. "
   ]
  },
  {
   "cell_type": "code",
   "execution_count": 6,
   "metadata": {
    "colab": {
     "base_uri": "https://localhost:8080/"
    },
    "id": "9j-iXnhEnl53",
    "outputId": "70e86799-551c-4ce5-d917-535e3caf8b2a"
   },
   "outputs": [
    {
     "name": "stdout",
     "output_type": "stream",
     "text": [
      "     ┌─────────────────────────────┐\n",
      "q_0: ┤0                            ├\n",
      "     │                             │\n",
      "q_1: ┤1                            ├\n",
      "     │  EvolvedOps(t[0],t[1],t[2]) │\n",
      "q_2: ┤2                            ├\n",
      "     │                             │\n",
      "q_3: ┤3                            ├\n",
      "     └─────────────────────────────┘\n"
     ]
    }
   ],
   "source": [
    "from qiskit_nature.circuit.library import UCCSD\n",
    "\n",
    "ansatz = UCCSD(converter,\n",
    "                num_particles,\n",
    "                num_spin_orbitals,\n",
    "                initial_state=init_state)\n",
    "\n",
    "print(ansatz)"
   ]
  },
  {
   "cell_type": "markdown",
   "metadata": {
    "id": "ItG05eAmnl53"
   },
   "source": [
    "Note: We did not pass the actual Hamiltonian to the function that generates the Ansatz. Instead, we need to pass the mapping we have choosen (which is given by the `converter`), as well as the number of particles and the number of spin orbitals. In addition, we pass the initial state, which gets embedded into the Ansatz circuit. This initial state contains some information about the molecular system. "
   ]
  },
  {
   "cell_type": "markdown",
   "metadata": {
    "id": "OT1k7Qilnl53"
   },
   "source": [
    "#### 1.5 Backend"
   ]
  },
  {
   "cell_type": "markdown",
   "metadata": {
    "id": "alOJinzvnl53"
   },
   "source": [
    "We need to specify the simulator (or device) to run the algorithm. We will for now stick with the `statevector_simulator`, which you already know from the first notebook."
   ]
  },
  {
   "cell_type": "code",
   "execution_count": 7,
   "metadata": {
    "id": "TlfG_KSunl53"
   },
   "outputs": [],
   "source": [
    "from qiskit import Aer\n",
    "\n",
    "backend =  Aer.get_backend(\"statevector_simulator\")\n"
   ]
  },
  {
   "cell_type": "markdown",
   "metadata": {
    "id": "vr5XKclAnl53"
   },
   "source": [
    "#### 1.6 Optimizer"
   ]
  },
  {
   "cell_type": "markdown",
   "metadata": {
    "id": "v8wzstf7nl53"
   },
   "source": [
    "The optimizer is the classical part of the VQE. It optimizes the the parameters of the ansatz and hence it is very important for the performance, especially for the energy convergence. It thus defines the number of measurements that have to be performed on the quantum hardware.\n",
    "A clever choice might drastically reduce the number of needed energy evaluations.\n",
    "\n",
    "Qiskit provides many different optimizers. Some of them are explained in section 5.4.3 of the manual. For now we choose the SLSQP optimizer and limit the number of iterations to 10. Note, that this keeps the time for the computation on an acceptable level."
   ]
  },
  {
   "cell_type": "code",
   "execution_count": 8,
   "metadata": {
    "id": "gXg8u944nl54"
   },
   "outputs": [],
   "source": [
    "from qiskit.algorithms.optimizers import SLSQP\n",
    "\n",
    "optimizer = SLSQP(maxiter=10)"
   ]
  },
  {
   "cell_type": "markdown",
   "metadata": {
    "id": "T2VrPMkrnl54"
   },
   "source": [
    "#### 1.7 VQE"
   ]
  },
  {
   "cell_type": "markdown",
   "metadata": {
    "id": "yvJBYr7xnl54"
   },
   "source": [
    "After all the preparations are done, we can import the VQE class and run the algorithm on the simulator. Therefore we need to pass our Ansatz circuit, the choosen optimizer, and our backend to generate a `VQE` object. Next, we use the `compute_minimum_eigenvalue` function of this object, to obtain the ground state energy. Therefore the qubit Hamiltonian is required. \n",
    "\n",
    "The result of the calculation contains information about the minimal eigenvalue and the corresponding eigenstate. For this experiment, we are interested in the minimal eigenvalue, as this yields the ground state energy."
   ]
  },
  {
   "cell_type": "code",
   "execution_count": 9,
   "metadata": {
    "colab": {
     "base_uri": "https://localhost:8080/"
    },
    "id": "tOD33LVxnl54",
    "outputId": "c3d2661e-0df1-4dc2-959a-887c1f5515f3"
   },
   "outputs": [
    {
     "name": "stderr",
     "output_type": "stream",
     "text": [
      "<ipython-input-9-bdd1068372a9>:4: DeprecationWarning: The class ``qiskit.algorithms.minimum_eigen_solvers.vqe.VQE`` is deprecated as of qiskit-terra 0.24.0. It will be removed no earlier than 3 months after the release date. Instead, use the class ``qiskit.algorithms.minimum_eigensolvers.VQE``. See https://qisk.it/algo_migration for a migration guide.\n",
      "  vqe = VQE(ansatz, optimizer, quantum_instance=backend)\n"
     ]
    },
    {
     "name": "stdout",
     "output_type": "stream",
     "text": [
      "{   'aux_operator_eigenvalues': None,\n",
      "    'cost_function_evals': 10,\n",
      "    'eigenstate': array([-1.17756934e-16-3.98986399e-17j,  1.17756922e-16-2.59322570e-16j,\n",
      "        4.85722573e-17-2.62155712e-16j, -6.99181798e-17-2.77555756e-17j,\n",
      "        1.96261569e-17-1.50920942e-16j,  9.93414618e-01-1.13168122e-15j,\n",
      "       -1.96077724e-08+2.40125959e-24j,  8.90417005e-17-1.38777878e-16j,\n",
      "        2.66418418e-17+7.45931095e-17j, -9.36658780e-08-7.72779825e-17j,\n",
      "       -1.14574849e-01+1.40313722e-17j, -8.21845329e-17+6.16297582e-33j,\n",
      "        0.00000000e+00+1.90819582e-17j,  0.00000000e+00-3.11685091e-17j,\n",
      "       -1.96261537e-17-6.58941545e-17j,  1.04263952e-16-5.55111512e-17j]),\n",
      "    'eigenvalue': (-1.8426866818474315+0j),\n",
      "    'optimal_circuit': None,\n",
      "    'optimal_parameters': {   ParameterVectorElement(t[1]): 9.366587782595131e-08,\n",
      "                              ParameterVectorElement(t[2]): 0.1148270195981741,\n",
      "                              ParameterVectorElement(t[0]): 1.960777240603187e-08},\n",
      "    'optimal_point': array([1.96077724e-08, 9.36658778e-08, 1.14827020e-01]),\n",
      "    'optimal_value': -1.8426866818474315,\n",
      "    'optimizer_evals': None,\n",
      "    'optimizer_result': None,\n",
      "    'optimizer_time': 0.280566930770874}\n"
     ]
    }
   ],
   "source": [
    "from qiskit.algorithms import VQE\n",
    "\n",
    "# Run the VQE\n",
    "vqe = VQE(ansatz, optimizer, quantum_instance=backend)\n",
    "vqe_calc = vqe.compute_minimum_eigenvalue(qubit_op)\n",
    "\n",
    "print(vqe_calc)"
   ]
  },
  {
   "cell_type": "markdown",
   "metadata": {
    "id": "UHZUmT9Hnl55"
   },
   "source": [
    "Once the VQE is finished, we can extract the wanted information from the results. We are particularly interested in ground state energy. The solution contains the purely electronic ground state energy and using the `problem` object generated by the `driver` we can also obtain the total ground state energy. "
   ]
  },
  {
   "cell_type": "code",
   "execution_count": 10,
   "metadata": {
    "colab": {
     "base_uri": "https://localhost:8080/"
    },
    "id": "VMO6uemcnl55",
    "outputId": "2977a1df-c173-4640-8c37-f91e444e3662"
   },
   "outputs": [
    {
     "name": "stdout",
     "output_type": "stream",
     "text": [
      "Electronic ground state energy (Hatree):  -1.8426866818474315\n",
      "Total ground state energy (Hatree):  -1.1371170672874316\n"
     ]
    }
   ],
   "source": [
    "result_vqe_electronic_ground_state = vqe_calc.optimal_value\n",
    "print('Electronic ground state energy (Hatree): ', result_vqe_electronic_ground_state)\n",
    "\n",
    "result_vqe_total_ground_state = problem.interpret(vqe_calc).total_energies[0].real\n",
    "print('Total ground state energy (Hatree): ', result_vqe_total_ground_state)"
   ]
  },
  {
   "cell_type": "markdown",
   "metadata": {
    "id": "We0MEMfvnl55"
   },
   "source": [
    "With this, we have successfully determined the ground state energy of $\\mathrm{H}_2$ using the VQE."
   ]
  },
  {
   "cell_type": "markdown",
   "metadata": {
    "id": "L6tiGoSqnl55"
   },
   "source": [
    "### 2. Exact eigensolver"
   ]
  },
  {
   "cell_type": "markdown",
   "metadata": {
    "id": "ojp7U5q5nl55"
   },
   "source": [
    "For learning purposes, we can solve the $\\rm{H}_2$ problem exactly with the exact diagonalization of the Hamiltonian matrix. Note that the dimensions of this matrix scale exponentially in the number of molecular orbitals. For larger systems one would quickly run out of memory trying to store their wavefunctions.\n",
    "\n",
    "We use the following eigensolver:"
   ]
  },
  {
   "cell_type": "code",
   "execution_count": 11,
   "metadata": {
    "colab": {
     "base_uri": "https://localhost:8080/"
    },
    "id": "K-QcH38Mnl56",
    "outputId": "4139cdb6-b056-4f9f-effd-c35fe1ea1bad"
   },
   "outputs": [
    {
     "name": "stderr",
     "output_type": "stream",
     "text": [
      "<ipython-input-11-3e00204243a4>:1: NatureDeprecationWarning: The qiskit_nature.algorithms.excited_state_solvers package is deprecated as of version 0.5.0 and will be removed no sooner than 3 months after the release. Instead use the qiskit_nature.second_q.algorithms.excited_state_solvers package.\n",
      "  from qiskit_nature.algorithms import (GroundStateEigensolver,\n",
      "<ipython-input-11-3e00204243a4>:1: NatureDeprecationWarning: The qiskit_nature.algorithms.pes_sampler package is deprecated as of version 0.5.0 and will be removed no sooner than 3 months after the release . Please refer to 'https://github.com/Qiskit/qiskit-nature/issues/750' for additional information regarding 'extrapolators'.\n",
      "  from qiskit_nature.algorithms import (GroundStateEigensolver,\n"
     ]
    }
   ],
   "source": [
    "from qiskit_nature.algorithms import (GroundStateEigensolver,\n",
    "                                      NumPyMinimumEigensolverFactory)\n",
    "\n",
    "def exact_solver(problem, converter):\n",
    "    solver = NumPyMinimumEigensolverFactory()\n",
    "    calc = GroundStateEigensolver(converter, solver)\n",
    "    result = calc.solve(problem)\n",
    "    return result"
   ]
  },
  {
   "cell_type": "markdown",
   "metadata": {
    "id": "RqhHhj6Ynl57"
   },
   "source": [
    "Note, that the result of the solver is the same type of object as the result of the VQE. Hence we can extract the information the same way."
   ]
  },
  {
   "cell_type": "code",
   "execution_count": 12,
   "metadata": {
    "colab": {
     "base_uri": "https://localhost:8080/"
    },
    "id": "M84B8Baznl57",
    "outputId": "5d2c6feb-9ae1-4927-cdb7-0d68c723e859"
   },
   "outputs": [
    {
     "name": "stderr",
     "output_type": "stream",
     "text": [
      "<ipython-input-11-3e00204243a4>:6: NatureDeprecationWarning: The qiskit_nature.algorithms.ground_state_solvers.GroundStateEigensolver class is deprecated as of version 0.5.0 and will be removed no sooner than 3 months after the release. Instead use the qiskit_nature.second_q.algorithms.ground_state_solvers.GroundStateEigensolver class.\n",
      "  calc = GroundStateEigensolver(converter, solver)\n"
     ]
    },
    {
     "name": "stdout",
     "output_type": "stream",
     "text": [
      "Electronic ground state energy (Hatree):  -1.8426866819057315\n",
      "Total ground state energy (Hatree):  -1.1371170673457316\n"
     ]
    }
   ],
   "source": [
    "result_exact = exact_solver(problem,converter)\n",
    "\n",
    "result_exact_electronic_ground_state = result_exact.eigenenergies[0]\n",
    "print('Electronic ground state energy (Hatree): ', result_exact_electronic_ground_state)\n",
    "\n",
    "result_exact_total_ground_state = result_exact.total_energies[0].real\n",
    "print('Total ground state energy (Hatree): ', result_exact_total_ground_state)"
   ]
  },
  {
   "cell_type": "markdown",
   "metadata": {
    "id": "t5OEe9jdnl57"
   },
   "source": [
    "Lets compare with the VQE:"
   ]
  },
  {
   "cell_type": "code",
   "execution_count": 13,
   "metadata": {
    "colab": {
     "base_uri": "https://localhost:8080/"
    },
    "id": "Uyydzudpnl57",
    "outputId": "b792de57-33c8-491a-cb05-55f8e97ea3d7"
   },
   "outputs": [
    {
     "name": "stdout",
     "output_type": "stream",
     "text": [
      "Error for the electrontic ground state (Hartree):  5.830003146911622e-11\n",
      "Error for the electrontic ground state (Hartree):  5.830003146911622e-11\n"
     ]
    }
   ],
   "source": [
    "error_electronic = abs(result_exact_electronic_ground_state - result_vqe_electronic_ground_state)\n",
    "print('Error for the electrontic ground state (Hartree): ', error_electronic)\n",
    "\n",
    "error_total = abs(result_exact_total_ground_state - result_vqe_total_ground_state)\n",
    "print('Error for the electrontic ground state (Hartree): ', error_total)"
   ]
  },
  {
   "cell_type": "markdown",
   "metadata": {
    "id": "rTMasBIMnl57"
   },
   "source": [
    "We see that the error is very small using `state_vector_simulator`. The reason is, that the way we implemented the simulation we forced the VQE to run in `matrix` mode. This means, that the expectation value of $H$ on $\\ket{\\psi(\\theta)}$ is directly cacluated via matrix mulitplication. However, using an acutal quantum device, or a simulator which also simulates the measurement such as the `aer_simulator`, the calculation of the expectation value is more complicated and error-prone. This leads to less accurate results."
   ]
  },
  {
   "cell_type": "markdown",
   "metadata": {
    "id": "vyWqiPOBnl58"
   },
   "source": [
    "### 3. Using the Aer simulator"
   ]
  },
  {
   "cell_type": "markdown",
   "metadata": {
    "id": "MQTBdmrunl58"
   },
   "source": [
    "We now want to replace the `state_vector_simulator` by the `aer_simulator`. In addition we want to implement some functions, which we can use from now on to spare programming work. We will also see, how we can keep track of the convergence of the algorithm in combination with the `aer_simulator`."
   ]
  },
  {
   "cell_type": "markdown",
   "metadata": {
    "id": "wbwJYAe0nl58"
   },
   "source": [
    "#### 3.1 Creating the qubit Hamiltonian"
   ]
  },
  {
   "cell_type": "markdown",
   "metadata": {
    "id": "MDRQI5oonl58"
   },
   "source": [
    "We write a function to generate the qubit operator for the $\\rm{H}_2$ molecule for a given interatomic distance. The function also returns all the other objects, which we need for the VQE.\n",
    "\n",
    "**Task**: \n",
    "\n",
    "Complete the Python Code below in order to obtain the function. In the function, the steps from section 1 should be summarized, which are necessary to obtain the qubit Hamiltonian. It should return qubit_op, num_particles, num_spin_orbitals, problem and converter. "
   ]
  },
  {
   "cell_type": "code",
   "execution_count": 14,
   "metadata": {
    "id": "VlAmqh4tnl58"
   },
   "outputs": [],
   "source": [
    "def create_qubit_op(dist):\n",
    "    '''\n",
    "    Input: \n",
    "        dist: interatomic distance of the H atoms\n",
    "    Output:\n",
    "        qubit_op: Hamiltonian mapped onto the qubits\n",
    "        num_particles: total number of electrons\n",
    "        num_spin_orbitals: total number of spin orbitals\n",
    "        problem: corresponding ElectronicStructureProblem object\n",
    "        converter: QubitConverter object\n",
    "    '''\n",
    "    \n",
    "    # Define the molecule for the given distance \n",
    "    molecule = Molecule(\n",
    "    # Coordinates in Angstrom \n",
    "    geometry= [\n",
    "        [\"H\", [0.0,0.0,0.0]], \n",
    "        [\"H\", [0.0,0.0,dist]]\n",
    "    ]\n",
    "    )\n",
    "\n",
    "    # Define the driver \n",
    "    driver = ElectronicStructureMoleculeDriver(\n",
    "        molecule=molecule,\n",
    "        basis=\"sto3g\",\n",
    "        driver_type = ElectronicStructureDriverType.PYSCF\n",
    "    )\n",
    "\n",
    "    # Run the driver\n",
    "    properties = driver.run()\n",
    "\n",
    "    # Get additional properties\n",
    "    num_particles = (properties.get_property(\"ParticleNumber\").num_particles)\n",
    "    num_spin_orbitals = int(properties.get_property(\"ParticleNumber\").num_spin_orbitals)\n",
    "\n",
    "    # Define the problem using the driver\n",
    "    problem = ElectronicStructureProblem(driver)\n",
    "\n",
    "    # Generate the second-quantized operators\n",
    "    second_q_ops = problem.second_q_ops()\n",
    "\n",
    "    # Get the Hamiltonian\n",
    "    hamiltonian = second_q_ops['ElectronicEnergy']\n",
    "    \n",
    "    # Set the mapper\n",
    "    mapper = JordanWignerMapper()\n",
    "        \n",
    "\n",
    "    # Set the converter without two qubit reduction\n",
    "    converter = QubitConverter(mapper = mapper, two_qubit_reduction = False)\n",
    "\n",
    "    # Map the fermionic operators onto qubit operators \n",
    "    num_particles = problem.num_particles\n",
    "    qubit_op = converter.convert(hamiltonian, num_particles = num_particles)\n",
    "    \n",
    "    return qubit_op, num_particles, num_spin_orbitals, problem, converter"
   ]
  },
  {
   "cell_type": "markdown",
   "metadata": {
    "id": "iwT1Q1YCnl59"
   },
   "source": [
    "We use the function to generate the qubit operator for a interatomic distance of 0.75 Angstrom."
   ]
  },
  {
   "cell_type": "code",
   "execution_count": 15,
   "metadata": {
    "id": "Jf3f244wnl59"
   },
   "outputs": [],
   "source": [
    "(qubit_op, num_particles, num_spin_orbitals, problem, converter) = create_qubit_op(0.75)\n"
   ]
  },
  {
   "cell_type": "markdown",
   "metadata": {
    "id": "skwGVwkUnl59"
   },
   "source": [
    "#### 3.2 The Aer simualator "
   ]
  },
  {
   "cell_type": "markdown",
   "metadata": {
    "id": "cONA-hognl59"
   },
   "source": [
    "The `aer_simulator` is the main Qiskit Aer backend. This backend emulates execution of a quantum circuit on a real device and returns measurement counts. It includes highly configurable noise models and can even be loaded with automatically generated approximate noise models based on the calibration parameters of actual hardware devices."
   ]
  },
  {
   "cell_type": "markdown",
   "metadata": {
    "id": "MCOUQ-u1nl59"
   },
   "source": [
    "We want to use the Aer simulator without noise. To use it together with the VQE, we must create a so called `QuantumInstance` from it, which we can pass to the VQE.\n",
    "\n",
    "Note, that we use another optimizer here.\n",
    "\n",
    "**Task**:\n",
    "\n",
    "Complete the following code. The positions to add code are marked with ###. You need to define the initial state and the ansatz (use the UCCSD ansatz here). Use the variabels created by the `create_qubit_op` function."
   ]
  },
  {
   "cell_type": "code",
   "execution_count": 16,
   "metadata": {
    "colab": {
     "base_uri": "https://localhost:8080/"
    },
    "id": "sV1EQ9--nl59",
    "outputId": "de8d4e25-b899-491a-ad6b-f8f594999262"
   },
   "outputs": [
    {
     "name": "stderr",
     "output_type": "stream",
     "text": [
      "<ipython-input-16-5cf7a0ea3f49>:11: DeprecationWarning: The class ``qiskit.utils.quantum_instance.QuantumInstance`` is deprecated as of qiskit-terra 0.24.0. It will be removed no earlier than 3 months after the release date. For code migration guidelines, visit https://qisk.it/qi_migration.\n",
      "  qi = QuantumInstance(backend=backend)\n",
      "<ipython-input-16-5cf7a0ea3f49>:26: DeprecationWarning: The class ``qiskit.algorithms.minimum_eigen_solvers.vqe.VQE`` is deprecated as of qiskit-terra 0.24.0. It will be removed no earlier than 3 months after the release date. Instead, use the class ``qiskit.algorithms.minimum_eigensolvers.VQE``. See https://qisk.it/algo_migration for a migration guide.\n",
      "  vqe = VQE(ansatz, optimizer=optimizer, quantum_instance=qi)\n"
     ]
    }
   ],
   "source": [
    "from qiskit import Aer\n",
    "from qiskit.providers.aer import QasmSimulator\n",
    "from qiskit.utils import QuantumInstance\n",
    "\n",
    "from qiskit.algorithms.optimizers import SPSA\n",
    "\n",
    "# Load the aer_simulator\n",
    "backend = Aer.get_backend('aer_simulator')\n",
    "\n",
    "# Generate a QuantumInstance\n",
    "qi = QuantumInstance(backend=backend) \n",
    "\n",
    "# Get the Hatree-Fock state\n",
    "init_state = HartreeFock(num_spin_orbitals, num_particles, converter)\n",
    "\n",
    "# Define the Ansatz\n",
    "ansatz = UCCSD(converter,\n",
    "                num_particles,\n",
    "                num_spin_orbitals,\n",
    "                initial_state=init_state)\n",
    "\n",
    "# Chose the optimizer\n",
    "optimizer = SPSA(maxiter=100)\n",
    "\n",
    "# Run the VQE using the quantum instance\n",
    "vqe = VQE(ansatz, optimizer=optimizer, quantum_instance=qi)\n",
    "vqe_result = vqe.compute_minimum_eigenvalue(operator=qubit_op)"
   ]
  },
  {
   "cell_type": "markdown",
   "metadata": {
    "id": "Jt5ZsAW9nl5-"
   },
   "source": [
    "We write a short function to print the results and compare them to the exact ones."
   ]
  },
  {
   "cell_type": "code",
   "execution_count": 17,
   "metadata": {
    "id": "X9u5BZMOnl5-"
   },
   "outputs": [],
   "source": [
    "def eval_vqe_result(vqe_result,problem,converter):\n",
    "        \n",
    "    print('VQE results: ')\n",
    "    \n",
    "    # Get the VQE results     \n",
    "    vqe_electronic_ground_state = vqe_result.optimal_value\n",
    "    print('Electronic ground state energy (Ha): ', vqe_electronic_ground_state)\n",
    "\n",
    "    vqe_total_ground_state = problem.interpret(vqe_result).total_energies[0].real\n",
    "    print('Total ground state energy (Ha): ', vqe_total_ground_state)\n",
    "    \n",
    "    print('Exact results:')\n",
    "    # Get the exact results\n",
    "    result_exact = exact_solver(problem,converter)\n",
    "\n",
    "    exact_electronic_ground_state = result_exact.eigenenergies[0]\n",
    "    print('Electronic ground state energy (Ha): ', exact_electronic_ground_state)\n",
    "\n",
    "    exact_total_ground_state = result_exact.total_energies[0].real\n",
    "    print('Total ground state energy (Ha): ',exact_total_ground_state)\n",
    "    \n",
    "    print('Errors:')\n",
    "    \n",
    "    # Calculate the deviation\n",
    "    error_electronic = abs(exact_electronic_ground_state - vqe_electronic_ground_state)*1000\n",
    "    print('Error for the electrontic ground state (mHa): ', error_electronic)\n",
    "\n",
    "    error_total = abs(exact_total_ground_state - vqe_total_ground_state)*1000\n",
    "    print('Error for the electrontic ground state (mHa): ', error_total)\n",
    "    "
   ]
  },
  {
   "cell_type": "markdown",
   "metadata": {
    "id": "i2I1S64tnl5-"
   },
   "source": [
    "Lets try the function for our aer simulator results."
   ]
  },
  {
   "cell_type": "code",
   "execution_count": 18,
   "metadata": {
    "colab": {
     "base_uri": "https://localhost:8080/"
    },
    "id": "f06eB7Q0nl5-",
    "outputId": "dc7f0002-1311-4225-db6a-29ca74c2b485"
   },
   "outputs": [
    {
     "name": "stdout",
     "output_type": "stream",
     "text": [
      "VQE results: \n",
      "Electronic ground state energy (Ha):  -1.8407516504045318\n",
      "Total ground state energy (Ha):  -1.1351820358445317\n",
      "Exact results:\n",
      "Electronic ground state energy (Ha):  -1.8426866819057253\n",
      "Total ground state energy (Ha):  -1.1371170673457254\n",
      "Errors:\n",
      "Error for the electrontic ground state (mHa):  1.9350315011934516\n",
      "Error for the electrontic ground state (mHa):  1.9350315011936736\n"
     ]
    }
   ],
   "source": [
    "eval_vqe_result(vqe_result=vqe_result,problem=problem,converter=converter)"
   ]
  },
  {
   "cell_type": "markdown",
   "metadata": {
    "id": "x4nw4VQenl5_"
   },
   "source": [
    "**Task**:\n",
    "\n",
    "The error for the electronic ground state energy and the total ground state energy are equal. \n",
    "Explain briefly why this is the case."
   ]
  },
  {
   "cell_type": "markdown",
   "metadata": {
    "id": "ic2Tdvm6nl5_"
   },
   "source": [
    "The total ground state energy consists of the electronic ground state energy and the energy of the nucleus, the latter is not simulated on the quantum computer and therefore contributes no error."
   ]
  },
  {
   "cell_type": "markdown",
   "metadata": {
    "id": "NVK7Vaujnl5_"
   },
   "source": [
    "### 4. Varying the interatomic distance"
   ]
  },
  {
   "cell_type": "markdown",
   "metadata": {
    "id": "tXrUxtVrnl5_"
   },
   "source": [
    "Now we want to calcualte the ground state energy for $\\rm{H}_2$ for various interatomic distances. A driver for the molecule must be created at each distance and the VQE must be performed for each distance seperatly.\n",
    "Therefore, we use the function from 3.1 that we can subsequently call for each distance. "
   ]
  },
  {
   "cell_type": "markdown",
   "metadata": {
    "id": "Ny2JVBOJnl5_"
   },
   "source": [
    "#### 4.1 Running VQE for different distances using the statevector simulator"
   ]
  },
  {
   "cell_type": "markdown",
   "metadata": {
    "id": "gARQvIjnnl5_"
   },
   "source": [
    "To keep the computation time acceptable for many points, we use the statevector simulator again.\n",
    "\n",
    "First, the exact ground state energy is calculated using the qubit operator and a classical exact eigensolver. \n",
    "Subsequently, the initial state is created, which the VQE instance uses to produce the final ansatz. The exact result and the VQE result at each interatomic distance is stored.\n",
    "\n",
    "Note: The code may take a fwe mintues to run. "
   ]
  },
  {
   "cell_type": "code",
   "execution_count": 19,
   "metadata": {
    "colab": {
     "base_uri": "https://localhost:8080/"
    },
    "id": "akT1hiDVnl6A",
    "outputId": "d14abcc5-3cd4-4ff4-e478-b199a4abf0d4"
   },
   "outputs": [
    {
     "name": "stderr",
     "output_type": "stream",
     "text": [
      "<ipython-input-19-ffbad0c9593a>:31: DeprecationWarning: The class ``qiskit.algorithms.minimum_eigen_solvers.vqe.VQE`` is deprecated as of qiskit-terra 0.24.0. It will be removed no earlier than 3 months after the release date. Instead, use the class ``qiskit.algorithms.minimum_eigensolvers.VQE``. See https://qisk.it/algo_migration for a migration guide.\n",
      "  vqe = VQE(var_form, optimizer, quantum_instance=backend)\n"
     ]
    },
    {
     "name": "stdout",
     "output_type": "stream",
     "text": [
      "Interatomic Distance: 0.25 VQE Result: -0.31226990 Exact Energy: -0.31226990\n"
     ]
    },
    {
     "name": "stderr",
     "output_type": "stream",
     "text": [
      "<ipython-input-19-ffbad0c9593a>:31: DeprecationWarning: The class ``qiskit.algorithms.minimum_eigen_solvers.vqe.VQE`` is deprecated as of qiskit-terra 0.24.0. It will be removed no earlier than 3 months after the release date. Instead, use the class ``qiskit.algorithms.minimum_eigensolvers.VQE``. See https://qisk.it/algo_migration for a migration guide.\n",
      "  vqe = VQE(var_form, optimizer, quantum_instance=backend)\n"
     ]
    },
    {
     "name": "stdout",
     "output_type": "stream",
     "text": [
      "Interatomic Distance: 0.3 VQE Result: -0.60180371 Exact Energy: -0.60180371\n"
     ]
    },
    {
     "name": "stderr",
     "output_type": "stream",
     "text": [
      "<ipython-input-19-ffbad0c9593a>:31: DeprecationWarning: The class ``qiskit.algorithms.minimum_eigen_solvers.vqe.VQE`` is deprecated as of qiskit-terra 0.24.0. It will be removed no earlier than 3 months after the release date. Instead, use the class ``qiskit.algorithms.minimum_eigensolvers.VQE``. See https://qisk.it/algo_migration for a migration guide.\n",
      "  vqe = VQE(var_form, optimizer, quantum_instance=backend)\n"
     ]
    },
    {
     "name": "stdout",
     "output_type": "stream",
     "text": [
      "Interatomic Distance: 0.35 VQE Result: -0.78926939 Exact Energy: -0.78926939\n"
     ]
    },
    {
     "name": "stderr",
     "output_type": "stream",
     "text": [
      "<ipython-input-19-ffbad0c9593a>:31: DeprecationWarning: The class ``qiskit.algorithms.minimum_eigen_solvers.vqe.VQE`` is deprecated as of qiskit-terra 0.24.0. It will be removed no earlier than 3 months after the release date. Instead, use the class ``qiskit.algorithms.minimum_eigensolvers.VQE``. See https://qisk.it/algo_migration for a migration guide.\n",
      "  vqe = VQE(var_form, optimizer, quantum_instance=backend)\n"
     ]
    },
    {
     "name": "stdout",
     "output_type": "stream",
     "text": [
      "Interatomic Distance: 0.4 VQE Result: -0.91414970 Exact Energy: -0.91414970\n"
     ]
    },
    {
     "name": "stderr",
     "output_type": "stream",
     "text": [
      "<ipython-input-19-ffbad0c9593a>:31: DeprecationWarning: The class ``qiskit.algorithms.minimum_eigen_solvers.vqe.VQE`` is deprecated as of qiskit-terra 0.24.0. It will be removed no earlier than 3 months after the release date. Instead, use the class ``qiskit.algorithms.minimum_eigensolvers.VQE``. See https://qisk.it/algo_migration for a migration guide.\n",
      "  vqe = VQE(var_form, optimizer, quantum_instance=backend)\n"
     ]
    },
    {
     "name": "stdout",
     "output_type": "stream",
     "text": [
      "Interatomic Distance: 0.45 VQE Result: -0.99841560 Exact Energy: -0.99841560\n"
     ]
    },
    {
     "name": "stderr",
     "output_type": "stream",
     "text": [
      "<ipython-input-19-ffbad0c9593a>:31: DeprecationWarning: The class ``qiskit.algorithms.minimum_eigen_solvers.vqe.VQE`` is deprecated as of qiskit-terra 0.24.0. It will be removed no earlier than 3 months after the release date. Instead, use the class ``qiskit.algorithms.minimum_eigensolvers.VQE``. See https://qisk.it/algo_migration for a migration guide.\n",
      "  vqe = VQE(var_form, optimizer, quantum_instance=backend)\n"
     ]
    },
    {
     "name": "stdout",
     "output_type": "stream",
     "text": [
      "Interatomic Distance: 0.5 VQE Result: -1.05515979 Exact Energy: -1.05515979\n"
     ]
    },
    {
     "name": "stderr",
     "output_type": "stream",
     "text": [
      "<ipython-input-19-ffbad0c9593a>:31: DeprecationWarning: The class ``qiskit.algorithms.minimum_eigen_solvers.vqe.VQE`` is deprecated as of qiskit-terra 0.24.0. It will be removed no earlier than 3 months after the release date. Instead, use the class ``qiskit.algorithms.minimum_eigensolvers.VQE``. See https://qisk.it/algo_migration for a migration guide.\n",
      "  vqe = VQE(var_form, optimizer, quantum_instance=backend)\n"
     ]
    },
    {
     "name": "stdout",
     "output_type": "stream",
     "text": [
      "Interatomic Distance: 0.55 VQE Result: -1.09262991 Exact Energy: -1.09262991\n"
     ]
    },
    {
     "name": "stderr",
     "output_type": "stream",
     "text": [
      "<ipython-input-19-ffbad0c9593a>:31: DeprecationWarning: The class ``qiskit.algorithms.minimum_eigen_solvers.vqe.VQE`` is deprecated as of qiskit-terra 0.24.0. It will be removed no earlier than 3 months after the release date. Instead, use the class ``qiskit.algorithms.minimum_eigensolvers.VQE``. See https://qisk.it/algo_migration for a migration guide.\n",
      "  vqe = VQE(var_form, optimizer, quantum_instance=backend)\n"
     ]
    },
    {
     "name": "stdout",
     "output_type": "stream",
     "text": [
      "Interatomic Distance: 0.6 VQE Result: -1.11628601 Exact Energy: -1.11628601\n"
     ]
    },
    {
     "name": "stderr",
     "output_type": "stream",
     "text": [
      "<ipython-input-19-ffbad0c9593a>:31: DeprecationWarning: The class ``qiskit.algorithms.minimum_eigen_solvers.vqe.VQE`` is deprecated as of qiskit-terra 0.24.0. It will be removed no earlier than 3 months after the release date. Instead, use the class ``qiskit.algorithms.minimum_eigensolvers.VQE``. See https://qisk.it/algo_migration for a migration guide.\n",
      "  vqe = VQE(var_form, optimizer, quantum_instance=backend)\n"
     ]
    },
    {
     "name": "stdout",
     "output_type": "stream",
     "text": [
      "Interatomic Distance: 0.65 VQE Result: -1.12990478 Exact Energy: -1.12990478\n"
     ]
    },
    {
     "name": "stderr",
     "output_type": "stream",
     "text": [
      "<ipython-input-19-ffbad0c9593a>:31: DeprecationWarning: The class ``qiskit.algorithms.minimum_eigen_solvers.vqe.VQE`` is deprecated as of qiskit-terra 0.24.0. It will be removed no earlier than 3 months after the release date. Instead, use the class ``qiskit.algorithms.minimum_eigensolvers.VQE``. See https://qisk.it/algo_migration for a migration guide.\n",
      "  vqe = VQE(var_form, optimizer, quantum_instance=backend)\n"
     ]
    },
    {
     "name": "stdout",
     "output_type": "stream",
     "text": [
      "Interatomic Distance: 0.7 VQE Result: -1.13618945 Exact Energy: -1.13618945\n"
     ]
    },
    {
     "name": "stderr",
     "output_type": "stream",
     "text": [
      "<ipython-input-19-ffbad0c9593a>:31: DeprecationWarning: The class ``qiskit.algorithms.minimum_eigen_solvers.vqe.VQE`` is deprecated as of qiskit-terra 0.24.0. It will be removed no earlier than 3 months after the release date. Instead, use the class ``qiskit.algorithms.minimum_eigensolvers.VQE``. See https://qisk.it/algo_migration for a migration guide.\n",
      "  vqe = VQE(var_form, optimizer, quantum_instance=backend)\n"
     ]
    },
    {
     "name": "stdout",
     "output_type": "stream",
     "text": [
      "Interatomic Distance: 0.75 VQE Result: -1.13711707 Exact Energy: -1.13711707\n"
     ]
    },
    {
     "name": "stderr",
     "output_type": "stream",
     "text": [
      "<ipython-input-19-ffbad0c9593a>:31: DeprecationWarning: The class ``qiskit.algorithms.minimum_eigen_solvers.vqe.VQE`` is deprecated as of qiskit-terra 0.24.0. It will be removed no earlier than 3 months after the release date. Instead, use the class ``qiskit.algorithms.minimum_eigensolvers.VQE``. See https://qisk.it/algo_migration for a migration guide.\n",
      "  vqe = VQE(var_form, optimizer, quantum_instance=backend)\n"
     ]
    },
    {
     "name": "stdout",
     "output_type": "stream",
     "text": [
      "Interatomic Distance: 0.8 VQE Result: -1.13414767 Exact Energy: -1.13414767\n"
     ]
    },
    {
     "name": "stderr",
     "output_type": "stream",
     "text": [
      "<ipython-input-19-ffbad0c9593a>:31: DeprecationWarning: The class ``qiskit.algorithms.minimum_eigen_solvers.vqe.VQE`` is deprecated as of qiskit-terra 0.24.0. It will be removed no earlier than 3 months after the release date. Instead, use the class ``qiskit.algorithms.minimum_eigensolvers.VQE``. See https://qisk.it/algo_migration for a migration guide.\n",
      "  vqe = VQE(var_form, optimizer, quantum_instance=backend)\n"
     ]
    },
    {
     "name": "stdout",
     "output_type": "stream",
     "text": [
      "Interatomic Distance: 0.85 VQE Result: -1.12836157 Exact Energy: -1.12836188\n"
     ]
    },
    {
     "name": "stderr",
     "output_type": "stream",
     "text": [
      "<ipython-input-19-ffbad0c9593a>:31: DeprecationWarning: The class ``qiskit.algorithms.minimum_eigen_solvers.vqe.VQE`` is deprecated as of qiskit-terra 0.24.0. It will be removed no earlier than 3 months after the release date. Instead, use the class ``qiskit.algorithms.minimum_eigensolvers.VQE``. See https://qisk.it/algo_migration for a migration guide.\n",
      "  vqe = VQE(var_form, optimizer, quantum_instance=backend)\n"
     ]
    },
    {
     "name": "stdout",
     "output_type": "stream",
     "text": [
      "Interatomic Distance: 0.9 VQE Result: -1.12056013 Exact Energy: -1.12056028\n"
     ]
    },
    {
     "name": "stderr",
     "output_type": "stream",
     "text": [
      "<ipython-input-19-ffbad0c9593a>:31: DeprecationWarning: The class ``qiskit.algorithms.minimum_eigen_solvers.vqe.VQE`` is deprecated as of qiskit-terra 0.24.0. It will be removed no earlier than 3 months after the release date. Instead, use the class ``qiskit.algorithms.minimum_eigensolvers.VQE``. See https://qisk.it/algo_migration for a migration guide.\n",
      "  vqe = VQE(var_form, optimizer, quantum_instance=backend)\n"
     ]
    },
    {
     "name": "stdout",
     "output_type": "stream",
     "text": [
      "Interatomic Distance: 0.95 VQE Result: -1.11133936 Exact Energy: -1.11133942\n"
     ]
    },
    {
     "name": "stderr",
     "output_type": "stream",
     "text": [
      "<ipython-input-19-ffbad0c9593a>:31: DeprecationWarning: The class ``qiskit.algorithms.minimum_eigen_solvers.vqe.VQE`` is deprecated as of qiskit-terra 0.24.0. It will be removed no earlier than 3 months after the release date. Instead, use the class ``qiskit.algorithms.minimum_eigensolvers.VQE``. See https://qisk.it/algo_migration for a migration guide.\n",
      "  vqe = VQE(var_form, optimizer, quantum_instance=backend)\n"
     ]
    },
    {
     "name": "stdout",
     "output_type": "stream",
     "text": [
      "Interatomic Distance: 1.0 VQE Result: -1.10115032 Exact Energy: -1.10115033\n"
     ]
    },
    {
     "name": "stderr",
     "output_type": "stream",
     "text": [
      "<ipython-input-19-ffbad0c9593a>:31: DeprecationWarning: The class ``qiskit.algorithms.minimum_eigen_solvers.vqe.VQE`` is deprecated as of qiskit-terra 0.24.0. It will be removed no earlier than 3 months after the release date. Instead, use the class ``qiskit.algorithms.minimum_eigensolvers.VQE``. See https://qisk.it/algo_migration for a migration guide.\n",
      "  vqe = VQE(var_form, optimizer, quantum_instance=backend)\n"
     ]
    },
    {
     "name": "stdout",
     "output_type": "stream",
     "text": [
      "Interatomic Distance: 1.05 VQE Result: -1.09034218 Exact Energy: -1.09034218\n"
     ]
    },
    {
     "name": "stderr",
     "output_type": "stream",
     "text": [
      "<ipython-input-19-ffbad0c9593a>:31: DeprecationWarning: The class ``qiskit.algorithms.minimum_eigen_solvers.vqe.VQE`` is deprecated as of qiskit-terra 0.24.0. It will be removed no earlier than 3 months after the release date. Instead, use the class ``qiskit.algorithms.minimum_eigensolvers.VQE``. See https://qisk.it/algo_migration for a migration guide.\n",
      "  vqe = VQE(var_form, optimizer, quantum_instance=backend)\n"
     ]
    },
    {
     "name": "stdout",
     "output_type": "stream",
     "text": [
      "Interatomic Distance: 1.1 VQE Result: -1.07919294 Exact Energy: -1.07919294\n"
     ]
    },
    {
     "name": "stderr",
     "output_type": "stream",
     "text": [
      "<ipython-input-19-ffbad0c9593a>:31: DeprecationWarning: The class ``qiskit.algorithms.minimum_eigen_solvers.vqe.VQE`` is deprecated as of qiskit-terra 0.24.0. It will be removed no earlier than 3 months after the release date. Instead, use the class ``qiskit.algorithms.minimum_eigensolvers.VQE``. See https://qisk.it/algo_migration for a migration guide.\n",
      "  vqe = VQE(var_form, optimizer, quantum_instance=backend)\n"
     ]
    },
    {
     "name": "stdout",
     "output_type": "stream",
     "text": [
      "Interatomic Distance: 1.15 VQE Result: -1.06792965 Exact Energy: -1.06792966\n"
     ]
    },
    {
     "name": "stderr",
     "output_type": "stream",
     "text": [
      "<ipython-input-19-ffbad0c9593a>:31: DeprecationWarning: The class ``qiskit.algorithms.minimum_eigen_solvers.vqe.VQE`` is deprecated as of qiskit-terra 0.24.0. It will be removed no earlier than 3 months after the release date. Instead, use the class ``qiskit.algorithms.minimum_eigensolvers.VQE``. See https://qisk.it/algo_migration for a migration guide.\n",
      "  vqe = VQE(var_form, optimizer, quantum_instance=backend)\n"
     ]
    },
    {
     "name": "stdout",
     "output_type": "stream",
     "text": [
      "Interatomic Distance: 1.2 VQE Result: -1.05674074 Exact Energy: -1.05674075\n"
     ]
    },
    {
     "name": "stderr",
     "output_type": "stream",
     "text": [
      "<ipython-input-19-ffbad0c9593a>:31: DeprecationWarning: The class ``qiskit.algorithms.minimum_eigen_solvers.vqe.VQE`` is deprecated as of qiskit-terra 0.24.0. It will be removed no earlier than 3 months after the release date. Instead, use the class ``qiskit.algorithms.minimum_eigensolvers.VQE``. See https://qisk.it/algo_migration for a migration guide.\n",
      "  vqe = VQE(var_form, optimizer, quantum_instance=backend)\n"
     ]
    },
    {
     "name": "stdout",
     "output_type": "stream",
     "text": [
      "Interatomic Distance: 1.25 VQE Result: -1.04578314 Exact Energy: -1.04578314\n"
     ]
    },
    {
     "name": "stderr",
     "output_type": "stream",
     "text": [
      "<ipython-input-19-ffbad0c9593a>:31: DeprecationWarning: The class ``qiskit.algorithms.minimum_eigen_solvers.vqe.VQE`` is deprecated as of qiskit-terra 0.24.0. It will be removed no earlier than 3 months after the release date. Instead, use the class ``qiskit.algorithms.minimum_eigensolvers.VQE``. See https://qisk.it/algo_migration for a migration guide.\n",
      "  vqe = VQE(var_form, optimizer, quantum_instance=backend)\n"
     ]
    },
    {
     "name": "stdout",
     "output_type": "stream",
     "text": [
      "Interatomic Distance: 1.3 VQE Result: -1.03518626 Exact Energy: -1.03518627\n"
     ]
    },
    {
     "name": "stderr",
     "output_type": "stream",
     "text": [
      "<ipython-input-19-ffbad0c9593a>:31: DeprecationWarning: The class ``qiskit.algorithms.minimum_eigen_solvers.vqe.VQE`` is deprecated as of qiskit-terra 0.24.0. It will be removed no earlier than 3 months after the release date. Instead, use the class ``qiskit.algorithms.minimum_eigensolvers.VQE``. See https://qisk.it/algo_migration for a migration guide.\n",
      "  vqe = VQE(var_form, optimizer, quantum_instance=backend)\n"
     ]
    },
    {
     "name": "stdout",
     "output_type": "stream",
     "text": [
      "Interatomic Distance: 1.35 VQE Result: -1.02505436 Exact Energy: -1.02505436\n"
     ]
    },
    {
     "name": "stderr",
     "output_type": "stream",
     "text": [
      "<ipython-input-19-ffbad0c9593a>:31: DeprecationWarning: The class ``qiskit.algorithms.minimum_eigen_solvers.vqe.VQE`` is deprecated as of qiskit-terra 0.24.0. It will be removed no earlier than 3 months after the release date. Instead, use the class ``qiskit.algorithms.minimum_eigensolvers.VQE``. See https://qisk.it/algo_migration for a migration guide.\n",
      "  vqe = VQE(var_form, optimizer, quantum_instance=backend)\n"
     ]
    },
    {
     "name": "stdout",
     "output_type": "stream",
     "text": [
      "Interatomic Distance: 1.4 VQE Result: -1.01546825 Exact Energy: -1.01546825\n"
     ]
    },
    {
     "name": "stderr",
     "output_type": "stream",
     "text": [
      "<ipython-input-19-ffbad0c9593a>:31: DeprecationWarning: The class ``qiskit.algorithms.minimum_eigen_solvers.vqe.VQE`` is deprecated as of qiskit-terra 0.24.0. It will be removed no earlier than 3 months after the release date. Instead, use the class ``qiskit.algorithms.minimum_eigensolvers.VQE``. See https://qisk.it/algo_migration for a migration guide.\n",
      "  vqe = VQE(var_form, optimizer, quantum_instance=backend)\n"
     ]
    },
    {
     "name": "stdout",
     "output_type": "stream",
     "text": [
      "Interatomic Distance: 1.45 VQE Result: -1.00648693 Exact Energy: -1.00648693\n"
     ]
    },
    {
     "name": "stderr",
     "output_type": "stream",
     "text": [
      "<ipython-input-19-ffbad0c9593a>:31: DeprecationWarning: The class ``qiskit.algorithms.minimum_eigen_solvers.vqe.VQE`` is deprecated as of qiskit-terra 0.24.0. It will be removed no earlier than 3 months after the release date. Instead, use the class ``qiskit.algorithms.minimum_eigensolvers.VQE``. See https://qisk.it/algo_migration for a migration guide.\n",
      "  vqe = VQE(var_form, optimizer, quantum_instance=backend)\n"
     ]
    },
    {
     "name": "stdout",
     "output_type": "stream",
     "text": [
      "Interatomic Distance: 1.5 VQE Result: -0.99814935 Exact Energy: -0.99814935\n"
     ]
    },
    {
     "name": "stderr",
     "output_type": "stream",
     "text": [
      "<ipython-input-19-ffbad0c9593a>:31: DeprecationWarning: The class ``qiskit.algorithms.minimum_eigen_solvers.vqe.VQE`` is deprecated as of qiskit-terra 0.24.0. It will be removed no earlier than 3 months after the release date. Instead, use the class ``qiskit.algorithms.minimum_eigensolvers.VQE``. See https://qisk.it/algo_migration for a migration guide.\n",
      "  vqe = VQE(var_form, optimizer, quantum_instance=backend)\n"
     ]
    },
    {
     "name": "stdout",
     "output_type": "stream",
     "text": [
      "Interatomic Distance: 1.55 VQE Result: -0.99047634 Exact Energy: -0.99047634\n"
     ]
    },
    {
     "name": "stderr",
     "output_type": "stream",
     "text": [
      "<ipython-input-19-ffbad0c9593a>:31: DeprecationWarning: The class ``qiskit.algorithms.minimum_eigen_solvers.vqe.VQE`` is deprecated as of qiskit-terra 0.24.0. It will be removed no earlier than 3 months after the release date. Instead, use the class ``qiskit.algorithms.minimum_eigensolvers.VQE``. See https://qisk.it/algo_migration for a migration guide.\n",
      "  vqe = VQE(var_form, optimizer, quantum_instance=backend)\n"
     ]
    },
    {
     "name": "stdout",
     "output_type": "stream",
     "text": [
      "Interatomic Distance: 1.6 VQE Result: -0.98347273 Exact Energy: -0.98347273\n"
     ]
    },
    {
     "name": "stderr",
     "output_type": "stream",
     "text": [
      "<ipython-input-19-ffbad0c9593a>:31: DeprecationWarning: The class ``qiskit.algorithms.minimum_eigen_solvers.vqe.VQE`` is deprecated as of qiskit-terra 0.24.0. It will be removed no earlier than 3 months after the release date. Instead, use the class ``qiskit.algorithms.minimum_eigensolvers.VQE``. See https://qisk.it/algo_migration for a migration guide.\n",
      "  vqe = VQE(var_form, optimizer, quantum_instance=backend)\n"
     ]
    },
    {
     "name": "stdout",
     "output_type": "stream",
     "text": [
      "Interatomic Distance: 1.65 VQE Result: -0.97712962 Exact Energy: -0.97712962\n"
     ]
    },
    {
     "name": "stderr",
     "output_type": "stream",
     "text": [
      "<ipython-input-19-ffbad0c9593a>:31: DeprecationWarning: The class ``qiskit.algorithms.minimum_eigen_solvers.vqe.VQE`` is deprecated as of qiskit-terra 0.24.0. It will be removed no earlier than 3 months after the release date. Instead, use the class ``qiskit.algorithms.minimum_eigensolvers.VQE``. See https://qisk.it/algo_migration for a migration guide.\n",
      "  vqe = VQE(var_form, optimizer, quantum_instance=backend)\n"
     ]
    },
    {
     "name": "stdout",
     "output_type": "stream",
     "text": [
      "Interatomic Distance: 1.7 VQE Result: -0.97142669 Exact Energy: -0.97142669\n"
     ]
    },
    {
     "name": "stderr",
     "output_type": "stream",
     "text": [
      "<ipython-input-19-ffbad0c9593a>:31: DeprecationWarning: The class ``qiskit.algorithms.minimum_eigen_solvers.vqe.VQE`` is deprecated as of qiskit-terra 0.24.0. It will be removed no earlier than 3 months after the release date. Instead, use the class ``qiskit.algorithms.minimum_eigensolvers.VQE``. See https://qisk.it/algo_migration for a migration guide.\n",
      "  vqe = VQE(var_form, optimizer, quantum_instance=backend)\n"
     ]
    },
    {
     "name": "stdout",
     "output_type": "stream",
     "text": [
      "Interatomic Distance: 1.75 VQE Result: -0.96633454 Exact Energy: -0.96633454\n"
     ]
    },
    {
     "name": "stderr",
     "output_type": "stream",
     "text": [
      "<ipython-input-19-ffbad0c9593a>:31: DeprecationWarning: The class ``qiskit.algorithms.minimum_eigen_solvers.vqe.VQE`` is deprecated as of qiskit-terra 0.24.0. It will be removed no earlier than 3 months after the release date. Instead, use the class ``qiskit.algorithms.minimum_eigensolvers.VQE``. See https://qisk.it/algo_migration for a migration guide.\n",
      "  vqe = VQE(var_form, optimizer, quantum_instance=backend)\n"
     ]
    },
    {
     "name": "stdout",
     "output_type": "stream",
     "text": [
      "Interatomic Distance: 1.8 VQE Result: -0.96181666 Exact Energy: -0.96181695\n"
     ]
    },
    {
     "name": "stderr",
     "output_type": "stream",
     "text": [
      "<ipython-input-19-ffbad0c9593a>:31: DeprecationWarning: The class ``qiskit.algorithms.minimum_eigen_solvers.vqe.VQE`` is deprecated as of qiskit-terra 0.24.0. It will be removed no earlier than 3 months after the release date. Instead, use the class ``qiskit.algorithms.minimum_eigensolvers.VQE``. See https://qisk.it/algo_migration for a migration guide.\n",
      "  vqe = VQE(var_form, optimizer, quantum_instance=backend)\n"
     ]
    },
    {
     "name": "stdout",
     "output_type": "stream",
     "text": [
      "Interatomic Distance: 1.85 VQE Result: -0.95783297 Exact Energy: -0.95783297\n"
     ]
    },
    {
     "name": "stderr",
     "output_type": "stream",
     "text": [
      "<ipython-input-19-ffbad0c9593a>:31: DeprecationWarning: The class ``qiskit.algorithms.minimum_eigen_solvers.vqe.VQE`` is deprecated as of qiskit-terra 0.24.0. It will be removed no earlier than 3 months after the release date. Instead, use the class ``qiskit.algorithms.minimum_eigensolvers.VQE``. See https://qisk.it/algo_migration for a migration guide.\n",
      "  vqe = VQE(var_form, optimizer, quantum_instance=backend)\n"
     ]
    },
    {
     "name": "stdout",
     "output_type": "stream",
     "text": [
      "Interatomic Distance: 1.9 VQE Result: -0.95433885 Exact Energy: -0.95433885\n"
     ]
    },
    {
     "name": "stderr",
     "output_type": "stream",
     "text": [
      "<ipython-input-19-ffbad0c9593a>:31: DeprecationWarning: The class ``qiskit.algorithms.minimum_eigen_solvers.vqe.VQE`` is deprecated as of qiskit-terra 0.24.0. It will be removed no earlier than 3 months after the release date. Instead, use the class ``qiskit.algorithms.minimum_eigensolvers.VQE``. See https://qisk.it/algo_migration for a migration guide.\n",
      "  vqe = VQE(var_form, optimizer, quantum_instance=backend)\n"
     ]
    },
    {
     "name": "stdout",
     "output_type": "stream",
     "text": [
      "Interatomic Distance: 1.95 VQE Result: -0.95128976 Exact Energy: -0.95128976\n"
     ]
    },
    {
     "name": "stderr",
     "output_type": "stream",
     "text": [
      "<ipython-input-19-ffbad0c9593a>:31: DeprecationWarning: The class ``qiskit.algorithms.minimum_eigen_solvers.vqe.VQE`` is deprecated as of qiskit-terra 0.24.0. It will be removed no earlier than 3 months after the release date. Instead, use the class ``qiskit.algorithms.minimum_eigensolvers.VQE``. See https://qisk.it/algo_migration for a migration guide.\n",
      "  vqe = VQE(var_form, optimizer, quantum_instance=backend)\n"
     ]
    },
    {
     "name": "stdout",
     "output_type": "stream",
     "text": [
      "Interatomic Distance: 2.0 VQE Result: -0.94864111 Exact Energy: -0.94864111\n"
     ]
    },
    {
     "name": "stderr",
     "output_type": "stream",
     "text": [
      "<ipython-input-19-ffbad0c9593a>:31: DeprecationWarning: The class ``qiskit.algorithms.minimum_eigen_solvers.vqe.VQE`` is deprecated as of qiskit-terra 0.24.0. It will be removed no earlier than 3 months after the release date. Instead, use the class ``qiskit.algorithms.minimum_eigensolvers.VQE``. See https://qisk.it/algo_migration for a migration guide.\n",
      "  vqe = VQE(var_form, optimizer, quantum_instance=backend)\n"
     ]
    },
    {
     "name": "stdout",
     "output_type": "stream",
     "text": [
      "Interatomic Distance: 2.05 VQE Result: -0.94634974 Exact Energy: -0.94634974\n"
     ]
    },
    {
     "name": "stderr",
     "output_type": "stream",
     "text": [
      "<ipython-input-19-ffbad0c9593a>:31: DeprecationWarning: The class ``qiskit.algorithms.minimum_eigen_solvers.vqe.VQE`` is deprecated as of qiskit-terra 0.24.0. It will be removed no earlier than 3 months after the release date. Instead, use the class ``qiskit.algorithms.minimum_eigensolvers.VQE``. See https://qisk.it/algo_migration for a migration guide.\n",
      "  vqe = VQE(var_form, optimizer, quantum_instance=backend)\n"
     ]
    },
    {
     "name": "stdout",
     "output_type": "stream",
     "text": [
      "Interatomic Distance: 2.1 VQE Result: -0.94437468 Exact Energy: -0.94437468\n"
     ]
    },
    {
     "name": "stderr",
     "output_type": "stream",
     "text": [
      "<ipython-input-19-ffbad0c9593a>:31: DeprecationWarning: The class ``qiskit.algorithms.minimum_eigen_solvers.vqe.VQE`` is deprecated as of qiskit-terra 0.24.0. It will be removed no earlier than 3 months after the release date. Instead, use the class ``qiskit.algorithms.minimum_eigensolvers.VQE``. See https://qisk.it/algo_migration for a migration guide.\n",
      "  vqe = VQE(var_form, optimizer, quantum_instance=backend)\n"
     ]
    },
    {
     "name": "stdout",
     "output_type": "stream",
     "text": [
      "Interatomic Distance: 2.15 VQE Result: -0.94267778 Exact Energy: -0.94267779\n"
     ]
    },
    {
     "name": "stderr",
     "output_type": "stream",
     "text": [
      "<ipython-input-19-ffbad0c9593a>:31: DeprecationWarning: The class ``qiskit.algorithms.minimum_eigen_solvers.vqe.VQE`` is deprecated as of qiskit-terra 0.24.0. It will be removed no earlier than 3 months after the release date. Instead, use the class ``qiskit.algorithms.minimum_eigensolvers.VQE``. See https://qisk.it/algo_migration for a migration guide.\n",
      "  vqe = VQE(var_form, optimizer, quantum_instance=backend)\n"
     ]
    },
    {
     "name": "stdout",
     "output_type": "stream",
     "text": [
      "Interatomic Distance: 2.2 VQE Result: -0.94122403 Exact Energy: -0.94122403\n"
     ]
    },
    {
     "name": "stderr",
     "output_type": "stream",
     "text": [
      "<ipython-input-19-ffbad0c9593a>:31: DeprecationWarning: The class ``qiskit.algorithms.minimum_eigen_solvers.vqe.VQE`` is deprecated as of qiskit-terra 0.24.0. It will be removed no earlier than 3 months after the release date. Instead, use the class ``qiskit.algorithms.minimum_eigensolvers.VQE``. See https://qisk.it/algo_migration for a migration guide.\n",
      "  vqe = VQE(var_form, optimizer, quantum_instance=backend)\n"
     ]
    },
    {
     "name": "stdout",
     "output_type": "stream",
     "text": [
      "Interatomic Distance: 2.25 VQE Result: -0.93998169 Exact Energy: -0.93998171\n"
     ]
    },
    {
     "name": "stderr",
     "output_type": "stream",
     "text": [
      "<ipython-input-19-ffbad0c9593a>:31: DeprecationWarning: The class ``qiskit.algorithms.minimum_eigen_solvers.vqe.VQE`` is deprecated as of qiskit-terra 0.24.0. It will be removed no earlier than 3 months after the release date. Instead, use the class ``qiskit.algorithms.minimum_eigensolvers.VQE``. See https://qisk.it/algo_migration for a migration guide.\n",
      "  vqe = VQE(var_form, optimizer, quantum_instance=backend)\n"
     ]
    },
    {
     "name": "stdout",
     "output_type": "stream",
     "text": [
      "Interatomic Distance: 2.3 VQE Result: -0.93892237 Exact Energy: -0.93892239\n"
     ]
    },
    {
     "name": "stderr",
     "output_type": "stream",
     "text": [
      "<ipython-input-19-ffbad0c9593a>:31: DeprecationWarning: The class ``qiskit.algorithms.minimum_eigen_solvers.vqe.VQE`` is deprecated as of qiskit-terra 0.24.0. It will be removed no earlier than 3 months after the release date. Instead, use the class ``qiskit.algorithms.minimum_eigensolvers.VQE``. See https://qisk.it/algo_migration for a migration guide.\n",
      "  vqe = VQE(var_form, optimizer, quantum_instance=backend)\n"
     ]
    },
    {
     "name": "stdout",
     "output_type": "stream",
     "text": [
      "Interatomic Distance: 2.35 VQE Result: -0.93802084 Exact Energy: -0.93802086\n"
     ]
    },
    {
     "name": "stderr",
     "output_type": "stream",
     "text": [
      "<ipython-input-19-ffbad0c9593a>:31: DeprecationWarning: The class ``qiskit.algorithms.minimum_eigen_solvers.vqe.VQE`` is deprecated as of qiskit-terra 0.24.0. It will be removed no earlier than 3 months after the release date. Instead, use the class ``qiskit.algorithms.minimum_eigensolvers.VQE``. See https://qisk.it/algo_migration for a migration guide.\n",
      "  vqe = VQE(var_form, optimizer, quantum_instance=backend)\n"
     ]
    },
    {
     "name": "stdout",
     "output_type": "stream",
     "text": [
      "Interatomic Distance: 2.4 VQE Result: -0.93725491 Exact Energy: -0.93725495\n"
     ]
    },
    {
     "name": "stderr",
     "output_type": "stream",
     "text": [
      "<ipython-input-19-ffbad0c9593a>:31: DeprecationWarning: The class ``qiskit.algorithms.minimum_eigen_solvers.vqe.VQE`` is deprecated as of qiskit-terra 0.24.0. It will be removed no earlier than 3 months after the release date. Instead, use the class ``qiskit.algorithms.minimum_eigensolvers.VQE``. See https://qisk.it/algo_migration for a migration guide.\n",
      "  vqe = VQE(var_form, optimizer, quantum_instance=backend)\n"
     ]
    },
    {
     "name": "stdout",
     "output_type": "stream",
     "text": [
      "Interatomic Distance: 2.45 VQE Result: -0.93660521 Exact Energy: -0.93660526\n"
     ]
    },
    {
     "name": "stderr",
     "output_type": "stream",
     "text": [
      "<ipython-input-19-ffbad0c9593a>:31: DeprecationWarning: The class ``qiskit.algorithms.minimum_eigen_solvers.vqe.VQE`` is deprecated as of qiskit-terra 0.24.0. It will be removed no earlier than 3 months after the release date. Instead, use the class ``qiskit.algorithms.minimum_eigensolvers.VQE``. See https://qisk.it/algo_migration for a migration guide.\n",
      "  vqe = VQE(var_form, optimizer, quantum_instance=backend)\n"
     ]
    },
    {
     "name": "stdout",
     "output_type": "stream",
     "text": [
      "Interatomic Distance: 2.5 VQE Result: -0.93605486 Exact Energy: -0.93605492\n"
     ]
    },
    {
     "name": "stderr",
     "output_type": "stream",
     "text": [
      "<ipython-input-19-ffbad0c9593a>:31: DeprecationWarning: The class ``qiskit.algorithms.minimum_eigen_solvers.vqe.VQE`` is deprecated as of qiskit-terra 0.24.0. It will be removed no earlier than 3 months after the release date. Instead, use the class ``qiskit.algorithms.minimum_eigensolvers.VQE``. See https://qisk.it/algo_migration for a migration guide.\n",
      "  vqe = VQE(var_form, optimizer, quantum_instance=backend)\n"
     ]
    },
    {
     "name": "stdout",
     "output_type": "stream",
     "text": [
      "Interatomic Distance: 2.55 VQE Result: -0.93558929 Exact Energy: -0.93558937\n"
     ]
    },
    {
     "name": "stderr",
     "output_type": "stream",
     "text": [
      "<ipython-input-19-ffbad0c9593a>:31: DeprecationWarning: The class ``qiskit.algorithms.minimum_eigen_solvers.vqe.VQE`` is deprecated as of qiskit-terra 0.24.0. It will be removed no earlier than 3 months after the release date. Instead, use the class ``qiskit.algorithms.minimum_eigensolvers.VQE``. See https://qisk.it/algo_migration for a migration guide.\n",
      "  vqe = VQE(var_form, optimizer, quantum_instance=backend)\n"
     ]
    },
    {
     "name": "stdout",
     "output_type": "stream",
     "text": [
      "Interatomic Distance: 2.6 VQE Result: -0.93519594 Exact Energy: -0.93519603\n"
     ]
    },
    {
     "name": "stderr",
     "output_type": "stream",
     "text": [
      "<ipython-input-19-ffbad0c9593a>:31: DeprecationWarning: The class ``qiskit.algorithms.minimum_eigen_solvers.vqe.VQE`` is deprecated as of qiskit-terra 0.24.0. It will be removed no earlier than 3 months after the release date. Instead, use the class ``qiskit.algorithms.minimum_eigensolvers.VQE``. See https://qisk.it/algo_migration for a migration guide.\n",
      "  vqe = VQE(var_form, optimizer, quantum_instance=backend)\n"
     ]
    },
    {
     "name": "stdout",
     "output_type": "stream",
     "text": [
      "Interatomic Distance: 2.65 VQE Result: -0.93486403 Exact Energy: -0.93486413\n"
     ]
    },
    {
     "name": "stderr",
     "output_type": "stream",
     "text": [
      "<ipython-input-19-ffbad0c9593a>:31: DeprecationWarning: The class ``qiskit.algorithms.minimum_eigen_solvers.vqe.VQE`` is deprecated as of qiskit-terra 0.24.0. It will be removed no earlier than 3 months after the release date. Instead, use the class ``qiskit.algorithms.minimum_eigensolvers.VQE``. See https://qisk.it/algo_migration for a migration guide.\n",
      "  vqe = VQE(var_form, optimizer, quantum_instance=backend)\n"
     ]
    },
    {
     "name": "stdout",
     "output_type": "stream",
     "text": [
      "Interatomic Distance: 2.7 VQE Result: -0.93458430 Exact Energy: -0.93458442\n"
     ]
    },
    {
     "name": "stderr",
     "output_type": "stream",
     "text": [
      "<ipython-input-19-ffbad0c9593a>:31: DeprecationWarning: The class ``qiskit.algorithms.minimum_eigen_solvers.vqe.VQE`` is deprecated as of qiskit-terra 0.24.0. It will be removed no earlier than 3 months after the release date. Instead, use the class ``qiskit.algorithms.minimum_eigensolvers.VQE``. See https://qisk.it/algo_migration for a migration guide.\n",
      "  vqe = VQE(var_form, optimizer, quantum_instance=backend)\n"
     ]
    },
    {
     "name": "stdout",
     "output_type": "stream",
     "text": [
      "Interatomic Distance: 2.75 VQE Result: -0.93434887 Exact Energy: -0.93434899\n"
     ]
    },
    {
     "name": "stderr",
     "output_type": "stream",
     "text": [
      "<ipython-input-19-ffbad0c9593a>:31: DeprecationWarning: The class ``qiskit.algorithms.minimum_eigen_solvers.vqe.VQE`` is deprecated as of qiskit-terra 0.24.0. It will be removed no earlier than 3 months after the release date. Instead, use the class ``qiskit.algorithms.minimum_eigensolvers.VQE``. See https://qisk.it/algo_migration for a migration guide.\n",
      "  vqe = VQE(var_form, optimizer, quantum_instance=backend)\n"
     ]
    },
    {
     "name": "stdout",
     "output_type": "stream",
     "text": [
      "Interatomic Distance: 2.8 VQE Result: -0.93415097 Exact Energy: -0.93415110\n"
     ]
    },
    {
     "name": "stderr",
     "output_type": "stream",
     "text": [
      "<ipython-input-19-ffbad0c9593a>:31: DeprecationWarning: The class ``qiskit.algorithms.minimum_eigen_solvers.vqe.VQE`` is deprecated as of qiskit-terra 0.24.0. It will be removed no earlier than 3 months after the release date. Instead, use the class ``qiskit.algorithms.minimum_eigensolvers.VQE``. See https://qisk.it/algo_migration for a migration guide.\n",
      "  vqe = VQE(var_form, optimizer, quantum_instance=backend)\n"
     ]
    },
    {
     "name": "stdout",
     "output_type": "stream",
     "text": [
      "Interatomic Distance: 2.85 VQE Result: -0.93398485 Exact Energy: -0.93398498\n"
     ]
    },
    {
     "name": "stderr",
     "output_type": "stream",
     "text": [
      "<ipython-input-19-ffbad0c9593a>:31: DeprecationWarning: The class ``qiskit.algorithms.minimum_eigen_solvers.vqe.VQE`` is deprecated as of qiskit-terra 0.24.0. It will be removed no earlier than 3 months after the release date. Instead, use the class ``qiskit.algorithms.minimum_eigensolvers.VQE``. See https://qisk.it/algo_migration for a migration guide.\n",
      "  vqe = VQE(var_form, optimizer, quantum_instance=backend)\n"
     ]
    },
    {
     "name": "stdout",
     "output_type": "stream",
     "text": [
      "Interatomic Distance: 2.9 VQE Result: -0.93384561 Exact Energy: -0.93384575\n"
     ]
    },
    {
     "name": "stderr",
     "output_type": "stream",
     "text": [
      "<ipython-input-19-ffbad0c9593a>:31: DeprecationWarning: The class ``qiskit.algorithms.minimum_eigen_solvers.vqe.VQE`` is deprecated as of qiskit-terra 0.24.0. It will be removed no earlier than 3 months after the release date. Instead, use the class ``qiskit.algorithms.minimum_eigensolvers.VQE``. See https://qisk.it/algo_migration for a migration guide.\n",
      "  vqe = VQE(var_form, optimizer, quantum_instance=backend)\n"
     ]
    },
    {
     "name": "stdout",
     "output_type": "stream",
     "text": [
      "Interatomic Distance: 2.95 VQE Result: -0.93372908 Exact Energy: -0.93372922\n"
     ]
    },
    {
     "name": "stderr",
     "output_type": "stream",
     "text": [
      "<ipython-input-19-ffbad0c9593a>:31: DeprecationWarning: The class ``qiskit.algorithms.minimum_eigen_solvers.vqe.VQE`` is deprecated as of qiskit-terra 0.24.0. It will be removed no earlier than 3 months after the release date. Instead, use the class ``qiskit.algorithms.minimum_eigensolvers.VQE``. See https://qisk.it/algo_migration for a migration guide.\n",
      "  vqe = VQE(var_form, optimizer, quantum_instance=backend)\n"
     ]
    },
    {
     "name": "stdout",
     "output_type": "stream",
     "text": [
      "Interatomic Distance: 3.0 VQE Result: -0.93363170 Exact Energy: -0.93363184\n"
     ]
    },
    {
     "name": "stderr",
     "output_type": "stream",
     "text": [
      "<ipython-input-19-ffbad0c9593a>:31: DeprecationWarning: The class ``qiskit.algorithms.minimum_eigen_solvers.vqe.VQE`` is deprecated as of qiskit-terra 0.24.0. It will be removed no earlier than 3 months after the release date. Instead, use the class ``qiskit.algorithms.minimum_eigensolvers.VQE``. See https://qisk.it/algo_migration for a migration guide.\n",
      "  vqe = VQE(var_form, optimizer, quantum_instance=backend)\n"
     ]
    },
    {
     "name": "stdout",
     "output_type": "stream",
     "text": [
      "Interatomic Distance: 3.05 VQE Result: -0.93355046 Exact Energy: -0.93355060\n"
     ]
    },
    {
     "name": "stderr",
     "output_type": "stream",
     "text": [
      "<ipython-input-19-ffbad0c9593a>:31: DeprecationWarning: The class ``qiskit.algorithms.minimum_eigen_solvers.vqe.VQE`` is deprecated as of qiskit-terra 0.24.0. It will be removed no earlier than 3 months after the release date. Instead, use the class ``qiskit.algorithms.minimum_eigensolvers.VQE``. See https://qisk.it/algo_migration for a migration guide.\n",
      "  vqe = VQE(var_form, optimizer, quantum_instance=backend)\n"
     ]
    },
    {
     "name": "stdout",
     "output_type": "stream",
     "text": [
      "Interatomic Distance: 3.1 VQE Result: -0.93348280 Exact Energy: -0.93348294\n"
     ]
    },
    {
     "name": "stderr",
     "output_type": "stream",
     "text": [
      "<ipython-input-19-ffbad0c9593a>:31: DeprecationWarning: The class ``qiskit.algorithms.minimum_eigen_solvers.vqe.VQE`` is deprecated as of qiskit-terra 0.24.0. It will be removed no earlier than 3 months after the release date. Instead, use the class ``qiskit.algorithms.minimum_eigensolvers.VQE``. See https://qisk.it/algo_migration for a migration guide.\n",
      "  vqe = VQE(var_form, optimizer, quantum_instance=backend)\n"
     ]
    },
    {
     "name": "stdout",
     "output_type": "stream",
     "text": [
      "Interatomic Distance: 3.15 VQE Result: -0.93342654 Exact Energy: -0.93342668\n"
     ]
    },
    {
     "name": "stderr",
     "output_type": "stream",
     "text": [
      "<ipython-input-19-ffbad0c9593a>:31: DeprecationWarning: The class ``qiskit.algorithms.minimum_eigen_solvers.vqe.VQE`` is deprecated as of qiskit-terra 0.24.0. It will be removed no earlier than 3 months after the release date. Instead, use the class ``qiskit.algorithms.minimum_eigensolvers.VQE``. See https://qisk.it/algo_migration for a migration guide.\n",
      "  vqe = VQE(var_form, optimizer, quantum_instance=backend)\n"
     ]
    },
    {
     "name": "stdout",
     "output_type": "stream",
     "text": [
      "Interatomic Distance: 3.2 VQE Result: -0.93337984 Exact Energy: -0.93337998\n"
     ]
    },
    {
     "name": "stderr",
     "output_type": "stream",
     "text": [
      "<ipython-input-19-ffbad0c9593a>:31: DeprecationWarning: The class ``qiskit.algorithms.minimum_eigen_solvers.vqe.VQE`` is deprecated as of qiskit-terra 0.24.0. It will be removed no earlier than 3 months after the release date. Instead, use the class ``qiskit.algorithms.minimum_eigensolvers.VQE``. See https://qisk.it/algo_migration for a migration guide.\n",
      "  vqe = VQE(var_form, optimizer, quantum_instance=backend)\n"
     ]
    },
    {
     "name": "stdout",
     "output_type": "stream",
     "text": [
      "Interatomic Distance: 3.25 VQE Result: -0.93334115 Exact Energy: -0.93334128\n"
     ]
    },
    {
     "name": "stderr",
     "output_type": "stream",
     "text": [
      "<ipython-input-19-ffbad0c9593a>:31: DeprecationWarning: The class ``qiskit.algorithms.minimum_eigen_solvers.vqe.VQE`` is deprecated as of qiskit-terra 0.24.0. It will be removed no earlier than 3 months after the release date. Instead, use the class ``qiskit.algorithms.minimum_eigensolvers.VQE``. See https://qisk.it/algo_migration for a migration guide.\n",
      "  vqe = VQE(var_form, optimizer, quantum_instance=backend)\n"
     ]
    },
    {
     "name": "stdout",
     "output_type": "stream",
     "text": [
      "Interatomic Distance: 3.3 VQE Result: -0.93330914 Exact Energy: -0.93330927\n"
     ]
    },
    {
     "name": "stderr",
     "output_type": "stream",
     "text": [
      "<ipython-input-19-ffbad0c9593a>:31: DeprecationWarning: The class ``qiskit.algorithms.minimum_eigen_solvers.vqe.VQE`` is deprecated as of qiskit-terra 0.24.0. It will be removed no earlier than 3 months after the release date. Instead, use the class ``qiskit.algorithms.minimum_eigensolvers.VQE``. See https://qisk.it/algo_migration for a migration guide.\n",
      "  vqe = VQE(var_form, optimizer, quantum_instance=backend)\n"
     ]
    },
    {
     "name": "stdout",
     "output_type": "stream",
     "text": [
      "Interatomic Distance: 3.35 VQE Result: -0.93328272 Exact Energy: -0.93328284\n"
     ]
    },
    {
     "name": "stderr",
     "output_type": "stream",
     "text": [
      "<ipython-input-19-ffbad0c9593a>:31: DeprecationWarning: The class ``qiskit.algorithms.minimum_eigen_solvers.vqe.VQE`` is deprecated as of qiskit-terra 0.24.0. It will be removed no earlier than 3 months after the release date. Instead, use the class ``qiskit.algorithms.minimum_eigensolvers.VQE``. See https://qisk.it/algo_migration for a migration guide.\n",
      "  vqe = VQE(var_form, optimizer, quantum_instance=backend)\n"
     ]
    },
    {
     "name": "stdout",
     "output_type": "stream",
     "text": [
      "Interatomic Distance: 3.4 VQE Result: -0.93326094 Exact Energy: -0.93326106\n"
     ]
    },
    {
     "name": "stderr",
     "output_type": "stream",
     "text": [
      "<ipython-input-19-ffbad0c9593a>:31: DeprecationWarning: The class ``qiskit.algorithms.minimum_eigen_solvers.vqe.VQE`` is deprecated as of qiskit-terra 0.24.0. It will be removed no earlier than 3 months after the release date. Instead, use the class ``qiskit.algorithms.minimum_eigensolvers.VQE``. See https://qisk.it/algo_migration for a migration guide.\n",
      "  vqe = VQE(var_form, optimizer, quantum_instance=backend)\n"
     ]
    },
    {
     "name": "stdout",
     "output_type": "stream",
     "text": [
      "Interatomic Distance: 3.45 VQE Result: -0.93324301 Exact Energy: -0.93324313\n"
     ]
    },
    {
     "name": "stderr",
     "output_type": "stream",
     "text": [
      "<ipython-input-19-ffbad0c9593a>:31: DeprecationWarning: The class ``qiskit.algorithms.minimum_eigen_solvers.vqe.VQE`` is deprecated as of qiskit-terra 0.24.0. It will be removed no earlier than 3 months after the release date. Instead, use the class ``qiskit.algorithms.minimum_eigensolvers.VQE``. See https://qisk.it/algo_migration for a migration guide.\n",
      "  vqe = VQE(var_form, optimizer, quantum_instance=backend)\n"
     ]
    },
    {
     "name": "stdout",
     "output_type": "stream",
     "text": [
      "Interatomic Distance: 3.5 VQE Result: -0.93322829 Exact Energy: -0.93322841\n"
     ]
    },
    {
     "name": "stderr",
     "output_type": "stream",
     "text": [
      "<ipython-input-19-ffbad0c9593a>:31: DeprecationWarning: The class ``qiskit.algorithms.minimum_eigen_solvers.vqe.VQE`` is deprecated as of qiskit-terra 0.24.0. It will be removed no earlier than 3 months after the release date. Instead, use the class ``qiskit.algorithms.minimum_eigensolvers.VQE``. See https://qisk.it/algo_migration for a migration guide.\n",
      "  vqe = VQE(var_form, optimizer, quantum_instance=backend)\n"
     ]
    },
    {
     "name": "stdout",
     "output_type": "stream",
     "text": [
      "Interatomic Distance: 3.55 VQE Result: -0.93321622 Exact Energy: -0.93321633\n"
     ]
    },
    {
     "name": "stderr",
     "output_type": "stream",
     "text": [
      "<ipython-input-19-ffbad0c9593a>:31: DeprecationWarning: The class ``qiskit.algorithms.minimum_eigen_solvers.vqe.VQE`` is deprecated as of qiskit-terra 0.24.0. It will be removed no earlier than 3 months after the release date. Instead, use the class ``qiskit.algorithms.minimum_eigensolvers.VQE``. See https://qisk.it/algo_migration for a migration guide.\n",
      "  vqe = VQE(var_form, optimizer, quantum_instance=backend)\n"
     ]
    },
    {
     "name": "stdout",
     "output_type": "stream",
     "text": [
      "Interatomic Distance: 3.6 VQE Result: -0.93320634 Exact Energy: -0.93320644\n"
     ]
    },
    {
     "name": "stderr",
     "output_type": "stream",
     "text": [
      "<ipython-input-19-ffbad0c9593a>:31: DeprecationWarning: The class ``qiskit.algorithms.minimum_eigen_solvers.vqe.VQE`` is deprecated as of qiskit-terra 0.24.0. It will be removed no earlier than 3 months after the release date. Instead, use the class ``qiskit.algorithms.minimum_eigensolvers.VQE``. See https://qisk.it/algo_migration for a migration guide.\n",
      "  vqe = VQE(var_form, optimizer, quantum_instance=backend)\n"
     ]
    },
    {
     "name": "stdout",
     "output_type": "stream",
     "text": [
      "Interatomic Distance: 3.65 VQE Result: -0.93319826 Exact Energy: -0.93319836\n"
     ]
    },
    {
     "name": "stderr",
     "output_type": "stream",
     "text": [
      "<ipython-input-19-ffbad0c9593a>:31: DeprecationWarning: The class ``qiskit.algorithms.minimum_eigen_solvers.vqe.VQE`` is deprecated as of qiskit-terra 0.24.0. It will be removed no earlier than 3 months after the release date. Instead, use the class ``qiskit.algorithms.minimum_eigensolvers.VQE``. See https://qisk.it/algo_migration for a migration guide.\n",
      "  vqe = VQE(var_form, optimizer, quantum_instance=backend)\n"
     ]
    },
    {
     "name": "stdout",
     "output_type": "stream",
     "text": [
      "Interatomic Distance: 3.7 VQE Result: -0.93319167 Exact Energy: -0.93319176\n"
     ]
    },
    {
     "name": "stderr",
     "output_type": "stream",
     "text": [
      "<ipython-input-19-ffbad0c9593a>:31: DeprecationWarning: The class ``qiskit.algorithms.minimum_eigen_solvers.vqe.VQE`` is deprecated as of qiskit-terra 0.24.0. It will be removed no earlier than 3 months after the release date. Instead, use the class ``qiskit.algorithms.minimum_eigensolvers.VQE``. See https://qisk.it/algo_migration for a migration guide.\n",
      "  vqe = VQE(var_form, optimizer, quantum_instance=backend)\n"
     ]
    },
    {
     "name": "stdout",
     "output_type": "stream",
     "text": [
      "Interatomic Distance: 3.75 VQE Result: -0.93318630 Exact Energy: -0.93318639\n"
     ]
    },
    {
     "name": "stderr",
     "output_type": "stream",
     "text": [
      "<ipython-input-19-ffbad0c9593a>:31: DeprecationWarning: The class ``qiskit.algorithms.minimum_eigen_solvers.vqe.VQE`` is deprecated as of qiskit-terra 0.24.0. It will be removed no earlier than 3 months after the release date. Instead, use the class ``qiskit.algorithms.minimum_eigensolvers.VQE``. See https://qisk.it/algo_migration for a migration guide.\n",
      "  vqe = VQE(var_form, optimizer, quantum_instance=backend)\n"
     ]
    },
    {
     "name": "stdout",
     "output_type": "stream",
     "text": [
      "Interatomic Distance: 3.8 VQE Result: -0.93318193 Exact Energy: -0.93318202\n"
     ]
    },
    {
     "name": "stderr",
     "output_type": "stream",
     "text": [
      "<ipython-input-19-ffbad0c9593a>:31: DeprecationWarning: The class ``qiskit.algorithms.minimum_eigen_solvers.vqe.VQE`` is deprecated as of qiskit-terra 0.24.0. It will be removed no earlier than 3 months after the release date. Instead, use the class ``qiskit.algorithms.minimum_eigensolvers.VQE``. See https://qisk.it/algo_migration for a migration guide.\n",
      "  vqe = VQE(var_form, optimizer, quantum_instance=backend)\n"
     ]
    },
    {
     "name": "stdout",
     "output_type": "stream",
     "text": [
      "Interatomic Distance: 3.85 VQE Result: -0.93317838 Exact Energy: -0.93317846\n"
     ]
    },
    {
     "name": "stderr",
     "output_type": "stream",
     "text": [
      "<ipython-input-19-ffbad0c9593a>:31: DeprecationWarning: The class ``qiskit.algorithms.minimum_eigen_solvers.vqe.VQE`` is deprecated as of qiskit-terra 0.24.0. It will be removed no earlier than 3 months after the release date. Instead, use the class ``qiskit.algorithms.minimum_eigensolvers.VQE``. See https://qisk.it/algo_migration for a migration guide.\n",
      "  vqe = VQE(var_form, optimizer, quantum_instance=backend)\n"
     ]
    },
    {
     "name": "stdout",
     "output_type": "stream",
     "text": [
      "Interatomic Distance: 3.9 VQE Result: -0.93317550 Exact Energy: -0.93317558\n"
     ]
    },
    {
     "name": "stderr",
     "output_type": "stream",
     "text": [
      "<ipython-input-19-ffbad0c9593a>:31: DeprecationWarning: The class ``qiskit.algorithms.minimum_eigen_solvers.vqe.VQE`` is deprecated as of qiskit-terra 0.24.0. It will be removed no earlier than 3 months after the release date. Instead, use the class ``qiskit.algorithms.minimum_eigensolvers.VQE``. See https://qisk.it/algo_migration for a migration guide.\n",
      "  vqe = VQE(var_form, optimizer, quantum_instance=backend)\n"
     ]
    },
    {
     "name": "stdout",
     "output_type": "stream",
     "text": [
      "Interatomic Distance: 3.95 VQE Result: -0.93317317 Exact Energy: -0.93317325\n"
     ]
    },
    {
     "name": "stderr",
     "output_type": "stream",
     "text": [
      "<ipython-input-19-ffbad0c9593a>:31: DeprecationWarning: The class ``qiskit.algorithms.minimum_eigen_solvers.vqe.VQE`` is deprecated as of qiskit-terra 0.24.0. It will be removed no earlier than 3 months after the release date. Instead, use the class ``qiskit.algorithms.minimum_eigensolvers.VQE``. See https://qisk.it/algo_migration for a migration guide.\n",
      "  vqe = VQE(var_form, optimizer, quantum_instance=backend)\n"
     ]
    },
    {
     "name": "stdout",
     "output_type": "stream",
     "text": [
      "Interatomic Distance: 4.0 VQE Result: -0.93317129 Exact Energy: -0.93317136\n",
      "All energies have been calculated\n"
     ]
    }
   ],
   "source": [
    "import numpy as np\n",
    "\n",
    "# Choose the statevector simulator as backend \n",
    "backend = Aer.get_backend(\"statevector_simulator\")\n",
    "\n",
    "# Choose an optimizer with a low number of max. iterations \n",
    "optimizer = SLSQP(maxiter=10)\n",
    "\n",
    "# Generate the distances\n",
    "distances = np.arange(0.25, 4.05, 0.05)\n",
    "\n",
    "# Generate empty lists for the exact energies and the energis of the VQE\n",
    "exact_energies = []\n",
    "vqe_energies = []\n",
    "\n",
    "for dist in distances: # loop over all distances\n",
    "    # Create the Hamiltonian for the current distance\n",
    "    (qubit_op, num_particles, num_spin_orbitals, problem, converter) = create_qubit_op(dist)\n",
    "    \n",
    "    # Solve the problem exact\n",
    "    result = exact_solver(problem,converter)\n",
    "    exact_energies.append(result.total_energies[0].real)\n",
    "    \n",
    "    # Generate the Hatree-Fock state as initial state for the VQE \n",
    "    init_state = HartreeFock(num_spin_orbitals, num_particles, converter)\n",
    "    \n",
    "    # Choose an Ansatz\n",
    "    var_form = UCCSD(converter, num_particles, num_spin_orbitals, initial_state=init_state)\n",
    "    \n",
    "    # Run the VQE \n",
    "    vqe = VQE(var_form, optimizer, quantum_instance=backend)\n",
    "    vqe_result = vqe.compute_minimum_eigenvalue(qubit_op)\n",
    "    \n",
    "    # Get the results for the total ground state energy (Hatree)\n",
    "    vqe_energies.append(problem.interpret(vqe_result).total_energies[0].real)\n",
    "    \n",
    "    # Print the current results\n",
    "    print(f\"Interatomic Distance: {np.round(dist, 2)}\",\n",
    "          f\"VQE Result: {vqe_energies[-1]:.8f}\",\n",
    "          f\"Exact Energy: {exact_energies[-1]:.8f}\")\n",
    "\n",
    "print(\"All energies have been calculated\")\n"
   ]
  },
  {
   "cell_type": "markdown",
   "metadata": {
    "id": "-3BDP88Nnl6A"
   },
   "source": [
    "#### 4.2 Running VQE for different distances using the aer simulator"
   ]
  },
  {
   "cell_type": "markdown",
   "metadata": {
    "id": "3CZ1XC0Inl6A"
   },
   "source": [
    "We can do the same thing using the `aer_simulator`. Note, that we have to take less steps here to avoid large computation times."
   ]
  },
  {
   "cell_type": "markdown",
   "metadata": {
    "id": "v2h1Rx0-nl6A"
   },
   "source": [
    "**Task**:\n",
    "\n",
    "Modify the code from part 4.1 such that the `aer_simulator` is used instead of the `statevector_simulator`. You can start off by copying the code first. It is not necessary to calculate the exact results here, as we have already performed this calculations in 4.1. \n",
    "Note, that you should change the intervall for the distances, as well as the optimizer. You should aim for around 15 different distances in a reasonable range.\n",
    "To plot the results into one graph later, you need to rename the `distances` array (use `distances_aer` here), as well as the `vqe_energie` array (use `vqe_energies_aer` here)."
   ]
  },
  {
   "cell_type": "code",
   "execution_count": 20,
   "metadata": {
    "colab": {
     "base_uri": "https://localhost:8080/"
    },
    "id": "KW7zwjOWnl6A",
    "outputId": "a878d31c-7b9a-40c7-88e3-ce591ab07203"
   },
   "outputs": [
    {
     "name": "stderr",
     "output_type": "stream",
     "text": [
      "<ipython-input-20-f75a4db36be4>:24: DeprecationWarning: The class ``qiskit.algorithms.minimum_eigen_solvers.vqe.VQE`` is deprecated as of qiskit-terra 0.24.0. It will be removed no earlier than 3 months after the release date. Instead, use the class ``qiskit.algorithms.minimum_eigensolvers.VQE``. See https://qisk.it/algo_migration for a migration guide.\n",
      "  vqe = VQE(var_form, optimizer, quantum_instance=backend)\n"
     ]
    },
    {
     "name": "stdout",
     "output_type": "stream",
     "text": [
      "Interatomic Distance: 0.25 VQE Result: 1.21487216\n"
     ]
    },
    {
     "name": "stderr",
     "output_type": "stream",
     "text": [
      "<ipython-input-20-f75a4db36be4>:24: DeprecationWarning: The class ``qiskit.algorithms.minimum_eigen_solvers.vqe.VQE`` is deprecated as of qiskit-terra 0.24.0. It will be removed no earlier than 3 months after the release date. Instead, use the class ``qiskit.algorithms.minimum_eigensolvers.VQE``. See https://qisk.it/algo_migration for a migration guide.\n",
      "  vqe = VQE(var_form, optimizer, quantum_instance=backend)\n"
     ]
    },
    {
     "name": "stdout",
     "output_type": "stream",
     "text": [
      "Interatomic Distance: 0.41 VQE Result: -0.69602832\n"
     ]
    },
    {
     "name": "stderr",
     "output_type": "stream",
     "text": [
      "<ipython-input-20-f75a4db36be4>:24: DeprecationWarning: The class ``qiskit.algorithms.minimum_eigen_solvers.vqe.VQE`` is deprecated as of qiskit-terra 0.24.0. It will be removed no earlier than 3 months after the release date. Instead, use the class ``qiskit.algorithms.minimum_eigensolvers.VQE``. See https://qisk.it/algo_migration for a migration guide.\n",
      "  vqe = VQE(var_form, optimizer, quantum_instance=backend)\n"
     ]
    },
    {
     "name": "stdout",
     "output_type": "stream",
     "text": [
      "Interatomic Distance: 0.57 VQE Result: -1.08088659\n"
     ]
    },
    {
     "name": "stderr",
     "output_type": "stream",
     "text": [
      "<ipython-input-20-f75a4db36be4>:24: DeprecationWarning: The class ``qiskit.algorithms.minimum_eigen_solvers.vqe.VQE`` is deprecated as of qiskit-terra 0.24.0. It will be removed no earlier than 3 months after the release date. Instead, use the class ``qiskit.algorithms.minimum_eigensolvers.VQE``. See https://qisk.it/algo_migration for a migration guide.\n",
      "  vqe = VQE(var_form, optimizer, quantum_instance=backend)\n"
     ]
    },
    {
     "name": "stdout",
     "output_type": "stream",
     "text": [
      "Interatomic Distance: 0.73 VQE Result: -1.14394336\n"
     ]
    },
    {
     "name": "stderr",
     "output_type": "stream",
     "text": [
      "<ipython-input-20-f75a4db36be4>:24: DeprecationWarning: The class ``qiskit.algorithms.minimum_eigen_solvers.vqe.VQE`` is deprecated as of qiskit-terra 0.24.0. It will be removed no earlier than 3 months after the release date. Instead, use the class ``qiskit.algorithms.minimum_eigensolvers.VQE``. See https://qisk.it/algo_migration for a migration guide.\n",
      "  vqe = VQE(var_form, optimizer, quantum_instance=backend)\n"
     ]
    },
    {
     "name": "stdout",
     "output_type": "stream",
     "text": [
      "Interatomic Distance: 0.89 VQE Result: -1.13124116\n"
     ]
    },
    {
     "name": "stderr",
     "output_type": "stream",
     "text": [
      "<ipython-input-20-f75a4db36be4>:24: DeprecationWarning: The class ``qiskit.algorithms.minimum_eigen_solvers.vqe.VQE`` is deprecated as of qiskit-terra 0.24.0. It will be removed no earlier than 3 months after the release date. Instead, use the class ``qiskit.algorithms.minimum_eigensolvers.VQE``. See https://qisk.it/algo_migration for a migration guide.\n",
      "  vqe = VQE(var_form, optimizer, quantum_instance=backend)\n"
     ]
    },
    {
     "name": "stdout",
     "output_type": "stream",
     "text": [
      "Interatomic Distance: 1.05 VQE Result: -1.09679265\n"
     ]
    },
    {
     "name": "stderr",
     "output_type": "stream",
     "text": [
      "<ipython-input-20-f75a4db36be4>:24: DeprecationWarning: The class ``qiskit.algorithms.minimum_eigen_solvers.vqe.VQE`` is deprecated as of qiskit-terra 0.24.0. It will be removed no earlier than 3 months after the release date. Instead, use the class ``qiskit.algorithms.minimum_eigensolvers.VQE``. See https://qisk.it/algo_migration for a migration guide.\n",
      "  vqe = VQE(var_form, optimizer, quantum_instance=backend)\n"
     ]
    },
    {
     "name": "stdout",
     "output_type": "stream",
     "text": [
      "Interatomic Distance: 1.21 VQE Result: -1.05155758\n"
     ]
    },
    {
     "name": "stderr",
     "output_type": "stream",
     "text": [
      "<ipython-input-20-f75a4db36be4>:24: DeprecationWarning: The class ``qiskit.algorithms.minimum_eigen_solvers.vqe.VQE`` is deprecated as of qiskit-terra 0.24.0. It will be removed no earlier than 3 months after the release date. Instead, use the class ``qiskit.algorithms.minimum_eigensolvers.VQE``. See https://qisk.it/algo_migration for a migration guide.\n",
      "  vqe = VQE(var_form, optimizer, quantum_instance=backend)\n"
     ]
    },
    {
     "name": "stdout",
     "output_type": "stream",
     "text": [
      "Interatomic Distance: 1.38 VQE Result: -1.02717893\n"
     ]
    },
    {
     "name": "stderr",
     "output_type": "stream",
     "text": [
      "<ipython-input-20-f75a4db36be4>:24: DeprecationWarning: The class ``qiskit.algorithms.minimum_eigen_solvers.vqe.VQE`` is deprecated as of qiskit-terra 0.24.0. It will be removed no earlier than 3 months after the release date. Instead, use the class ``qiskit.algorithms.minimum_eigensolvers.VQE``. See https://qisk.it/algo_migration for a migration guide.\n",
      "  vqe = VQE(var_form, optimizer, quantum_instance=backend)\n"
     ]
    },
    {
     "name": "stdout",
     "output_type": "stream",
     "text": [
      "Interatomic Distance: 1.54 VQE Result: -0.99638435\n"
     ]
    },
    {
     "name": "stderr",
     "output_type": "stream",
     "text": [
      "<ipython-input-20-f75a4db36be4>:24: DeprecationWarning: The class ``qiskit.algorithms.minimum_eigen_solvers.vqe.VQE`` is deprecated as of qiskit-terra 0.24.0. It will be removed no earlier than 3 months after the release date. Instead, use the class ``qiskit.algorithms.minimum_eigensolvers.VQE``. See https://qisk.it/algo_migration for a migration guide.\n",
      "  vqe = VQE(var_form, optimizer, quantum_instance=backend)\n"
     ]
    },
    {
     "name": "stdout",
     "output_type": "stream",
     "text": [
      "Interatomic Distance: 1.7 VQE Result: -0.96812374\n"
     ]
    },
    {
     "name": "stderr",
     "output_type": "stream",
     "text": [
      "<ipython-input-20-f75a4db36be4>:24: DeprecationWarning: The class ``qiskit.algorithms.minimum_eigen_solvers.vqe.VQE`` is deprecated as of qiskit-terra 0.24.0. It will be removed no earlier than 3 months after the release date. Instead, use the class ``qiskit.algorithms.minimum_eigensolvers.VQE``. See https://qisk.it/algo_migration for a migration guide.\n",
      "  vqe = VQE(var_form, optimizer, quantum_instance=backend)\n"
     ]
    },
    {
     "name": "stdout",
     "output_type": "stream",
     "text": [
      "Interatomic Distance: 1.86 VQE Result: -0.95298629\n"
     ]
    },
    {
     "name": "stderr",
     "output_type": "stream",
     "text": [
      "<ipython-input-20-f75a4db36be4>:24: DeprecationWarning: The class ``qiskit.algorithms.minimum_eigen_solvers.vqe.VQE`` is deprecated as of qiskit-terra 0.24.0. It will be removed no earlier than 3 months after the release date. Instead, use the class ``qiskit.algorithms.minimum_eigensolvers.VQE``. See https://qisk.it/algo_migration for a migration guide.\n",
      "  vqe = VQE(var_form, optimizer, quantum_instance=backend)\n"
     ]
    },
    {
     "name": "stdout",
     "output_type": "stream",
     "text": [
      "Interatomic Distance: 2.02 VQE Result: -0.94363237\n"
     ]
    },
    {
     "name": "stderr",
     "output_type": "stream",
     "text": [
      "<ipython-input-20-f75a4db36be4>:24: DeprecationWarning: The class ``qiskit.algorithms.minimum_eigen_solvers.vqe.VQE`` is deprecated as of qiskit-terra 0.24.0. It will be removed no earlier than 3 months after the release date. Instead, use the class ``qiskit.algorithms.minimum_eigensolvers.VQE``. See https://qisk.it/algo_migration for a migration guide.\n",
      "  vqe = VQE(var_form, optimizer, quantum_instance=backend)\n"
     ]
    },
    {
     "name": "stdout",
     "output_type": "stream",
     "text": [
      "Interatomic Distance: 2.18 VQE Result: -0.94339166\n"
     ]
    },
    {
     "name": "stderr",
     "output_type": "stream",
     "text": [
      "<ipython-input-20-f75a4db36be4>:24: DeprecationWarning: The class ``qiskit.algorithms.minimum_eigen_solvers.vqe.VQE`` is deprecated as of qiskit-terra 0.24.0. It will be removed no earlier than 3 months after the release date. Instead, use the class ``qiskit.algorithms.minimum_eigensolvers.VQE``. See https://qisk.it/algo_migration for a migration guide.\n",
      "  vqe = VQE(var_form, optimizer, quantum_instance=backend)\n"
     ]
    },
    {
     "name": "stdout",
     "output_type": "stream",
     "text": [
      "Interatomic Distance: 2.34 VQE Result: -0.93542607\n"
     ]
    },
    {
     "name": "stderr",
     "output_type": "stream",
     "text": [
      "<ipython-input-20-f75a4db36be4>:24: DeprecationWarning: The class ``qiskit.algorithms.minimum_eigen_solvers.vqe.VQE`` is deprecated as of qiskit-terra 0.24.0. It will be removed no earlier than 3 months after the release date. Instead, use the class ``qiskit.algorithms.minimum_eigensolvers.VQE``. See https://qisk.it/algo_migration for a migration guide.\n",
      "  vqe = VQE(var_form, optimizer, quantum_instance=backend)\n"
     ]
    },
    {
     "name": "stdout",
     "output_type": "stream",
     "text": [
      "Interatomic Distance: 2.5 VQE Result: -0.93309858\n",
      "All energies have been calculated\n"
     ]
    }
   ],
   "source": [
    "# Choose the statevector simulator as backend \n",
    "backend = Aer.get_backend(\"aer_simulator\")\n",
    "\n",
    "# Choose an optimizer with a low number of max. iterations \n",
    "optimizer = SPSA(maxiter=40) #SLSQP(maxiter=10)\n",
    "\n",
    "# Generate the distances\n",
    "distances_aer = np.linspace(0.25, 2.5, 15)\n",
    "\n",
    "# Generate empty lists for the exact energies and the energis of the VQE\n",
    "aer_vqe_energies = []\n",
    "\n",
    "for dist in distances_aer: # loop over all distances\n",
    "    # Create the Hamiltonian for the current distance\n",
    "    (qubit_op, num_particles, num_spin_orbitals, problem, converter) = create_qubit_op(dist)\n",
    "    \n",
    "    # Generate the Hatree-Fock state as initial state for the VQE \n",
    "    init_state = HartreeFock(num_spin_orbitals, num_particles, converter)\n",
    "    \n",
    "    # Choose an Ansatz\n",
    "    var_form = UCCSD(converter, num_particles, num_spin_orbitals, initial_state=init_state)\n",
    "    \n",
    "    # Run the VQE \n",
    "    vqe = VQE(var_form, optimizer, quantum_instance=backend)\n",
    "    vqe_result = vqe.compute_minimum_eigenvalue(qubit_op)\n",
    "    \n",
    "    # Get the results for the total ground state energy (Hatree)\n",
    "    aer_vqe_energies.append(problem.interpret(vqe_result).total_energies[0].real)\n",
    "    \n",
    "    # Print the current results\n",
    "    print(f\"Interatomic Distance: {np.round(dist, 2)}\",\n",
    "          f\"VQE Result: {aer_vqe_energies[-1]:.8f}\")\n",
    "\n",
    "print(\"All energies have been calculated\")"
   ]
  },
  {
   "cell_type": "markdown",
   "metadata": {
    "id": "h7OzVOMVnl6B"
   },
   "source": [
    "#### 4.3 Plot the results"
   ]
  },
  {
   "cell_type": "markdown",
   "metadata": {
    "id": "3OGy811dnl6B"
   },
   "source": [
    "Finally we plot the results for the energy over the atomic distance. Note, that the VQE results are very close to the exact results and hence the exact energy curve is hidden under the VQE curve."
   ]
  },
  {
   "cell_type": "code",
   "execution_count": 21,
   "metadata": {
    "colab": {
     "base_uri": "https://localhost:8080/",
     "height": 501
    },
    "id": "4Na4bJmNnl6B",
    "outputId": "2f3b355b-1d9a-4816-b904-ae3c8f156f18"
   },
   "outputs": [
    {
     "name": "stdout",
     "output_type": "stream",
     "text": [
      "Minimal total ground state energy:  -1.1371170672873314\n",
      "Corresponding distance:  0.7499999999999999\n",
      "E_infinity: -0.9331712886000973 Hartree = -25.39289720261269 eV\n"
     ]
    },
    {
     "data": {
      "image/png": "[encoded data removed]",
      "text/plain": [
       "<Figure size 640x480 with 1 Axes>"
      ]
     },
     "metadata": {},
     "output_type": "display_data"
    }
   ],
   "source": [
    "import matplotlib.pyplot as plt\n",
    "\n",
    "minimum = np.argmin(np.array(vqe_energies))\n",
    "\n",
    "print('Minimal total ground state energy: ', vqe_energies[minimum])\n",
    "print('Corresponding distance: ', distances[minimum])\n",
    "print(f'E_infinity: {vqe_energies[-1]} Hartree = {vqe_energies[-1]*27.2114} eV')\n",
    "\n",
    "plt.plot(distances, exact_energies, label=\"Exact Energy\")\n",
    "plt.plot(distances, vqe_energies, label=\"VQE Energy (statevecor sim.)\")\n",
    "plt.plot(distances_aer[1:], aer_vqe_energies[1:], marker = 'x', ls = '', label=\"VQE Energy (aer sim.)\")\n",
    "plt.xlabel('interatomic distance (Angstrom)')\n",
    "plt.ylabel('ground-state energy (Hartree)')\n",
    "plt.legend()\n",
    "plt.grid()\n",
    "plt.show()\n"
   ]
  },
  {
   "cell_type": "markdown",
   "metadata": {
    "id": "DuMJ34gtnl6C"
   },
   "source": [
    "**Task:**\n",
    "\n",
    "a) Depending on the distance between the two atoms, three different regimes can be identified. These result from the interplay of different attractive and repulsive interactions. \n",
    "Describe the three regimes and the corresponding interactions by answering the following questions.\n",
    "\n",
    "- Why does the energy converge for large atomic distances? Interpret the obtained energy $E_{\\infty}$ for large distances $d \\to \\infty$.\n",
    "- What statement can be made about the interactions at the minimum of the curve? Which two quantities can be identified at this point? \n",
    "- What happens when the distance between the atoms approaches zero? How can the course of the energy be explained physically?\n",
    "\n",
    "Hint: To explain the course of the curve you need to consider three interatcions: \n",
    "1. Positve-negative electrostatic interactions between the nucleus of one atom and the electron of the other ($\\to$ chemical bond). \n",
    "2. Positve-positve electrostatic interactions between the nuclei. \n",
    "3. The third interaction arises from the Pauli exclusion principle.\n",
    "\n",
    "b) Extract the value $E_{\\infty}$ in eV and compare it to the literature value. Give possible reasons for the inaccuracy and explain how the accuracy could be improved.  \n",
    "\n",
    "c) Usually, such curves are represented as molecular potentials. To obtain the molecular potential from our results, we have shift the curve upwards by adding $+ |E_{\\infty}|$ such that $E \\to 0$ for $d \\to \\infty$ and then convert the energy into eV. Plot the molecular potential (only the VQE energy from the statevector simulator) and explain what is accomplished by shifting the curve upward. What characteristic quantity of the $H_2$ molecule can now be extracted directly?"
   ]
  },
  {
   "cell_type": "markdown",
   "metadata": {
    "id": "a51nRhIYnl6C"
   },
   "source": [
    "a) \n",
    "- For large distances, there is no interaction between the two atoms. The ground-state energy is just the combinded energy of the two single atoms. \n",
    "- For small distances, the interaction energy of the two electrons due to the Pauli principle increases drastically, since both are fermions an they don't \"like\" to be near each other\n",
    "- In the minimum, there is the optimum balance between the repulsion due to the electron-electron and nucleus-nucleus interaction with the attraction due to the electron-nuclei interaction.\n",
    "\n",
    "b) E_infinity = -0.93 Hartree. Theoretically, it should be -1 Hartree, since it's just the energy of the two atoms. The inaccuracy could be due to the chosen ansatz.\n",
    "\n",
    "c) By shifting the curve upwards, we get the binding energy per electron which is released when two hydrogen atoms form a molecul. The minimum value gives the dissociation energy De = -5.55 eV. "
   ]
  },
  {
   "cell_type": "code",
   "execution_count": 22,
   "metadata": {
    "colab": {
     "base_uri": "https://localhost:8080/",
     "height": 466
    },
    "id": "_HILB9nonl6C",
    "outputId": "862086d7-1cc1-4cad-89a6-0c22b1014f01"
   },
   "outputs": [
    {
     "name": "stdout",
     "output_type": "stream",
     "text": [
      "dissociation_energy: -5.549650162169802 eV\n"
     ]
    },
    {
     "data": {
      "image/png": "[encoded data removed]",
      "text/plain": [
       "<Figure size 640x480 with 1 Axes>"
      ]
     },
     "metadata": {},
     "output_type": "display_data"
    }
   ],
   "source": [
    "# Shift the curve and convert to eV\n",
    "vqe_energies_converted = ( vqe_energies-vqe_energies[-1] ) * 27.2114\n",
    "\n",
    "print(f'dissociation_energy: {vqe_energies_converted.min()} eV')\n",
    "\n",
    "plt.plot(distances, vqe_energies_converted, label=\"VQE Energy (statevecor sim.)\")\n",
    "plt.xlabel('interatomic distance (Angstrom)')\n",
    "plt.ylabel('Molecular potential (eV)')\n",
    "plt.legend()\n",
    "plt.grid()\n",
    "plt.show()"
   ]
  },
  {
   "cell_type": "markdown",
   "metadata": {
    "id": "gAqpTRu-nl6C"
   },
   "source": [
    "#### 4.4 Find the correct interatomic distance"
   ]
  },
  {
   "cell_type": "markdown",
   "metadata": {
    "id": "bfV681H3nl6C"
   },
   "source": [
    "We can use the results to search for the bond length and the bond energy in a smaller range.\n",
    "\n",
    "**Task**: \n",
    "\n",
    "a) Use the code from 4.2 (we use the `statevector_simulator` again to minimze the computation time) to find the minimal total ground state energy and the corresponding interatomic distance. The corresponding interatomic distance should be varied with a step size $\\leq 0.002$. Plot your results for the energy over the interatomic distance.\n",
    "\n",
    "b) Calculate the bounding energy of $\\mathrm{H}_2$ (in eV) from the obtained minimal ground state energy using the value for $E_{\\infty}$ from the last task (c)\n",
    "\n",
    "c) Compare your results for the interatomic distance and the bounding energy with the literature values for $\\mathrm{H}_2$. Give possible reasons for a deviation. Which of the two, bond length and bond energy, can be estimated with the version of the algorithm on hand and which one requires some changes in the algorithm?"
   ]
  },
  {
   "cell_type": "code",
   "execution_count": 23,
   "metadata": {
    "colab": {
     "base_uri": "https://localhost:8080/"
    },
    "id": "iFnuAVTPnl6D",
    "outputId": "2759bfbb-1b7d-4ce9-9b0f-66417b4590c2"
   },
   "outputs": [
    {
     "name": "stdout",
     "output_type": "stream",
     "text": [
      "step size 0.00007\n"
     ]
    },
    {
     "name": "stderr",
     "output_type": "stream",
     "text": [
      "<ipython-input-23-a3c58ae3ae19>:29: DeprecationWarning: The class ``qiskit.algorithms.minimum_eigen_solvers.vqe.VQE`` is deprecated as of qiskit-terra 0.24.0. It will be removed no earlier than 3 months after the release date. Instead, use the class ``qiskit.algorithms.minimum_eigensolvers.VQE``. See https://qisk.it/algo_migration for a migration guide.\n",
      "  vqe = VQE(var_form, optimizer, quantum_instance=backend)\n"
     ]
    },
    {
     "name": "stdout",
     "output_type": "stream",
     "text": [
      "Interatomic Distance: 0.73 VQE Result: -1.13730541\n"
     ]
    },
    {
     "name": "stderr",
     "output_type": "stream",
     "text": [
      "<ipython-input-23-a3c58ae3ae19>:29: DeprecationWarning: The class ``qiskit.algorithms.minimum_eigen_solvers.vqe.VQE`` is deprecated as of qiskit-terra 0.24.0. It will be removed no earlier than 3 months after the release date. Instead, use the class ``qiskit.algorithms.minimum_eigensolvers.VQE``. See https://qisk.it/algo_migration for a migration guide.\n",
      "  vqe = VQE(var_form, optimizer, quantum_instance=backend)\n"
     ]
    },
    {
     "name": "stdout",
     "output_type": "stream",
     "text": [
      "Interatomic Distance: 0.73 VQE Result: -1.13730551\n"
     ]
    },
    {
     "name": "stderr",
     "output_type": "stream",
     "text": [
      "<ipython-input-23-a3c58ae3ae19>:29: DeprecationWarning: The class ``qiskit.algorithms.minimum_eigen_solvers.vqe.VQE`` is deprecated as of qiskit-terra 0.24.0. It will be removed no earlier than 3 months after the release date. Instead, use the class ``qiskit.algorithms.minimum_eigensolvers.VQE``. See https://qisk.it/algo_migration for a migration guide.\n",
      "  vqe = VQE(var_form, optimizer, quantum_instance=backend)\n"
     ]
    },
    {
     "name": "stdout",
     "output_type": "stream",
     "text": [
      "Interatomic Distance: 0.73 VQE Result: -1.13730560\n"
     ]
    },
    {
     "name": "stderr",
     "output_type": "stream",
     "text": [
      "<ipython-input-23-a3c58ae3ae19>:29: DeprecationWarning: The class ``qiskit.algorithms.minimum_eigen_solvers.vqe.VQE`` is deprecated as of qiskit-terra 0.24.0. It will be removed no earlier than 3 months after the release date. Instead, use the class ``qiskit.algorithms.minimum_eigensolvers.VQE``. See https://qisk.it/algo_migration for a migration guide.\n",
      "  vqe = VQE(var_form, optimizer, quantum_instance=backend)\n"
     ]
    },
    {
     "name": "stdout",
     "output_type": "stream",
     "text": [
      "Interatomic Distance: 0.73 VQE Result: -1.13730568\n"
     ]
    },
    {
     "name": "stderr",
     "output_type": "stream",
     "text": [
      "<ipython-input-23-a3c58ae3ae19>:29: DeprecationWarning: The class ``qiskit.algorithms.minimum_eigen_solvers.vqe.VQE`` is deprecated as of qiskit-terra 0.24.0. It will be removed no earlier than 3 months after the release date. Instead, use the class ``qiskit.algorithms.minimum_eigensolvers.VQE``. See https://qisk.it/algo_migration for a migration guide.\n",
      "  vqe = VQE(var_form, optimizer, quantum_instance=backend)\n"
     ]
    },
    {
     "name": "stdout",
     "output_type": "stream",
     "text": [
      "Interatomic Distance: 0.73 VQE Result: -1.13730575\n"
     ]
    },
    {
     "name": "stderr",
     "output_type": "stream",
     "text": [
      "<ipython-input-23-a3c58ae3ae19>:29: DeprecationWarning: The class ``qiskit.algorithms.minimum_eigen_solvers.vqe.VQE`` is deprecated as of qiskit-terra 0.24.0. It will be removed no earlier than 3 months after the release date. Instead, use the class ``qiskit.algorithms.minimum_eigensolvers.VQE``. See https://qisk.it/algo_migration for a migration guide.\n",
      "  vqe = VQE(var_form, optimizer, quantum_instance=backend)\n"
     ]
    },
    {
     "name": "stdout",
     "output_type": "stream",
     "text": [
      "Interatomic Distance: 0.73 VQE Result: -1.13730582\n"
     ]
    },
    {
     "name": "stderr",
     "output_type": "stream",
     "text": [
      "<ipython-input-23-a3c58ae3ae19>:29: DeprecationWarning: The class ``qiskit.algorithms.minimum_eigen_solvers.vqe.VQE`` is deprecated as of qiskit-terra 0.24.0. It will be removed no earlier than 3 months after the release date. Instead, use the class ``qiskit.algorithms.minimum_eigensolvers.VQE``. See https://qisk.it/algo_migration for a migration guide.\n",
      "  vqe = VQE(var_form, optimizer, quantum_instance=backend)\n"
     ]
    },
    {
     "name": "stdout",
     "output_type": "stream",
     "text": [
      "Interatomic Distance: 0.73 VQE Result: -1.13730588\n"
     ]
    },
    {
     "name": "stderr",
     "output_type": "stream",
     "text": [
      "<ipython-input-23-a3c58ae3ae19>:29: DeprecationWarning: The class ``qiskit.algorithms.minimum_eigen_solvers.vqe.VQE`` is deprecated as of qiskit-terra 0.24.0. It will be removed no earlier than 3 months after the release date. Instead, use the class ``qiskit.algorithms.minimum_eigensolvers.VQE``. See https://qisk.it/algo_migration for a migration guide.\n",
      "  vqe = VQE(var_form, optimizer, quantum_instance=backend)\n"
     ]
    },
    {
     "name": "stdout",
     "output_type": "stream",
     "text": [
      "Interatomic Distance: 0.73 VQE Result: -1.13730593\n"
     ]
    },
    {
     "name": "stderr",
     "output_type": "stream",
     "text": [
      "<ipython-input-23-a3c58ae3ae19>:29: DeprecationWarning: The class ``qiskit.algorithms.minimum_eigen_solvers.vqe.VQE`` is deprecated as of qiskit-terra 0.24.0. It will be removed no earlier than 3 months after the release date. Instead, use the class ``qiskit.algorithms.minimum_eigensolvers.VQE``. See https://qisk.it/algo_migration for a migration guide.\n",
      "  vqe = VQE(var_form, optimizer, quantum_instance=backend)\n"
     ]
    },
    {
     "name": "stdout",
     "output_type": "stream",
     "text": [
      "Interatomic Distance: 0.73 VQE Result: -1.13730597\n"
     ]
    },
    {
     "name": "stderr",
     "output_type": "stream",
     "text": [
      "<ipython-input-23-a3c58ae3ae19>:29: DeprecationWarning: The class ``qiskit.algorithms.minimum_eigen_solvers.vqe.VQE`` is deprecated as of qiskit-terra 0.24.0. It will be removed no earlier than 3 months after the release date. Instead, use the class ``qiskit.algorithms.minimum_eigensolvers.VQE``. See https://qisk.it/algo_migration for a migration guide.\n",
      "  vqe = VQE(var_form, optimizer, quantum_instance=backend)\n"
     ]
    },
    {
     "name": "stdout",
     "output_type": "stream",
     "text": [
      "Interatomic Distance: 0.73 VQE Result: -1.13730600\n"
     ]
    },
    {
     "name": "stderr",
     "output_type": "stream",
     "text": [
      "<ipython-input-23-a3c58ae3ae19>:29: DeprecationWarning: The class ``qiskit.algorithms.minimum_eigen_solvers.vqe.VQE`` is deprecated as of qiskit-terra 0.24.0. It will be removed no earlier than 3 months after the release date. Instead, use the class ``qiskit.algorithms.minimum_eigensolvers.VQE``. See https://qisk.it/algo_migration for a migration guide.\n",
      "  vqe = VQE(var_form, optimizer, quantum_instance=backend)\n"
     ]
    },
    {
     "name": "stdout",
     "output_type": "stream",
     "text": [
      "Interatomic Distance: 0.73 VQE Result: -1.13730602\n"
     ]
    },
    {
     "name": "stderr",
     "output_type": "stream",
     "text": [
      "<ipython-input-23-a3c58ae3ae19>:29: DeprecationWarning: The class ``qiskit.algorithms.minimum_eigen_solvers.vqe.VQE`` is deprecated as of qiskit-terra 0.24.0. It will be removed no earlier than 3 months after the release date. Instead, use the class ``qiskit.algorithms.minimum_eigensolvers.VQE``. See https://qisk.it/algo_migration for a migration guide.\n",
      "  vqe = VQE(var_form, optimizer, quantum_instance=backend)\n"
     ]
    },
    {
     "name": "stdout",
     "output_type": "stream",
     "text": [
      "Interatomic Distance: 0.73 VQE Result: -1.13730604\n"
     ]
    },
    {
     "name": "stderr",
     "output_type": "stream",
     "text": [
      "<ipython-input-23-a3c58ae3ae19>:29: DeprecationWarning: The class ``qiskit.algorithms.minimum_eigen_solvers.vqe.VQE`` is deprecated as of qiskit-terra 0.24.0. It will be removed no earlier than 3 months after the release date. Instead, use the class ``qiskit.algorithms.minimum_eigensolvers.VQE``. See https://qisk.it/algo_migration for a migration guide.\n",
      "  vqe = VQE(var_form, optimizer, quantum_instance=backend)\n"
     ]
    },
    {
     "name": "stdout",
     "output_type": "stream",
     "text": [
      "Interatomic Distance: 0.73 VQE Result: -1.13730605\n"
     ]
    },
    {
     "name": "stderr",
     "output_type": "stream",
     "text": [
      "<ipython-input-23-a3c58ae3ae19>:29: DeprecationWarning: The class ``qiskit.algorithms.minimum_eigen_solvers.vqe.VQE`` is deprecated as of qiskit-terra 0.24.0. It will be removed no earlier than 3 months after the release date. Instead, use the class ``qiskit.algorithms.minimum_eigensolvers.VQE``. See https://qisk.it/algo_migration for a migration guide.\n",
      "  vqe = VQE(var_form, optimizer, quantum_instance=backend)\n"
     ]
    },
    {
     "name": "stdout",
     "output_type": "stream",
     "text": [
      "Interatomic Distance: 0.73 VQE Result: -1.13730605\n"
     ]
    },
    {
     "name": "stderr",
     "output_type": "stream",
     "text": [
      "<ipython-input-23-a3c58ae3ae19>:29: DeprecationWarning: The class ``qiskit.algorithms.minimum_eigen_solvers.vqe.VQE`` is deprecated as of qiskit-terra 0.24.0. It will be removed no earlier than 3 months after the release date. Instead, use the class ``qiskit.algorithms.minimum_eigensolvers.VQE``. See https://qisk.it/algo_migration for a migration guide.\n",
      "  vqe = VQE(var_form, optimizer, quantum_instance=backend)\n"
     ]
    },
    {
     "name": "stdout",
     "output_type": "stream",
     "text": [
      "Interatomic Distance: 0.73 VQE Result: -1.13730604\n"
     ]
    },
    {
     "name": "stderr",
     "output_type": "stream",
     "text": [
      "<ipython-input-23-a3c58ae3ae19>:29: DeprecationWarning: The class ``qiskit.algorithms.minimum_eigen_solvers.vqe.VQE`` is deprecated as of qiskit-terra 0.24.0. It will be removed no earlier than 3 months after the release date. Instead, use the class ``qiskit.algorithms.minimum_eigensolvers.VQE``. See https://qisk.it/algo_migration for a migration guide.\n",
      "  vqe = VQE(var_form, optimizer, quantum_instance=backend)\n"
     ]
    },
    {
     "name": "stdout",
     "output_type": "stream",
     "text": [
      "Interatomic Distance: 0.74 VQE Result: -1.13730603\n"
     ]
    },
    {
     "name": "stderr",
     "output_type": "stream",
     "text": [
      "<ipython-input-23-a3c58ae3ae19>:29: DeprecationWarning: The class ``qiskit.algorithms.minimum_eigen_solvers.vqe.VQE`` is deprecated as of qiskit-terra 0.24.0. It will be removed no earlier than 3 months after the release date. Instead, use the class ``qiskit.algorithms.minimum_eigensolvers.VQE``. See https://qisk.it/algo_migration for a migration guide.\n",
      "  vqe = VQE(var_form, optimizer, quantum_instance=backend)\n"
     ]
    },
    {
     "name": "stdout",
     "output_type": "stream",
     "text": [
      "Interatomic Distance: 0.74 VQE Result: -1.13730600\n"
     ]
    },
    {
     "name": "stderr",
     "output_type": "stream",
     "text": [
      "<ipython-input-23-a3c58ae3ae19>:29: DeprecationWarning: The class ``qiskit.algorithms.minimum_eigen_solvers.vqe.VQE`` is deprecated as of qiskit-terra 0.24.0. It will be removed no earlier than 3 months after the release date. Instead, use the class ``qiskit.algorithms.minimum_eigensolvers.VQE``. See https://qisk.it/algo_migration for a migration guide.\n",
      "  vqe = VQE(var_form, optimizer, quantum_instance=backend)\n"
     ]
    },
    {
     "name": "stdout",
     "output_type": "stream",
     "text": [
      "Interatomic Distance: 0.74 VQE Result: -1.13730597\n"
     ]
    },
    {
     "name": "stderr",
     "output_type": "stream",
     "text": [
      "<ipython-input-23-a3c58ae3ae19>:29: DeprecationWarning: The class ``qiskit.algorithms.minimum_eigen_solvers.vqe.VQE`` is deprecated as of qiskit-terra 0.24.0. It will be removed no earlier than 3 months after the release date. Instead, use the class ``qiskit.algorithms.minimum_eigensolvers.VQE``. See https://qisk.it/algo_migration for a migration guide.\n",
      "  vqe = VQE(var_form, optimizer, quantum_instance=backend)\n"
     ]
    },
    {
     "name": "stdout",
     "output_type": "stream",
     "text": [
      "Interatomic Distance: 0.74 VQE Result: -1.13730593\n"
     ]
    },
    {
     "name": "stderr",
     "output_type": "stream",
     "text": [
      "<ipython-input-23-a3c58ae3ae19>:29: DeprecationWarning: The class ``qiskit.algorithms.minimum_eigen_solvers.vqe.VQE`` is deprecated as of qiskit-terra 0.24.0. It will be removed no earlier than 3 months after the release date. Instead, use the class ``qiskit.algorithms.minimum_eigensolvers.VQE``. See https://qisk.it/algo_migration for a migration guide.\n",
      "  vqe = VQE(var_form, optimizer, quantum_instance=backend)\n"
     ]
    },
    {
     "name": "stdout",
     "output_type": "stream",
     "text": [
      "Interatomic Distance: 0.74 VQE Result: -1.13730588\n"
     ]
    },
    {
     "name": "stderr",
     "output_type": "stream",
     "text": [
      "<ipython-input-23-a3c58ae3ae19>:29: DeprecationWarning: The class ``qiskit.algorithms.minimum_eigen_solvers.vqe.VQE`` is deprecated as of qiskit-terra 0.24.0. It will be removed no earlier than 3 months after the release date. Instead, use the class ``qiskit.algorithms.minimum_eigensolvers.VQE``. See https://qisk.it/algo_migration for a migration guide.\n",
      "  vqe = VQE(var_form, optimizer, quantum_instance=backend)\n"
     ]
    },
    {
     "name": "stdout",
     "output_type": "stream",
     "text": [
      "Interatomic Distance: 0.74 VQE Result: -1.13730583\n"
     ]
    },
    {
     "name": "stderr",
     "output_type": "stream",
     "text": [
      "<ipython-input-23-a3c58ae3ae19>:29: DeprecationWarning: The class ``qiskit.algorithms.minimum_eigen_solvers.vqe.VQE`` is deprecated as of qiskit-terra 0.24.0. It will be removed no earlier than 3 months after the release date. Instead, use the class ``qiskit.algorithms.minimum_eigensolvers.VQE``. See https://qisk.it/algo_migration for a migration guide.\n",
      "  vqe = VQE(var_form, optimizer, quantum_instance=backend)\n"
     ]
    },
    {
     "name": "stdout",
     "output_type": "stream",
     "text": [
      "Interatomic Distance: 0.74 VQE Result: -1.13730576\n"
     ]
    },
    {
     "name": "stderr",
     "output_type": "stream",
     "text": [
      "<ipython-input-23-a3c58ae3ae19>:29: DeprecationWarning: The class ``qiskit.algorithms.minimum_eigen_solvers.vqe.VQE`` is deprecated as of qiskit-terra 0.24.0. It will be removed no earlier than 3 months after the release date. Instead, use the class ``qiskit.algorithms.minimum_eigensolvers.VQE``. See https://qisk.it/algo_migration for a migration guide.\n",
      "  vqe = VQE(var_form, optimizer, quantum_instance=backend)\n"
     ]
    },
    {
     "name": "stdout",
     "output_type": "stream",
     "text": [
      "Interatomic Distance: 0.74 VQE Result: -1.13730569\n"
     ]
    },
    {
     "name": "stderr",
     "output_type": "stream",
     "text": [
      "<ipython-input-23-a3c58ae3ae19>:29: DeprecationWarning: The class ``qiskit.algorithms.minimum_eigen_solvers.vqe.VQE`` is deprecated as of qiskit-terra 0.24.0. It will be removed no earlier than 3 months after the release date. Instead, use the class ``qiskit.algorithms.minimum_eigensolvers.VQE``. See https://qisk.it/algo_migration for a migration guide.\n",
      "  vqe = VQE(var_form, optimizer, quantum_instance=backend)\n"
     ]
    },
    {
     "name": "stdout",
     "output_type": "stream",
     "text": [
      "Interatomic Distance: 0.74 VQE Result: -1.13730561\n"
     ]
    },
    {
     "name": "stderr",
     "output_type": "stream",
     "text": [
      "<ipython-input-23-a3c58ae3ae19>:29: DeprecationWarning: The class ``qiskit.algorithms.minimum_eigen_solvers.vqe.VQE`` is deprecated as of qiskit-terra 0.24.0. It will be removed no earlier than 3 months after the release date. Instead, use the class ``qiskit.algorithms.minimum_eigensolvers.VQE``. See https://qisk.it/algo_migration for a migration guide.\n",
      "  vqe = VQE(var_form, optimizer, quantum_instance=backend)\n"
     ]
    },
    {
     "name": "stdout",
     "output_type": "stream",
     "text": [
      "Interatomic Distance: 0.74 VQE Result: -1.13730552\n"
     ]
    },
    {
     "name": "stderr",
     "output_type": "stream",
     "text": [
      "<ipython-input-23-a3c58ae3ae19>:29: DeprecationWarning: The class ``qiskit.algorithms.minimum_eigen_solvers.vqe.VQE`` is deprecated as of qiskit-terra 0.24.0. It will be removed no earlier than 3 months after the release date. Instead, use the class ``qiskit.algorithms.minimum_eigensolvers.VQE``. See https://qisk.it/algo_migration for a migration guide.\n",
      "  vqe = VQE(var_form, optimizer, quantum_instance=backend)\n"
     ]
    },
    {
     "name": "stdout",
     "output_type": "stream",
     "text": [
      "Interatomic Distance: 0.74 VQE Result: -1.13730542\n"
     ]
    },
    {
     "name": "stderr",
     "output_type": "stream",
     "text": [
      "<ipython-input-23-a3c58ae3ae19>:29: DeprecationWarning: The class ``qiskit.algorithms.minimum_eigen_solvers.vqe.VQE`` is deprecated as of qiskit-terra 0.24.0. It will be removed no earlier than 3 months after the release date. Instead, use the class ``qiskit.algorithms.minimum_eigensolvers.VQE``. See https://qisk.it/algo_migration for a migration guide.\n",
      "  vqe = VQE(var_form, optimizer, quantum_instance=backend)\n"
     ]
    },
    {
     "name": "stdout",
     "output_type": "stream",
     "text": [
      "Interatomic Distance: 0.74 VQE Result: -1.13730532\n"
     ]
    },
    {
     "name": "stderr",
     "output_type": "stream",
     "text": [
      "<ipython-input-23-a3c58ae3ae19>:29: DeprecationWarning: The class ``qiskit.algorithms.minimum_eigen_solvers.vqe.VQE`` is deprecated as of qiskit-terra 0.24.0. It will be removed no earlier than 3 months after the release date. Instead, use the class ``qiskit.algorithms.minimum_eigensolvers.VQE``. See https://qisk.it/algo_migration for a migration guide.\n",
      "  vqe = VQE(var_form, optimizer, quantum_instance=backend)\n"
     ]
    },
    {
     "name": "stdout",
     "output_type": "stream",
     "text": [
      "Interatomic Distance: 0.74 VQE Result: -1.13730521\n"
     ]
    },
    {
     "name": "stderr",
     "output_type": "stream",
     "text": [
      "<ipython-input-23-a3c58ae3ae19>:29: DeprecationWarning: The class ``qiskit.algorithms.minimum_eigen_solvers.vqe.VQE`` is deprecated as of qiskit-terra 0.24.0. It will be removed no earlier than 3 months after the release date. Instead, use the class ``qiskit.algorithms.minimum_eigensolvers.VQE``. See https://qisk.it/algo_migration for a migration guide.\n",
      "  vqe = VQE(var_form, optimizer, quantum_instance=backend)\n"
     ]
    },
    {
     "name": "stdout",
     "output_type": "stream",
     "text": [
      "Interatomic Distance: 0.74 VQE Result: -1.13730509\n"
     ]
    },
    {
     "name": "stderr",
     "output_type": "stream",
     "text": [
      "<ipython-input-23-a3c58ae3ae19>:29: DeprecationWarning: The class ``qiskit.algorithms.minimum_eigen_solvers.vqe.VQE`` is deprecated as of qiskit-terra 0.24.0. It will be removed no earlier than 3 months after the release date. Instead, use the class ``qiskit.algorithms.minimum_eigensolvers.VQE``. See https://qisk.it/algo_migration for a migration guide.\n",
      "  vqe = VQE(var_form, optimizer, quantum_instance=backend)\n"
     ]
    },
    {
     "name": "stdout",
     "output_type": "stream",
     "text": [
      "Interatomic Distance: 0.74 VQE Result: -1.13730496\n",
      "All energies have been calculated\n"
     ]
    }
   ],
   "source": [
    "import numpy as np\n",
    "\n",
    "# Choose the statevector simulator as backend \n",
    "backend = Aer.get_backend(\"statevector_simulator\")\n",
    "\n",
    "# Choose an optimizer with a low number of max. iterations \n",
    "optimizer = SLSQP(maxiter=10)\n",
    "\n",
    "# Generate the distances\n",
    "distances = np.linspace(0.734, 0.736, 30)\n",
    "\n",
    "print(f\"step size {distances[1]-distances[0]:.5f}\")\n",
    "\n",
    "# Generate empty lists for the exact energies and the energis of the VQE\n",
    "vqe_energies = []\n",
    "\n",
    "for dist in distances: # loop over all distances\n",
    "    # Create the Hamiltonian for the current distance\n",
    "    (qubit_op, num_particles, num_spin_orbitals, problem, converter) = create_qubit_op(dist)\n",
    "    \n",
    "    \n",
    "    # Generate the Hatree-Fock state as initial state for the VQE \n",
    "    init_state = HartreeFock(num_spin_orbitals, num_particles, converter)\n",
    "    \n",
    "    # Choose an Ansatz\n",
    "    var_form = UCCSD(converter, num_particles, num_spin_orbitals, initial_state=init_state)\n",
    "    \n",
    "    # Run the VQE \n",
    "    vqe = VQE(var_form, optimizer, quantum_instance=backend)\n",
    "    vqe_result = vqe.compute_minimum_eigenvalue(qubit_op)\n",
    "    \n",
    "    # Get the results for the total ground state energy (Hatree)\n",
    "    vqe_energies.append(problem.interpret(vqe_result).total_energies[0].real)\n",
    "    \n",
    "    # Print the current results\n",
    "    print(f\"Interatomic Distance: {np.round(dist, 2)}\",\n",
    "          f\"VQE Result: {vqe_energies[-1]:.8f}\")\n",
    "\n",
    "print(\"All energies have been calculated\")\n"
   ]
  },
  {
   "cell_type": "code",
   "execution_count": 24,
   "metadata": {
    "colab": {
     "base_uri": "https://localhost:8080/",
     "height": 500
    },
    "id": "U7gkxv-Vnl6D",
    "outputId": "30c9a66b-1cac-4b86-af58-c97d5555f684"
   },
   "outputs": [
    {
     "name": "stdout",
     "output_type": "stream",
     "text": [
      "bounding energy: -5.554792655288823 eV\n",
      "Corresponding distance 0.734897 Angstrom\n"
     ]
    },
    {
     "data": {
      "image/png": "[encoded data removed]",
      "text/plain": [
       "<Figure size 640x480 with 1 Axes>"
      ]
     },
     "metadata": {},
     "output_type": "display_data"
    }
   ],
   "source": [
    "E_infinity = -0.9331712886000973\n",
    "vqe_energies = np.array(vqe_energies)\n",
    "vqe_energies_converted = ( vqe_energies-E_infinity ) * 27.2114\n",
    "print(f'bounding energy: {vqe_energies_converted.min()} eV')\n",
    "print(f'Corresponding distance {distances[np.argmin(vqe_energies_converted)]:.6f} Angstrom')\n",
    "\n",
    "plt.plot(distances, vqe_energies_converted, label=\"VQE Energy (statevecor sim.)\")\n",
    "plt.xlabel('interatomic distance (Angstrom)')\n",
    "plt.ylabel('Molecular potential (eV)')\n",
    "plt.legend()\n",
    "plt.grid()\n",
    "plt.show()"
   ]
  },
  {
   "cell_type": "markdown",
   "metadata": {
    "id": "ySHETX1wnl6D"
   },
   "source": [
    "### 5. Varying: Mapper, Ansatz and Optimizer"
   ]
  },
  {
   "cell_type": "markdown",
   "metadata": {
    "id": "Uvl4XN5gnl6D"
   },
   "source": [
    "In this section we will try out different mappers, ansätze and optimisers. For this, we will write more Python functions to quickly perform the VQE for different combinations."
   ]
  },
  {
   "cell_type": "markdown",
   "metadata": {
    "id": "wdvp4Z3Hnl6E"
   },
   "source": [
    "#### 5.1 Creating the qubit Hamiltonian for different Mappers"
   ]
  },
  {
   "cell_type": "markdown",
   "metadata": {
    "id": "jckMv9wanl6E"
   },
   "source": [
    "Besides the `JordanWignerMapper`, there are two other mappers we want to try, the `ParityMapper` and the `BravyiKiteavMapper` (see section 5.3 of the manual). First we import all mappers from qiskit."
   ]
  },
  {
   "cell_type": "markdown",
   "metadata": {
    "id": "5FwxEF-Rnl6E"
   },
   "source": [
    "We modify our `create_qubit_op` function, such that we can pass the different mappers as an argument.\n"
   ]
  },
  {
   "cell_type": "code",
   "execution_count": 25,
   "metadata": {
    "id": "aNjfKkQUnl6E"
   },
   "outputs": [],
   "source": [
    "from qiskit_nature.mappers.second_quantization import JordanWignerMapper, ParityMapper, BravyiKitaevMapper\n",
    "\n",
    "def create_qubit_op(dist,mappertype='JordanWignerMapper'):\n",
    "    '''\n",
    "    Input: \n",
    "        dist: interatomic distance of the H atoms (float)\n",
    "        mapper: name of the mapper (str) \n",
    "            possible mappers: JordanWignerMapper, ParityMapper, BravyiKitaevMapper\n",
    "    Output:\n",
    "        qubit_op: Hamiltonian mapped onto the qubits\n",
    "        num_particles: total number of electrons\n",
    "        num_spin_orbitals: total number of spin orbitals\n",
    "        problem: corresponding ElectronicStructureProblem object\n",
    "        converter: QubitConverter object\n",
    "    '''\n",
    "    \n",
    "    # Define the molecule for the given distance \n",
    "    molecule = Molecule(\n",
    "    # Coordinates in Angstrom \n",
    "    geometry= [\n",
    "        [\"H\", [0.0,0.0,0.0]], \n",
    "        [\"H\", [0.0,0.0,dist]]\n",
    "    ]    \n",
    "    )\n",
    "\n",
    "    # Define the driver \n",
    "    driver = ElectronicStructureMoleculeDriver(\n",
    "        molecule=molecule,\n",
    "        basis=\"sto3g\",\n",
    "        driver_type = ElectronicStructureDriverType.PYSCF\n",
    "    )\n",
    "\n",
    "    # Run the driver\n",
    "    properties = driver.run()\n",
    "\n",
    "    # Get additional properties\n",
    "    num_particles = (properties.get_property(\"ParticleNumber\").num_particles)\n",
    "    num_spin_orbitals = int(properties.get_property(\"ParticleNumber\").num_spin_orbitals)\n",
    "\n",
    "    # Define the problem using the driver\n",
    "    problem = ElectronicStructureProblem(driver)\n",
    "\n",
    "    # Generate the second-quantized operators\n",
    "    second_q_ops = problem.second_q_ops()\n",
    "\n",
    "    # Get the Hamiltonian\n",
    "    hamiltonian = second_q_ops['ElectronicEnergy']\n",
    "\n",
    "    # Set the mapper\n",
    "    if mappertype == 'JordanWignerMapper':\n",
    "        mapper = JordanWignerMapper()\n",
    "    elif mappertype == 'ParityMapper':\n",
    "        mapper = ParityMapper()\n",
    "    elif mappertype == 'BravyiKitaevMapper':\n",
    "        mapper =  BravyiKitaevMapper()\n",
    "    else:\n",
    "        print('No mapper found with the name: ', mappertype)\n",
    "        return \n",
    "        \n",
    "    # Set the converter without two qubit reduction\n",
    "    converter = QubitConverter(mapper = mapper, two_qubit_reduction = False)\n",
    "\n",
    "    # Map the fermionic operators onto qubit operators \n",
    "    num_particles = problem.num_particles\n",
    "    qubit_op = converter.convert(hamiltonian, num_particles=num_particles)\n",
    "    \n",
    "    \n",
    "    return qubit_op, num_particles, num_spin_orbitals, problem, converter"
   ]
  },
  {
   "cell_type": "markdown",
   "metadata": {
    "id": "Y9FSNDbanl6E"
   },
   "source": [
    "#### 5.2 Using a different Ansatz and Optimizer"
   ]
  },
  {
   "cell_type": "markdown",
   "metadata": {
    "id": "f9H-Gnq4nl6F"
   },
   "source": [
    "First we load some of the other Ansatzes, which are availabe in qiskit. More Ansatzes can be found [here](https://qiskit.org/documentation/nature/apidocs/qiskit_nature.circuit.library.html). We want to stick with the ones presented in section 5.4.2 of the manual."
   ]
  },
  {
   "cell_type": "code",
   "execution_count": 26,
   "metadata": {
    "id": "EGQaii8anl6F"
   },
   "outputs": [],
   "source": [
    "from qiskit.circuit.library import TwoLocal, EfficientSU2 \n",
    "from qiskit_nature.circuit.library import UCCSD, PUCCD, SUCCD"
   ]
  },
  {
   "cell_type": "markdown",
   "metadata": {
    "id": "zDNVwuWmnl6F"
   },
   "source": [
    "We also load more optimizers to try. \n",
    "A full list of the supported optimizers can be found [here](https://qiskit.org/documentation/stubs/qiskit.algorithms.optimizers.html). Here, we also want to stick with those presented in the manual (see section 5.4.3)."
   ]
  },
  {
   "cell_type": "code",
   "execution_count": 27,
   "metadata": {
    "id": "ZpZ8Le9snl6F"
   },
   "outputs": [],
   "source": [
    "from qiskit.algorithms.optimizers import COBYLA, SPSA, SLSQP, L_BFGS_B"
   ]
  },
  {
   "cell_type": "markdown",
   "metadata": {
    "id": "jko_szH9nl6F"
   },
   "source": [
    "To vary the ansatz and the optimizer, we write another Python function that loads the backend and performs the VQE. The function should have the following input arguments: \n",
    "\n",
    "- necessary data for the VQE\n",
    "- type of the simulator\n",
    "- Ansatz\n",
    "- optimizer\n",
    "\n",
    "The function shall return the result of the VQE and the two lists for the convergence.\n",
    "\n",
    "Note, that the `TwoLocal` ansatz (and the `EfficientSU2` ansatz) needs more configuration. "
   ]
  },
  {
   "cell_type": "code",
   "execution_count": 28,
   "metadata": {
    "id": "zvb-l78Dnl6F"
   },
   "outputs": [],
   "source": [
    "def run_vqe(qubit_op, num_particles, num_spin_orbitals, problem, converter, \n",
    "            simulator_type ='aer_simulator', ansatz_type='UCCSD', optimizer_type='SPSA', max_iterations = 100,\n",
    "            entanglement = 'full', rotation_blocks = ['rx', 'ry'], entanglement_blocks = ['cz']):\n",
    "    '''\n",
    "    Possible inputs:\n",
    "    - simulator_type = 'aer_simulator', 'statevector_simulator'\n",
    "    - ansatz_type = 'UCCSD', 'PUCDD', 'SUCCD', 'EfficientSU2', 'TwoLocal'\n",
    "    - optimizer_type = 'COBYLA', 'SPSA', 'SLSQP', 'L_BFGS_B'\n",
    "    - entanglement = 'linear', 'full', 'circular'\n",
    "    - rotation_blocks: list of 'rx', 'ry', 'rz'\n",
    "    - entanglement_blocks: 'cx', 'cz'\n",
    "    '''\n",
    "    \n",
    "    # Load the simulator\n",
    "    try:\n",
    "        backend = Aer.get_backend(simulator_type)\n",
    "        # Generate a QuantumInstance\n",
    "        qi = QuantumInstance(backend=backend)\n",
    "    except:\n",
    "        print('Simualtor: ', simulator_type, 'not found!')\n",
    "        return\n",
    "    \n",
    "    \n",
    "    # Set up the TwoLocal ansatz   \n",
    "    \n",
    "    # Repetitions of rotation_blocks + entanglement_blocks with independent parameters\n",
    "    repetitions = 3\n",
    "    # Skip the final rotation_blocks layer\n",
    "    skip_final_rotation_layer = False\n",
    "    \n",
    "    # Get the initiale state for the other ansatzes\n",
    "    init_state = HartreeFock(num_spin_orbitals, num_particles, converter) \n",
    "\n",
    "    # Define the Ansatz\n",
    "     \n",
    "    if ansatz_type == 'TwoLocal':    \n",
    "        ansatz = TwoLocal(qubit_op.num_qubits, rotation_blocks, entanglement_blocks, reps=repetitions, \n",
    "                      entanglement=entanglement, skip_final_rotation_layer=skip_final_rotation_layer)   \n",
    "    elif ansatz_type == 'UCCSD':\n",
    "        ansatz = UCCSD(converter, num_particles, num_spin_orbitals,initial_state=init_state)\n",
    "    elif ansatz_type == 'PUCCD':\n",
    "        ansatz = PUCCD(converter, num_particles, num_spin_orbitals,initial_state=init_state)\n",
    "    elif ansatz_type == 'SUCCD':\n",
    "        ansatz = SUCCD(converter, num_particles, num_spin_orbitals,initial_state=init_state)    \n",
    "    elif ansatz_type == 'EfficientSU2':\n",
    "        ansatz = EfficientSU2(qubit_op.num_qubits, entanglement=entanglement)\n",
    "    else:\n",
    "        print('Ansatz ', ansatz_type, ' not found!')\n",
    "        return\n",
    "    \n",
    "    # Define the optimizer\n",
    "    if optimizer_type == 'COBYLA':\n",
    "        optimizer = COBYLA(maxiter=max_iterations)\n",
    "    elif optimizer_type == 'L_BFGS_B':\n",
    "        optimizer = L_BFGS_B(maxiter=max_iterations)\n",
    "    elif optimizer_type == 'SPSA':\n",
    "        optimizer = SPSA(maxiter=max_iterations)\n",
    "    elif optimizer_type == 'SLSQP':\n",
    "        optimizer = SLSQP(maxiter=max_iterations)\n",
    "\n",
    "    # Run the VQE using the quantum instance and the callback function\n",
    "    vqe = VQE(ansatz, optimizer=optimizer, quantum_instance=qi)\n",
    "    vqe_result = vqe.compute_minimum_eigenvalue(operator=qubit_op)\n",
    "\n",
    "    return vqe_result, ansatz"
   ]
  },
  {
   "cell_type": "markdown",
   "metadata": {
    "id": "XVo7zuzfnl6G"
   },
   "source": [
    "#### 5.3 Storing the results in a dictionary"
   ]
  },
  {
   "cell_type": "markdown",
   "metadata": {
    "id": "ilpe1N2qnl6G"
   },
   "source": [
    "We now want to write a rotine that performs the VQE using the functions defined above, evaluates the result and stores it in a dictionary. \n",
    "Using the pandas package, we can then save the data in a .csv file and display it clearly. The rotine can be used to easily test and evaluate different combinations of mapper, Ansatz and optimizer.\n",
    "\n",
    "In order to judge how good the choise of the ansatz/optimizer is, one can use the number of CNOT-gates of the ansatz. However, one also wants to reach chemical accuracy, which is $\\Delta E_{\\text{chem}} = 4 \\text{mHa}$. This is hard to reach, depending on the problem. \n",
    "While its easy to achieve low numbers of CNOT gates, while reaching accuacies far below $\\Delta E_{\\text{chem}}$ for $\\text{H}_2$, it gets quickly impossible for larger molecules.\n",
    "The rotine below gives you the number of CNOTs for your choise of mapper, ansatz and optimizer, as well as the error $\\Delta E$ and the run time of the calculation."
   ]
  },
  {
   "cell_type": "code",
   "execution_count": 29,
   "metadata": {
    "id": "ow139Ogdnl6H"
   },
   "outputs": [],
   "source": [
    "# Import more required packages\n",
    "\n",
    "import pandas as pd\n",
    "import os.path\n",
    "import matplotlib.pyplot as plt\n",
    "\n",
    "import timeit\n",
    "\n",
    "from qiskit.transpiler import PassManager\n",
    "from qiskit.transpiler.passes import Unroller"
   ]
  },
  {
   "cell_type": "code",
   "execution_count": 31,
   "metadata": {
    "id": "5XHatoIvnl6H"
   },
   "outputs": [],
   "source": [
    "def add_to_file(mapper = 'ParityMapper',\n",
    "                ansatz = 'PUCCD',\n",
    "                optimizer = 'COBYLA',\n",
    "                entanglement = 'linear',\n",
    "                rotation_blocks = ['rx', 'ry', 'rz'],\n",
    "                entanglement_blocks = ['cz'],\n",
    "                max_iterations = 10\n",
    "                ):\n",
    "\n",
    "    ### Choose the mapper, the ansatz and the optimizer\n",
    "\n",
    "    # mapper = 'ParityMapper'\n",
    "    # 'JordanWignerMapper', 'ParityMapper', 'BravyiKitaevMapper'\n",
    "\n",
    "    # ansatz = 'PUCCD'\n",
    "    # 'UCCSD', 'PUCCD', 'SUCCD', 'EfficientSU2', 'TwoLocal'\n",
    "\n",
    "    # optimizer = 'COBYLA'\n",
    "    # 'COBYLA', 'SPSA', 'SLSQP', 'L_BFGS_B'\n",
    "    # max_iterations = 10\n",
    "\n",
    "    ### Set the parameters of the TwoLocal and the EfficientSU2 Ansatz \n",
    "\n",
    "    # entanglement = 'linear' \n",
    "    # 'linear', 'full', 'circular'\n",
    "    # rotation_blocks = ['rx', 'ry', 'rz']\n",
    "    # 'rx', 'ry', 'rz'\n",
    "    #entanglement_blocks = ['cz']\n",
    "    # 'cz', 'cx'\n",
    "\n",
    "    ### Perform the VQE \n",
    "\n",
    "    # Time the computation \n",
    "    start = timeit.default_timer()\n",
    "\n",
    "    # Generate the qubit Hamiltonian\n",
    "    (qubit_op, num_particles, num_spin_orbitals, problem, converter) = create_qubit_op(dist = 0.735,mappertype=mapper)\n",
    "\n",
    "    # Perform the VQE and observe the convergence \n",
    "    (vqe_result, ansatz_circuit) = run_vqe(qubit_op, num_particles, num_spin_orbitals, problem, converter, \n",
    "                simulator_type = 'aer_simulator', ansatz_type=ansatz, optimizer_type=optimizer, max_iterations = max_iterations,\n",
    "                entanglement=entanglement, rotation_blocks=rotation_blocks, entanglement_blocks=entanglement_blocks)\n",
    "\n",
    "    stop = timeit.default_timer()\n",
    "\n",
    "    ### Calculate the exact energy \n",
    "\n",
    "    exact_result = exact_solver(problem,converter)\n",
    "\n",
    "\n",
    "    ### Get the number of required CNOTS\n",
    "\n",
    "    # Use an Unroller to transpile the used circuit into CNOTs and U gates to count them\n",
    "    pass_ = Unroller(['u', 'cx'])\n",
    "    pass_manager = PassManager(pass_)\n",
    "    ansatz_tp = pass_manager.run(ansatz_circuit)\n",
    "    n_cnots = ansatz_tp.count_ops()['cx']\n",
    "\n",
    "    \n",
    "    ### Gnerate the result dictinoary\n",
    "\n",
    "    if ansatz == 'TwoLocal':\n",
    "        result_dict = {\n",
    "            'mapper': mapper,\n",
    "            'optimizer': optimizer, \n",
    "            'max iterations': max_iterations,\n",
    "            'ansatz': ansatz,\n",
    "            'entanglement': entanglement,\n",
    "            'rotation blocks': rotation_blocks,\n",
    "            'entanglement blocks': entanglement_blocks,\n",
    "            'electronic gs-energy VQE (Ha)': vqe_result.optimal_value,\n",
    "            'electronic gs-energy error (mHa)': abs(exact_result.eigenenergies[0] - vqe_result.optimal_value)/1000,\n",
    "            'total gs-energy VQE (Ha)):': problem.interpret(vqe_result).total_energies[0].real,\n",
    "            'total gs-energy error (mHa)': abs(exact_result.total_energies[0].real - problem.interpret(vqe_result).total_energies[0].real)/1000,\n",
    "            '# of parameters': len(vqe_result.optimal_point),\n",
    "            'optimizer time': vqe_result.optimizer_time,\n",
    "            '# of qubits': int(qubit_op.num_qubits),\n",
    "            '# of CNOTs': n_cnots,\n",
    "            'runtime': stop - start\n",
    "        }\n",
    "    elif ansatz == 'EfficientSU2\"':\n",
    "        result_dict = {\n",
    "            'mapper': mapper,\n",
    "            'optimizer': optimizer, \n",
    "            'max iterations': max_iterations,\n",
    "            'ansatz': ansatz,\n",
    "            'entanglement': entanglement,\n",
    "            'rotation blocks': None,\n",
    "            'entanglement blocks': None,\n",
    "            'electronic gs-energy VQE (Ha)': vqe_result.optimal_value,\n",
    "            'electronic gs-energy error (mHa)': abs(exact_result.eigenenergies[0] - vqe_result.optimal_value)/1000,\n",
    "            'total gs-energy VQE (Ha)):': problem.interpret(vqe_result).total_energies[0].real,\n",
    "            'total gs-energy error (mHa)': abs(exact_result.total_energies[0].real - problem.interpret(vqe_result).total_energies[0].real)/1000,\n",
    "            '# of parameters': len(vqe_result.optimal_point),\n",
    "            'optimizer time': vqe_rer\n",
    "        }\n",
    "    else:    \n",
    "        result_dict = {\n",
    "            'mapper': mapper,\n",
    "            'optimizer': optimizer, \n",
    "            'ansatz': ansatz,\n",
    "            'max iterations': max_iterations,\n",
    "            'entanglement': None,\n",
    "            'rotation blocks': None,\n",
    "            'entanglement blocks': None,\n",
    "            'electronic gs-energy VQE (Ha)': vqe_result.optimal_value,\n",
    "            'electronic gs-energy error (mHa)': abs(exact_result.eigenenergies[0] - vqe_result.optimal_value)*1000,\n",
    "            'total gs-energy VQE (Ha)):': problem.interpret(vqe_result).total_energies[0].real,\n",
    "            'total gs-energy error (mHa)': abs(exact_result.total_energies[0].real - problem.interpret(vqe_result).total_energies[0].real)*1000,\n",
    "            '# of parameters': len(vqe_result.optimal_point),\n",
    "            'optimizer time': vqe_result.optimizer_time,\n",
    "            '# of qubits': int(qubit_op.num_qubits),\n",
    "            '# of CNOTs': n_cnots,\n",
    "            'runtime': stop - start\n",
    "        }\n",
    "\n",
    "\n",
    "    ### Display and save the data \n",
    "\n",
    "    file = 'results_h2.csv'\n",
    "\n",
    "    # Append the result dictinoary to the savefile\n",
    "    if os.path.isfile(file):\n",
    "        # Get the data frame from the savefile and append the new data\n",
    "        results_df = pd.read_csv(file)\n",
    "        result_dict = pd.DataFrame.from_dict([result_dict])\n",
    "        results_df = pd.concat([results_df, result_dict],ignore_index = True)\n",
    "    else:\n",
    "        # Create a new data frame \n",
    "        results_df = pd.DataFrame.from_dict([result_dict])\n",
    "    # Store the data frame \n",
    "    results_df.to_csv(file)\n",
    "\n",
    "    return results_df\n",
    "\n",
    "# Show the data \n",
    "#results_df[['mapper', 'optimizer', 'ansatz', 'entanglement', 'rotation blocks', 'entanglement blocks',\n",
    "#            'electronic gs-energy VQE (Ha)', 'electronic gs-energy error (mHa)',\n",
    "#            '# of parameters', 'optimizer time', '# of qubits', '# of CNOTs', 'runtime']]\n"
   ]
  },
  {
   "cell_type": "markdown",
   "metadata": {
    "id": "z0waYBAYnl6J"
   },
   "source": [
    "**Task**:\n",
    "\n",
    "Use the rotine above to try out different combinations for the mapper, the Ansatz and the optimizer. Try to minimize the error while using as less CNOT-gates as possible. Note, that your results will get stored automatically into the `results_h2.csv` file and will be displayed above in addition."
   ]
  },
  {
   "cell_type": "code",
   "execution_count": 34,
   "metadata": {
    "colab": {
     "base_uri": "https://localhost:8080/",
     "height": 612
    },
    "id": "4SBqw0W_nl6J",
    "outputId": "350974ac-51ec-4ea4-c752-f6add06587c3"
   },
   "outputs": [
    {
     "name": "stderr",
     "output_type": "stream",
     "text": [
      "<ipython-input-28-37de59fbc161>:18: DeprecationWarning: The class ``qiskit.utils.quantum_instance.QuantumInstance`` is deprecated as of qiskit-terra 0.24.0. It will be removed no earlier than 3 months after the release date. For code migration guidelines, visit https://qisk.it/qi_migration.\n",
      "  qi = QuantumInstance(backend=backend)\n",
      "<ipython-input-28-37de59fbc161>:62: DeprecationWarning: The class ``qiskit.algorithms.minimum_eigen_solvers.vqe.VQE`` is deprecated as of qiskit-terra 0.24.0. It will be removed no earlier than 3 months after the release date. Instead, use the class ``qiskit.algorithms.minimum_eigensolvers.VQE``. See https://qisk.it/algo_migration for a migration guide.\n",
      "  vqe = VQE(ansatz, optimizer=optimizer, quantum_instance=qi)\n",
      "<ipython-input-28-37de59fbc161>:18: DeprecationWarning: The class ``qiskit.utils.quantum_instance.QuantumInstance`` is deprecated as of qiskit-terra 0.24.0. It will be removed no earlier than 3 months after the release date. For code migration guidelines, visit https://qisk.it/qi_migration.\n",
      "  qi = QuantumInstance(backend=backend)\n",
      "<ipython-input-28-37de59fbc161>:62: DeprecationWarning: The class ``qiskit.algorithms.minimum_eigen_solvers.vqe.VQE`` is deprecated as of qiskit-terra 0.24.0. It will be removed no earlier than 3 months after the release date. Instead, use the class ``qiskit.algorithms.minimum_eigensolvers.VQE``. See https://qisk.it/algo_migration for a migration guide.\n",
      "  vqe = VQE(ansatz, optimizer=optimizer, quantum_instance=qi)\n",
      "<ipython-input-28-37de59fbc161>:18: DeprecationWarning: The class ``qiskit.utils.quantum_instance.QuantumInstance`` is deprecated as of qiskit-terra 0.24.0. It will be removed no earlier than 3 months after the release date. For code migration guidelines, visit https://qisk.it/qi_migration.\n",
      "  qi = QuantumInstance(backend=backend)\n",
      "<ipython-input-28-37de59fbc161>:62: DeprecationWarning: The class ``qiskit.algorithms.minimum_eigen_solvers.vqe.VQE`` is deprecated as of qiskit-terra 0.24.0. It will be removed no earlier than 3 months after the release date. Instead, use the class ``qiskit.algorithms.minimum_eigensolvers.VQE``. See https://qisk.it/algo_migration for a migration guide.\n",
      "  vqe = VQE(ansatz, optimizer=optimizer, quantum_instance=qi)\n"
     ]
    },
    {
     "ename": "KeyboardInterrupt",
     "evalue": "ignored",
     "output_type": "error",
     "traceback": [
      "\u001b[0;31m---------------------------------------------------------------------------\u001b[0m",
      "\u001b[0;31mKeyboardInterrupt\u001b[0m                         Traceback (most recent call last)",
      "\u001b[0;32m<ipython-input-34-265b00927784>\u001b[0m in \u001b[0;36m<cell line: 16>\u001b[0;34m()\u001b[0m\n\u001b[1;32m     25\u001b[0m                         \u001b[0mresults_df\u001b[0m \u001b[0;34m=\u001b[0m \u001b[0madd_to_file\u001b[0m\u001b[0;34m(\u001b[0m\u001b[0mmapper\u001b[0m\u001b[0;34m=\u001b[0m\u001b[0mmapper\u001b[0m\u001b[0;34m,\u001b[0m \u001b[0mansatz\u001b[0m\u001b[0;34m=\u001b[0m\u001b[0mansatz\u001b[0m\u001b[0;34m,\u001b[0m \u001b[0moptimizer\u001b[0m\u001b[0;34m=\u001b[0m\u001b[0moptimizer\u001b[0m\u001b[0;34m,\u001b[0m \u001b[0mentanglement\u001b[0m\u001b[0;34m=\u001b[0m\u001b[0mentanglement\u001b[0m\u001b[0;34m,\u001b[0m \u001b[0mentanglement_blocks\u001b[0m\u001b[0;34m=\u001b[0m\u001b[0mentanglement_blocks\u001b[0m\u001b[0;34m)\u001b[0m\u001b[0;34m\u001b[0m\u001b[0;34m\u001b[0m\u001b[0m\n\u001b[1;32m     26\u001b[0m             \u001b[0;32melse\u001b[0m\u001b[0;34m:\u001b[0m\u001b[0;34m\u001b[0m\u001b[0;34m\u001b[0m\u001b[0m\n\u001b[0;32m---> 27\u001b[0;31m                 \u001b[0mresults_df\u001b[0m \u001b[0;34m=\u001b[0m \u001b[0madd_to_file\u001b[0m\u001b[0;34m(\u001b[0m\u001b[0mmapper\u001b[0m\u001b[0;34m=\u001b[0m\u001b[0mmapper\u001b[0m\u001b[0;34m,\u001b[0m \u001b[0mansatz\u001b[0m\u001b[0;34m=\u001b[0m\u001b[0mansatz\u001b[0m\u001b[0;34m,\u001b[0m \u001b[0moptimizer\u001b[0m\u001b[0;34m=\u001b[0m\u001b[0moptimizer\u001b[0m\u001b[0;34m)\u001b[0m\u001b[0;34m\u001b[0m\u001b[0;34m\u001b[0m\u001b[0m\n\u001b[0m\u001b[1;32m     28\u001b[0m \u001b[0;34m\u001b[0m\u001b[0m\n\u001b[1;32m     29\u001b[0m results_df[['mapper', 'optimizer', 'ansatz', 'entanglement', 'rotation blocks', 'entanglement blocks',\n",
      "\u001b[0;32m<ipython-input-31-a10f5a546133>\u001b[0m in \u001b[0;36madd_to_file\u001b[0;34m(mapper, ansatz, optimizer, entanglement, rotation_blocks, entanglement_blocks, max_iterations)\u001b[0m\n\u001b[1;32m     38\u001b[0m \u001b[0;34m\u001b[0m\u001b[0m\n\u001b[1;32m     39\u001b[0m     \u001b[0;31m# Perform the VQE and observe the convergence\u001b[0m\u001b[0;34m\u001b[0m\u001b[0;34m\u001b[0m\u001b[0m\n\u001b[0;32m---> 40\u001b[0;31m     (vqe_result, ansatz_circuit) = run_vqe(qubit_op, num_particles, num_spin_orbitals, problem, converter, \n\u001b[0m\u001b[1;32m     41\u001b[0m                 \u001b[0msimulator_type\u001b[0m \u001b[0;34m=\u001b[0m \u001b[0;34m'aer_simulator'\u001b[0m\u001b[0;34m,\u001b[0m \u001b[0mansatz_type\u001b[0m\u001b[0;34m=\u001b[0m\u001b[0mansatz\u001b[0m\u001b[0;34m,\u001b[0m \u001b[0moptimizer_type\u001b[0m\u001b[0;34m=\u001b[0m\u001b[0moptimizer\u001b[0m\u001b[0;34m,\u001b[0m \u001b[0mmax_iterations\u001b[0m \u001b[0;34m=\u001b[0m \u001b[0mmax_iterations\u001b[0m\u001b[0;34m,\u001b[0m\u001b[0;34m\u001b[0m\u001b[0;34m\u001b[0m\u001b[0m\n\u001b[1;32m     42\u001b[0m                 entanglement=entanglement, rotation_blocks=rotation_blocks, entanglement_blocks=entanglement_blocks)\n",
      "\u001b[0;32m<ipython-input-28-37de59fbc161>\u001b[0m in \u001b[0;36mrun_vqe\u001b[0;34m(qubit_op, num_particles, num_spin_orbitals, problem, converter, simulator_type, ansatz_type, optimizer_type, max_iterations, entanglement, rotation_blocks, entanglement_blocks)\u001b[0m\n\u001b[1;32m     61\u001b[0m     \u001b[0;31m# Run the VQE using the quantum instance and the callback function\u001b[0m\u001b[0;34m\u001b[0m\u001b[0;34m\u001b[0m\u001b[0m\n\u001b[1;32m     62\u001b[0m     \u001b[0mvqe\u001b[0m \u001b[0;34m=\u001b[0m \u001b[0mVQE\u001b[0m\u001b[0;34m(\u001b[0m\u001b[0mansatz\u001b[0m\u001b[0;34m,\u001b[0m \u001b[0moptimizer\u001b[0m\u001b[0;34m=\u001b[0m\u001b[0moptimizer\u001b[0m\u001b[0;34m,\u001b[0m \u001b[0mquantum_instance\u001b[0m\u001b[0;34m=\u001b[0m\u001b[0mqi\u001b[0m\u001b[0;34m)\u001b[0m\u001b[0;34m\u001b[0m\u001b[0;34m\u001b[0m\u001b[0m\n\u001b[0;32m---> 63\u001b[0;31m     \u001b[0mvqe_result\u001b[0m \u001b[0;34m=\u001b[0m \u001b[0mvqe\u001b[0m\u001b[0;34m.\u001b[0m\u001b[0mcompute_minimum_eigenvalue\u001b[0m\u001b[0;34m(\u001b[0m\u001b[0moperator\u001b[0m\u001b[0;34m=\u001b[0m\u001b[0mqubit_op\u001b[0m\u001b[0;34m)\u001b[0m\u001b[0;34m\u001b[0m\u001b[0;34m\u001b[0m\u001b[0m\n\u001b[0m\u001b[1;32m     64\u001b[0m \u001b[0;34m\u001b[0m\u001b[0m\n\u001b[1;32m     65\u001b[0m     \u001b[0;32mreturn\u001b[0m \u001b[0mvqe_result\u001b[0m\u001b[0;34m,\u001b[0m \u001b[0mansatz\u001b[0m\u001b[0;34m\u001b[0m\u001b[0;34m\u001b[0m\u001b[0m\n",
      "\u001b[0;32m/usr/local/lib/python3.10/dist-packages/qiskit/algorithms/minimum_eigen_solvers/vqe.py\u001b[0m in \u001b[0;36mcompute_minimum_eigenvalue\u001b[0;34m(self, operator, aux_operators)\u001b[0m\n\u001b[1;32m    533\u001b[0m \u001b[0;34m\u001b[0m\u001b[0m\n\u001b[1;32m    534\u001b[0m         \u001b[0mself\u001b[0m\u001b[0;34m.\u001b[0m\u001b[0m_eval_count\u001b[0m \u001b[0;34m=\u001b[0m \u001b[0;36m0\u001b[0m\u001b[0;34m\u001b[0m\u001b[0;34m\u001b[0m\u001b[0m\n\u001b[0;32m--> 535\u001b[0;31m         energy_evaluation, expectation = self.get_energy_evaluation(\n\u001b[0m\u001b[1;32m    536\u001b[0m             \u001b[0moperator\u001b[0m\u001b[0;34m,\u001b[0m \u001b[0mreturn_expectation\u001b[0m\u001b[0;34m=\u001b[0m\u001b[0;32mTrue\u001b[0m\u001b[0;34m\u001b[0m\u001b[0;34m\u001b[0m\u001b[0m\n\u001b[1;32m    537\u001b[0m         )\n",
      "\u001b[0;32m/usr/local/lib/python3.10/dist-packages/qiskit/algorithms/minimum_eigen_solvers/vqe.py\u001b[0m in \u001b[0;36mget_energy_evaluation\u001b[0;34m(self, operator, return_expectation)\u001b[0m\n\u001b[1;32m    610\u001b[0m \u001b[0;34m\u001b[0m\u001b[0m\n\u001b[1;32m    611\u001b[0m         \u001b[0mansatz_params\u001b[0m \u001b[0;34m=\u001b[0m \u001b[0mself\u001b[0m\u001b[0;34m.\u001b[0m\u001b[0mansatz\u001b[0m\u001b[0;34m.\u001b[0m\u001b[0mparameters\u001b[0m\u001b[0;34m\u001b[0m\u001b[0;34m\u001b[0m\u001b[0m\n\u001b[0;32m--> 612\u001b[0;31m         expect_op, expectation = self.construct_expectation(\n\u001b[0m\u001b[1;32m    613\u001b[0m             \u001b[0mansatz_params\u001b[0m\u001b[0;34m,\u001b[0m \u001b[0moperator\u001b[0m\u001b[0;34m,\u001b[0m \u001b[0mreturn_expectation\u001b[0m\u001b[0;34m=\u001b[0m\u001b[0;32mTrue\u001b[0m\u001b[0;34m\u001b[0m\u001b[0;34m\u001b[0m\u001b[0m\n\u001b[1;32m    614\u001b[0m         )\n",
      "\u001b[0;32m/usr/local/lib/python3.10/dist-packages/qiskit/algorithms/minimum_eigen_solvers/vqe.py\u001b[0m in \u001b[0;36mconstruct_expectation\u001b[0;34m(self, parameter, operator, return_expectation)\u001b[0m\n\u001b[1;32m    438\u001b[0m         \u001b[0mwave_function\u001b[0m \u001b[0;34m=\u001b[0m \u001b[0mself\u001b[0m\u001b[0;34m.\u001b[0m\u001b[0mansatz\u001b[0m\u001b[0;34m.\u001b[0m\u001b[0massign_parameters\u001b[0m\u001b[0;34m(\u001b[0m\u001b[0mparameter\u001b[0m\u001b[0;34m)\u001b[0m\u001b[0;34m\u001b[0m\u001b[0;34m\u001b[0m\u001b[0m\n\u001b[1;32m    439\u001b[0m \u001b[0;34m\u001b[0m\u001b[0m\n\u001b[0;32m--> 440\u001b[0;31m         \u001b[0mobservable_meas\u001b[0m \u001b[0;34m=\u001b[0m \u001b[0mexpectation\u001b[0m\u001b[0;34m.\u001b[0m\u001b[0mconvert\u001b[0m\u001b[0;34m(\u001b[0m\u001b[0mStateFn\u001b[0m\u001b[0;34m(\u001b[0m\u001b[0moperator\u001b[0m\u001b[0;34m,\u001b[0m \u001b[0mis_measurement\u001b[0m\u001b[0;34m=\u001b[0m\u001b[0;32mTrue\u001b[0m\u001b[0;34m)\u001b[0m\u001b[0;34m)\u001b[0m\u001b[0;34m\u001b[0m\u001b[0;34m\u001b[0m\u001b[0m\n\u001b[0m\u001b[1;32m    441\u001b[0m         \u001b[0mansatz_circuit_op\u001b[0m \u001b[0;34m=\u001b[0m \u001b[0mCircuitStateFn\u001b[0m\u001b[0;34m(\u001b[0m\u001b[0mwave_function\u001b[0m\u001b[0;34m)\u001b[0m\u001b[0;34m\u001b[0m\u001b[0;34m\u001b[0m\u001b[0m\n\u001b[1;32m    442\u001b[0m         \u001b[0mexpect_op\u001b[0m \u001b[0;34m=\u001b[0m \u001b[0mobservable_meas\u001b[0m\u001b[0;34m.\u001b[0m\u001b[0mcompose\u001b[0m\u001b[0;34m(\u001b[0m\u001b[0mansatz_circuit_op\u001b[0m\u001b[0;34m)\u001b[0m\u001b[0;34m.\u001b[0m\u001b[0mreduce\u001b[0m\u001b[0;34m(\u001b[0m\u001b[0;34m)\u001b[0m\u001b[0;34m\u001b[0m\u001b[0;34m\u001b[0m\u001b[0m\n",
      "\u001b[0;32m/usr/local/lib/python3.10/dist-packages/qiskit/opflow/expectations/pauli_expectation.py\u001b[0m in \u001b[0;36mconvert\u001b[0;34m(self, operator)\u001b[0m\n\u001b[1;32m     94\u001b[0m             \u001b[0;31m# this basis by default).\u001b[0m\u001b[0;34m\u001b[0m\u001b[0;34m\u001b[0m\u001b[0m\n\u001b[1;32m     95\u001b[0m             \u001b[0mcob\u001b[0m \u001b[0;34m=\u001b[0m \u001b[0mPauliBasisChange\u001b[0m\u001b[0;34m(\u001b[0m\u001b[0mreplacement_fn\u001b[0m\u001b[0;34m=\u001b[0m\u001b[0mPauliBasisChange\u001b[0m\u001b[0;34m.\u001b[0m\u001b[0mmeasurement_replacement_fn\u001b[0m\u001b[0;34m)\u001b[0m\u001b[0;34m\u001b[0m\u001b[0;34m\u001b[0m\u001b[0m\n\u001b[0;32m---> 96\u001b[0;31m             \u001b[0;32mreturn\u001b[0m \u001b[0mcob\u001b[0m\u001b[0;34m.\u001b[0m\u001b[0mconvert\u001b[0m\u001b[0;34m(\u001b[0m\u001b[0moperator\u001b[0m\u001b[0;34m)\u001b[0m\u001b[0;34m.\u001b[0m\u001b[0mreduce\u001b[0m\u001b[0;34m(\u001b[0m\u001b[0;34m)\u001b[0m\u001b[0;34m\u001b[0m\u001b[0;34m\u001b[0m\u001b[0m\n\u001b[0m\u001b[1;32m     97\u001b[0m \u001b[0;34m\u001b[0m\u001b[0m\n\u001b[1;32m     98\u001b[0m         \u001b[0;32mreturn\u001b[0m \u001b[0moperator\u001b[0m\u001b[0;34m\u001b[0m\u001b[0;34m\u001b[0m\u001b[0m\n",
      "\u001b[0;32m/usr/local/lib/python3.10/dist-packages/qiskit/opflow/converters/pauli_basis_change.py\u001b[0m in \u001b[0;36mconvert\u001b[0;34m(self, operator)\u001b[0m\n\u001b[1;32m    171\u001b[0m             ]\n\u001b[1;32m    172\u001b[0m             \u001b[0mlistop_of_statefns\u001b[0m \u001b[0;34m=\u001b[0m \u001b[0mSummedOp\u001b[0m\u001b[0;34m(\u001b[0m\u001b[0moplist\u001b[0m\u001b[0;34m=\u001b[0m\u001b[0msf_list\u001b[0m\u001b[0;34m,\u001b[0m \u001b[0mcoeff\u001b[0m\u001b[0;34m=\u001b[0m\u001b[0moperator\u001b[0m\u001b[0;34m.\u001b[0m\u001b[0mcoeff\u001b[0m\u001b[0;34m)\u001b[0m\u001b[0;34m\u001b[0m\u001b[0;34m\u001b[0m\u001b[0m\n\u001b[0;32m--> 173\u001b[0;31m             \u001b[0;32mreturn\u001b[0m \u001b[0mlistop_of_statefns\u001b[0m\u001b[0;34m.\u001b[0m\u001b[0mtraverse\u001b[0m\u001b[0;34m(\u001b[0m\u001b[0mself\u001b[0m\u001b[0;34m.\u001b[0m\u001b[0mconvert\u001b[0m\u001b[0;34m)\u001b[0m\u001b[0;34m\u001b[0m\u001b[0;34m\u001b[0m\u001b[0m\n\u001b[0m\u001b[1;32m    174\u001b[0m \u001b[0;34m\u001b[0m\u001b[0m\n\u001b[1;32m    175\u001b[0m         \u001b[0;32mif\u001b[0m \u001b[0misinstance\u001b[0m\u001b[0;34m(\u001b[0m\u001b[0moperator\u001b[0m\u001b[0;34m,\u001b[0m \u001b[0mOperatorStateFn\u001b[0m\u001b[0;34m)\u001b[0m \u001b[0;32mand\u001b[0m \u001b[0misinstance\u001b[0m\u001b[0;34m(\u001b[0m\u001b[0moperator\u001b[0m\u001b[0;34m.\u001b[0m\u001b[0mprimitive\u001b[0m\u001b[0;34m,\u001b[0m \u001b[0mPauliSumOp\u001b[0m\u001b[0;34m)\u001b[0m\u001b[0;34m:\u001b[0m\u001b[0;34m\u001b[0m\u001b[0;34m\u001b[0m\u001b[0m\n",
      "\u001b[0;32m/usr/local/lib/python3.10/dist-packages/qiskit/opflow/list_ops/list_op.py\u001b[0m in \u001b[0;36mtraverse\u001b[0;34m(self, convert_fn, coeff)\u001b[0m\n\u001b[1;32m    239\u001b[0m             \u001b[0;32mreturn\u001b[0m \u001b[0mListOp\u001b[0m\u001b[0;34m(\u001b[0m\u001b[0;34m[\u001b[0m\u001b[0mconvert_fn\u001b[0m\u001b[0;34m(\u001b[0m\u001b[0mop\u001b[0m\u001b[0;34m)\u001b[0m \u001b[0;32mfor\u001b[0m \u001b[0mop\u001b[0m \u001b[0;32min\u001b[0m \u001b[0mself\u001b[0m\u001b[0;34m.\u001b[0m\u001b[0moplist\u001b[0m\u001b[0;34m]\u001b[0m\u001b[0;34m,\u001b[0m \u001b[0;34m**\u001b[0m\u001b[0mself\u001b[0m\u001b[0;34m.\u001b[0m\u001b[0m_state\u001b[0m\u001b[0;34m(\u001b[0m\u001b[0mcoeff\u001b[0m\u001b[0;34m=\u001b[0m\u001b[0mcoeff\u001b[0m\u001b[0;34m)\u001b[0m\u001b[0;34m)\u001b[0m\u001b[0;34m\u001b[0m\u001b[0;34m\u001b[0m\u001b[0m\n\u001b[1;32m    240\u001b[0m         return self.__class__(\n\u001b[0;32m--> 241\u001b[0;31m             \u001b[0;34m[\u001b[0m\u001b[0mconvert_fn\u001b[0m\u001b[0;34m(\u001b[0m\u001b[0mop\u001b[0m\u001b[0;34m)\u001b[0m \u001b[0;32mfor\u001b[0m \u001b[0mop\u001b[0m \u001b[0;32min\u001b[0m \u001b[0mself\u001b[0m\u001b[0;34m.\u001b[0m\u001b[0moplist\u001b[0m\u001b[0;34m]\u001b[0m\u001b[0;34m,\u001b[0m \u001b[0mcoeff\u001b[0m\u001b[0;34m=\u001b[0m\u001b[0mcoeff\u001b[0m\u001b[0;34m,\u001b[0m \u001b[0mabelian\u001b[0m\u001b[0;34m=\u001b[0m\u001b[0mself\u001b[0m\u001b[0;34m.\u001b[0m\u001b[0mabelian\u001b[0m\u001b[0;34m\u001b[0m\u001b[0;34m\u001b[0m\u001b[0m\n\u001b[0m\u001b[1;32m    242\u001b[0m         )\n\u001b[1;32m    243\u001b[0m \u001b[0;34m\u001b[0m\u001b[0m\n",
      "\u001b[0;32m/usr/local/lib/python3.10/dist-packages/qiskit/opflow/list_ops/list_op.py\u001b[0m in \u001b[0;36m<listcomp>\u001b[0;34m(.0)\u001b[0m\n\u001b[1;32m    239\u001b[0m             \u001b[0;32mreturn\u001b[0m \u001b[0mListOp\u001b[0m\u001b[0;34m(\u001b[0m\u001b[0;34m[\u001b[0m\u001b[0mconvert_fn\u001b[0m\u001b[0;34m(\u001b[0m\u001b[0mop\u001b[0m\u001b[0;34m)\u001b[0m \u001b[0;32mfor\u001b[0m \u001b[0mop\u001b[0m \u001b[0;32min\u001b[0m \u001b[0mself\u001b[0m\u001b[0;34m.\u001b[0m\u001b[0moplist\u001b[0m\u001b[0;34m]\u001b[0m\u001b[0;34m,\u001b[0m \u001b[0;34m**\u001b[0m\u001b[0mself\u001b[0m\u001b[0;34m.\u001b[0m\u001b[0m_state\u001b[0m\u001b[0;34m(\u001b[0m\u001b[0mcoeff\u001b[0m\u001b[0;34m=\u001b[0m\u001b[0mcoeff\u001b[0m\u001b[0;34m)\u001b[0m\u001b[0;34m)\u001b[0m\u001b[0;34m\u001b[0m\u001b[0;34m\u001b[0m\u001b[0m\n\u001b[1;32m    240\u001b[0m         return self.__class__(\n\u001b[0;32m--> 241\u001b[0;31m             \u001b[0;34m[\u001b[0m\u001b[0mconvert_fn\u001b[0m\u001b[0;34m(\u001b[0m\u001b[0mop\u001b[0m\u001b[0;34m)\u001b[0m \u001b[0;32mfor\u001b[0m \u001b[0mop\u001b[0m \u001b[0;32min\u001b[0m \u001b[0mself\u001b[0m\u001b[0;34m.\u001b[0m\u001b[0moplist\u001b[0m\u001b[0;34m]\u001b[0m\u001b[0;34m,\u001b[0m \u001b[0mcoeff\u001b[0m\u001b[0;34m=\u001b[0m\u001b[0mcoeff\u001b[0m\u001b[0;34m,\u001b[0m \u001b[0mabelian\u001b[0m\u001b[0;34m=\u001b[0m\u001b[0mself\u001b[0m\u001b[0;34m.\u001b[0m\u001b[0mabelian\u001b[0m\u001b[0;34m\u001b[0m\u001b[0;34m\u001b[0m\u001b[0m\n\u001b[0m\u001b[1;32m    242\u001b[0m         )\n\u001b[1;32m    243\u001b[0m \u001b[0;34m\u001b[0m\u001b[0m\n",
      "\u001b[0;32m/usr/local/lib/python3.10/dist-packages/qiskit/opflow/converters/pauli_basis_change.py\u001b[0m in \u001b[0;36mconvert\u001b[0;34m(self, operator)\u001b[0m\n\u001b[1;32m    148\u001b[0m             \u001b[0morigin_z\u001b[0m \u001b[0;34m=\u001b[0m \u001b[0mreduce\u001b[0m\u001b[0;34m(\u001b[0m\u001b[0mnp\u001b[0m\u001b[0;34m.\u001b[0m\u001b[0mlogical_or\u001b[0m\u001b[0;34m,\u001b[0m \u001b[0mprimitive\u001b[0m\u001b[0;34m.\u001b[0m\u001b[0mpaulis\u001b[0m\u001b[0;34m.\u001b[0m\u001b[0mz\u001b[0m\u001b[0;34m)\u001b[0m\u001b[0;34m\u001b[0m\u001b[0;34m\u001b[0m\u001b[0m\n\u001b[1;32m    149\u001b[0m             \u001b[0morigin_pauli\u001b[0m \u001b[0;34m=\u001b[0m \u001b[0mPauli\u001b[0m\u001b[0;34m(\u001b[0m\u001b[0;34m(\u001b[0m\u001b[0morigin_z\u001b[0m\u001b[0;34m,\u001b[0m \u001b[0morigin_x\u001b[0m\u001b[0;34m)\u001b[0m\u001b[0;34m)\u001b[0m\u001b[0;34m\u001b[0m\u001b[0;34m\u001b[0m\u001b[0m\n\u001b[0;32m--> 150\u001b[0;31m             \u001b[0mcob_instr_op\u001b[0m\u001b[0;34m,\u001b[0m \u001b[0m_\u001b[0m \u001b[0;34m=\u001b[0m \u001b[0mself\u001b[0m\u001b[0;34m.\u001b[0m\u001b[0mget_cob_circuit\u001b[0m\u001b[0;34m(\u001b[0m\u001b[0morigin_pauli\u001b[0m\u001b[0;34m)\u001b[0m\u001b[0;34m\u001b[0m\u001b[0;34m\u001b[0m\u001b[0m\n\u001b[0m\u001b[1;32m    151\u001b[0m             \u001b[0mprimitive\u001b[0m\u001b[0;34m.\u001b[0m\u001b[0mpaulis\u001b[0m\u001b[0;34m.\u001b[0m\u001b[0mz\u001b[0m \u001b[0;34m=\u001b[0m \u001b[0mnp\u001b[0m\u001b[0;34m.\u001b[0m\u001b[0mlogical_or\u001b[0m\u001b[0;34m(\u001b[0m\u001b[0mprimitive\u001b[0m\u001b[0;34m.\u001b[0m\u001b[0mpaulis\u001b[0m\u001b[0;34m.\u001b[0m\u001b[0mx\u001b[0m\u001b[0;34m,\u001b[0m \u001b[0mprimitive\u001b[0m\u001b[0;34m.\u001b[0m\u001b[0mpaulis\u001b[0m\u001b[0;34m.\u001b[0m\u001b[0mz\u001b[0m\u001b[0;34m)\u001b[0m\u001b[0;34m\u001b[0m\u001b[0;34m\u001b[0m\u001b[0m\n\u001b[1;32m    152\u001b[0m             \u001b[0mprimitive\u001b[0m\u001b[0;34m.\u001b[0m\u001b[0mpaulis\u001b[0m\u001b[0;34m.\u001b[0m\u001b[0mx\u001b[0m \u001b[0;34m=\u001b[0m \u001b[0;32mFalse\u001b[0m\u001b[0;34m\u001b[0m\u001b[0;34m\u001b[0m\u001b[0m\n",
      "\u001b[0;32m/usr/local/lib/python3.10/dist-packages/qiskit/opflow/converters/pauli_basis_change.py\u001b[0m in \u001b[0;36mget_cob_circuit\u001b[0;34m(self, origin)\u001b[0m\n\u001b[1;32m    543\u001b[0m \u001b[0;34m\u001b[0m\u001b[0m\n\u001b[1;32m    544\u001b[0m         \u001b[0;31m# Steps 1 and 2\u001b[0m\u001b[0;34m\u001b[0m\u001b[0;34m\u001b[0m\u001b[0m\n\u001b[0;32m--> 545\u001b[0;31m         \u001b[0mcob_instruction\u001b[0m \u001b[0;34m=\u001b[0m \u001b[0mself\u001b[0m\u001b[0;34m.\u001b[0m\u001b[0mget_diagonalizing_clifford\u001b[0m\u001b[0;34m(\u001b[0m\u001b[0morigin\u001b[0m\u001b[0;34m)\u001b[0m\u001b[0;34m\u001b[0m\u001b[0;34m\u001b[0m\u001b[0m\n\u001b[0m\u001b[1;32m    546\u001b[0m \u001b[0;34m\u001b[0m\u001b[0m\n\u001b[1;32m    547\u001b[0m         \u001b[0;31m# Construct CNOT chain, assuming full connectivity... - Steps 3)-5)\u001b[0m\u001b[0;34m\u001b[0m\u001b[0;34m\u001b[0m\u001b[0m\n",
      "\u001b[0;32m/usr/local/lib/python3.10/dist-packages/qiskit/opflow/converters/pauli_basis_change.py\u001b[0m in \u001b[0;36mget_diagonalizing_clifford\u001b[0;34m(self, pauli)\u001b[0m\n\u001b[1;32m    350\u001b[0m         )\n\u001b[1;32m    351\u001b[0m \u001b[0;34m\u001b[0m\u001b[0m\n\u001b[0;32m--> 352\u001b[0;31m         y_to_x_origin = tensorall(\n\u001b[0m\u001b[1;32m    353\u001b[0m             \u001b[0;34m[\u001b[0m\u001b[0mS\u001b[0m \u001b[0;32mif\u001b[0m \u001b[0mhas_y\u001b[0m \u001b[0;32melse\u001b[0m \u001b[0mI\u001b[0m \u001b[0;32mfor\u001b[0m \u001b[0mhas_y\u001b[0m \u001b[0;32min\u001b[0m \u001b[0mreversed\u001b[0m\u001b[0;34m(\u001b[0m\u001b[0mnp\u001b[0m\u001b[0;34m.\u001b[0m\u001b[0mlogical_and\u001b[0m\u001b[0;34m(\u001b[0m\u001b[0mpauli\u001b[0m\u001b[0;34m.\u001b[0m\u001b[0mx\u001b[0m\u001b[0;34m,\u001b[0m \u001b[0mpauli\u001b[0m\u001b[0;34m.\u001b[0m\u001b[0mz\u001b[0m\u001b[0;34m)\u001b[0m\u001b[0;34m)\u001b[0m\u001b[0;34m]\u001b[0m\u001b[0;34m\u001b[0m\u001b[0;34m\u001b[0m\u001b[0m\n\u001b[1;32m    354\u001b[0m         ).adjoint()\n",
      "\u001b[0;32m/usr/local/lib/python3.10/dist-packages/qiskit/opflow/converters/pauli_basis_change.py\u001b[0m in \u001b[0;36m<lambda>\u001b[0;34m(x, y)\u001b[0m\n\u001b[1;32m    347\u001b[0m \u001b[0;34m\u001b[0m\u001b[0m\n\u001b[1;32m    348\u001b[0m         tensorall = cast(\n\u001b[0;32m--> 349\u001b[0;31m             \u001b[0mCallable\u001b[0m\u001b[0;34m[\u001b[0m\u001b[0;34m[\u001b[0m\u001b[0mList\u001b[0m\u001b[0;34m[\u001b[0m\u001b[0mPrimitiveOp\u001b[0m\u001b[0;34m]\u001b[0m\u001b[0;34m]\u001b[0m\u001b[0;34m,\u001b[0m \u001b[0mPrimitiveOp\u001b[0m\u001b[0;34m]\u001b[0m\u001b[0;34m,\u001b[0m \u001b[0mpartial\u001b[0m\u001b[0;34m(\u001b[0m\u001b[0mreduce\u001b[0m\u001b[0;34m,\u001b[0m \u001b[0;32mlambda\u001b[0m \u001b[0mx\u001b[0m\u001b[0;34m,\u001b[0m \u001b[0my\u001b[0m\u001b[0;34m:\u001b[0m \u001b[0mx\u001b[0m\u001b[0;34m.\u001b[0m\u001b[0mtensor\u001b[0m\u001b[0;34m(\u001b[0m\u001b[0my\u001b[0m\u001b[0;34m)\u001b[0m\u001b[0;34m)\u001b[0m\u001b[0;34m\u001b[0m\u001b[0;34m\u001b[0m\u001b[0m\n\u001b[0m\u001b[1;32m    350\u001b[0m         )\n\u001b[1;32m    351\u001b[0m \u001b[0;34m\u001b[0m\u001b[0m\n",
      "\u001b[0;32m/usr/local/lib/python3.10/dist-packages/qiskit/opflow/primitive_ops/circuit_op.py\u001b[0m in \u001b[0;36mtensor\u001b[0;34m(self, other)\u001b[0m\n\u001b[1;32m    114\u001b[0m             )\n\u001b[1;32m    115\u001b[0m             \u001b[0mnew_qc\u001b[0m\u001b[0;34m.\u001b[0m\u001b[0mappend\u001b[0m\u001b[0;34m(\u001b[0m\u001b[0mself\u001b[0m\u001b[0;34m.\u001b[0m\u001b[0mto_instruction\u001b[0m\u001b[0;34m(\u001b[0m\u001b[0;34m)\u001b[0m\u001b[0;34m,\u001b[0m \u001b[0mqargs\u001b[0m\u001b[0;34m=\u001b[0m\u001b[0mnew_qc\u001b[0m\u001b[0;34m.\u001b[0m\u001b[0mqubits\u001b[0m\u001b[0;34m[\u001b[0m\u001b[0mother\u001b[0m\u001b[0;34m.\u001b[0m\u001b[0mprimitive\u001b[0m\u001b[0;34m.\u001b[0m\u001b[0mnum_qubits\u001b[0m \u001b[0;34m:\u001b[0m\u001b[0;34m]\u001b[0m\u001b[0;34m)\u001b[0m\u001b[0;34m\u001b[0m\u001b[0;34m\u001b[0m\u001b[0m\n\u001b[0;32m--> 116\u001b[0;31m             \u001b[0mnew_qc\u001b[0m \u001b[0;34m=\u001b[0m \u001b[0mnew_qc\u001b[0m\u001b[0;34m.\u001b[0m\u001b[0mdecompose\u001b[0m\u001b[0;34m(\u001b[0m\u001b[0;34m)\u001b[0m\u001b[0;34m\u001b[0m\u001b[0;34m\u001b[0m\u001b[0m\n\u001b[0m\u001b[1;32m    117\u001b[0m             \u001b[0;32mreturn\u001b[0m \u001b[0mCircuitOp\u001b[0m\u001b[0;34m(\u001b[0m\u001b[0mnew_qc\u001b[0m\u001b[0;34m,\u001b[0m \u001b[0mcoeff\u001b[0m\u001b[0;34m=\u001b[0m\u001b[0mself\u001b[0m\u001b[0;34m.\u001b[0m\u001b[0mcoeff\u001b[0m \u001b[0;34m*\u001b[0m \u001b[0mother\u001b[0m\u001b[0;34m.\u001b[0m\u001b[0mcoeff\u001b[0m\u001b[0;34m)\u001b[0m\u001b[0;34m\u001b[0m\u001b[0;34m\u001b[0m\u001b[0m\n\u001b[1;32m    118\u001b[0m \u001b[0;34m\u001b[0m\u001b[0m\n",
      "\u001b[0;32m/usr/local/lib/python3.10/dist-packages/qiskit/circuit/quantumcircuit.py\u001b[0m in \u001b[0;36mdecompose\u001b[0;34m(self, gates_to_decompose, reps)\u001b[0m\n\u001b[1;32m   1602\u001b[0m         \u001b[0mpass_\u001b[0m \u001b[0;34m=\u001b[0m \u001b[0mDecompose\u001b[0m\u001b[0;34m(\u001b[0m\u001b[0mgates_to_decompose\u001b[0m\u001b[0;34m)\u001b[0m\u001b[0;34m\u001b[0m\u001b[0;34m\u001b[0m\u001b[0m\n\u001b[1;32m   1603\u001b[0m         \u001b[0;32mfor\u001b[0m \u001b[0m_\u001b[0m \u001b[0;32min\u001b[0m \u001b[0mrange\u001b[0m\u001b[0;34m(\u001b[0m\u001b[0mreps\u001b[0m\u001b[0;34m)\u001b[0m\u001b[0;34m:\u001b[0m\u001b[0;34m\u001b[0m\u001b[0;34m\u001b[0m\u001b[0m\n\u001b[0;32m-> 1604\u001b[0;31m             \u001b[0mdag\u001b[0m \u001b[0;34m=\u001b[0m \u001b[0mpass_\u001b[0m\u001b[0;34m.\u001b[0m\u001b[0mrun\u001b[0m\u001b[0;34m(\u001b[0m\u001b[0mdag\u001b[0m\u001b[0;34m)\u001b[0m\u001b[0;34m\u001b[0m\u001b[0;34m\u001b[0m\u001b[0m\n\u001b[0m\u001b[1;32m   1605\u001b[0m         \u001b[0;32mreturn\u001b[0m \u001b[0mdag_to_circuit\u001b[0m\u001b[0;34m(\u001b[0m\u001b[0mdag\u001b[0m\u001b[0;34m)\u001b[0m\u001b[0;34m\u001b[0m\u001b[0;34m\u001b[0m\u001b[0m\n\u001b[1;32m   1606\u001b[0m \u001b[0;34m\u001b[0m\u001b[0m\n",
      "\u001b[0;32m/usr/local/lib/python3.10/dist-packages/qiskit/transpiler/passes/basis/decompose.py\u001b[0m in \u001b[0;36mrun\u001b[0;34m(self, dag)\u001b[0m\n\u001b[1;32m     62\u001b[0m                     \u001b[0mdag\u001b[0m\u001b[0;34m.\u001b[0m\u001b[0msubstitute_node\u001b[0m\u001b[0;34m(\u001b[0m\u001b[0mnode\u001b[0m\u001b[0;34m,\u001b[0m \u001b[0mrule\u001b[0m\u001b[0;34m[\u001b[0m\u001b[0;36m0\u001b[0m\u001b[0;34m]\u001b[0m\u001b[0;34m.\u001b[0m\u001b[0moperation\u001b[0m\u001b[0;34m,\u001b[0m \u001b[0minplace\u001b[0m\u001b[0;34m=\u001b[0m\u001b[0;32mTrue\u001b[0m\u001b[0;34m)\u001b[0m\u001b[0;34m\u001b[0m\u001b[0;34m\u001b[0m\u001b[0m\n\u001b[1;32m     63\u001b[0m                 \u001b[0;32melse\u001b[0m\u001b[0;34m:\u001b[0m\u001b[0;34m\u001b[0m\u001b[0;34m\u001b[0m\u001b[0m\n\u001b[0;32m---> 64\u001b[0;31m                     \u001b[0mdecomposition\u001b[0m \u001b[0;34m=\u001b[0m \u001b[0mcircuit_to_dag\u001b[0m\u001b[0;34m(\u001b[0m\u001b[0mnode\u001b[0m\u001b[0;34m.\u001b[0m\u001b[0mop\u001b[0m\u001b[0;34m.\u001b[0m\u001b[0mdefinition\u001b[0m\u001b[0;34m)\u001b[0m\u001b[0;34m\u001b[0m\u001b[0;34m\u001b[0m\u001b[0m\n\u001b[0m\u001b[1;32m     65\u001b[0m                     \u001b[0mdag\u001b[0m\u001b[0;34m.\u001b[0m\u001b[0msubstitute_node_with_dag\u001b[0m\u001b[0;34m(\u001b[0m\u001b[0mnode\u001b[0m\u001b[0;34m,\u001b[0m \u001b[0mdecomposition\u001b[0m\u001b[0;34m)\u001b[0m\u001b[0;34m\u001b[0m\u001b[0;34m\u001b[0m\u001b[0m\n\u001b[1;32m     66\u001b[0m \u001b[0;34m\u001b[0m\u001b[0m\n",
      "\u001b[0;32m/usr/local/lib/python3.10/dist-packages/qiskit/converters/circuit_to_dag.py\u001b[0m in \u001b[0;36mcircuit_to_dag\u001b[0;34m(circuit, copy_operations)\u001b[0m\n\u001b[1;32m     68\u001b[0m         \u001b[0;32mif\u001b[0m \u001b[0mcopy_operations\u001b[0m\u001b[0;34m:\u001b[0m\u001b[0;34m\u001b[0m\u001b[0;34m\u001b[0m\u001b[0m\n\u001b[1;32m     69\u001b[0m             \u001b[0mop\u001b[0m \u001b[0;34m=\u001b[0m \u001b[0mcopy\u001b[0m\u001b[0;34m.\u001b[0m\u001b[0mdeepcopy\u001b[0m\u001b[0;34m(\u001b[0m\u001b[0mop\u001b[0m\u001b[0;34m)\u001b[0m\u001b[0;34m\u001b[0m\u001b[0;34m\u001b[0m\u001b[0m\n\u001b[0;32m---> 70\u001b[0;31m         \u001b[0mdagcircuit\u001b[0m\u001b[0;34m.\u001b[0m\u001b[0mapply_operation_back\u001b[0m\u001b[0;34m(\u001b[0m\u001b[0mop\u001b[0m\u001b[0;34m,\u001b[0m \u001b[0minstruction\u001b[0m\u001b[0;34m.\u001b[0m\u001b[0mqubits\u001b[0m\u001b[0;34m,\u001b[0m \u001b[0minstruction\u001b[0m\u001b[0;34m.\u001b[0m\u001b[0mclbits\u001b[0m\u001b[0;34m)\u001b[0m\u001b[0;34m\u001b[0m\u001b[0;34m\u001b[0m\u001b[0m\n\u001b[0m\u001b[1;32m     71\u001b[0m \u001b[0;34m\u001b[0m\u001b[0m\n\u001b[1;32m     72\u001b[0m     \u001b[0mdagcircuit\u001b[0m\u001b[0;34m.\u001b[0m\u001b[0mduration\u001b[0m \u001b[0;34m=\u001b[0m \u001b[0mcircuit\u001b[0m\u001b[0;34m.\u001b[0m\u001b[0mduration\u001b[0m\u001b[0;34m\u001b[0m\u001b[0;34m\u001b[0m\u001b[0m\n",
      "\u001b[0;32m/usr/local/lib/python3.10/dist-packages/qiskit/dagcircuit/dagcircuit.py\u001b[0m in \u001b[0;36mapply_operation_back\u001b[0;34m(self, op, qargs, cargs)\u001b[0m\n\u001b[1;32m    584\u001b[0m \u001b[0;34m\u001b[0m\u001b[0m\n\u001b[1;32m    585\u001b[0m         \u001b[0mall_cbits\u001b[0m \u001b[0;34m=\u001b[0m \u001b[0mself\u001b[0m\u001b[0;34m.\u001b[0m\u001b[0m_bits_in_condition\u001b[0m\u001b[0;34m(\u001b[0m\u001b[0mgetattr\u001b[0m\u001b[0;34m(\u001b[0m\u001b[0mop\u001b[0m\u001b[0;34m,\u001b[0m \u001b[0;34m\"condition\"\u001b[0m\u001b[0;34m,\u001b[0m \u001b[0;32mNone\u001b[0m\u001b[0;34m)\u001b[0m\u001b[0;34m)\u001b[0m\u001b[0;34m\u001b[0m\u001b[0;34m\u001b[0m\u001b[0m\n\u001b[0;32m--> 586\u001b[0;31m         \u001b[0mall_cbits\u001b[0m \u001b[0;34m=\u001b[0m \u001b[0mset\u001b[0m\u001b[0;34m(\u001b[0m\u001b[0mall_cbits\u001b[0m\u001b[0;34m)\u001b[0m\u001b[0;34m.\u001b[0m\u001b[0munion\u001b[0m\u001b[0;34m(\u001b[0m\u001b[0mcargs\u001b[0m\u001b[0;34m)\u001b[0m\u001b[0;34m\u001b[0m\u001b[0;34m\u001b[0m\u001b[0m\n\u001b[0m\u001b[1;32m    587\u001b[0m \u001b[0;34m\u001b[0m\u001b[0m\n\u001b[1;32m    588\u001b[0m         \u001b[0mself\u001b[0m\u001b[0;34m.\u001b[0m\u001b[0m_check_condition\u001b[0m\u001b[0;34m(\u001b[0m\u001b[0mop\u001b[0m\u001b[0;34m.\u001b[0m\u001b[0mname\u001b[0m\u001b[0;34m,\u001b[0m \u001b[0mgetattr\u001b[0m\u001b[0;34m(\u001b[0m\u001b[0mop\u001b[0m\u001b[0;34m,\u001b[0m \u001b[0;34m\"condition\"\u001b[0m\u001b[0;34m,\u001b[0m \u001b[0;32mNone\u001b[0m\u001b[0;34m)\u001b[0m\u001b[0;34m)\u001b[0m\u001b[0;34m\u001b[0m\u001b[0;34m\u001b[0m\u001b[0m\n",
      "\u001b[0;31mKeyboardInterrupt\u001b[0m: "
     ]
    }
   ],
   "source": [
    "mapper_ = ['JordanWignerMapper', 'ParityMapper', 'BravyiKitaevMapper']\n",
    "\n",
    "ansatz_ = ['UCCSD', 'PUCCD', 'SUCCD', 'EfficientSU2', 'TwoLocal']\n",
    "\n",
    "optimizer_ = ['COBYLA', 'SPSA', 'SLSQP', 'L_BFGS_B']\n",
    "\n",
    "### Set the parameters of the TwoLocal and the EfficientSU2 Ansatz \n",
    "\n",
    "# entanglement = 'linear' \n",
    "entanglement_ = ['linear', 'full', 'circular']\n",
    "# rotation_blocks = ['rx', 'ry', 'rz']\n",
    "# 'rx', 'ry', 'rz'\n",
    "#entanglement_blocks = ['cz']\n",
    "entanglement_blocks_ = ['cz', 'cx']\n",
    "\n",
    "for mapper in mapper_:\n",
    "    for optimizer in optimizer_:\n",
    "        for ansatz in ansatz_:\n",
    "            if ansatz == 'EfficientSU2':\n",
    "                for entanglement in entanglement_:\n",
    "                    results_df = add_to_file(mapper=mapper, ansatz=ansatz, optimizer=optimizer, entanglement=entanglement)\n",
    "            elif ansatz == 'TwoLocal':\n",
    "                for entanglement in entanglement_:\n",
    "                    for entanglement_blocks in entanglement_blocks_:\n",
    "                        results_df = add_to_file(mapper=mapper, ansatz=ansatz, optimizer=optimizer, entanglement=entanglement, entanglement_blocks=entanglement_blocks)\n",
    "            else: \n",
    "                results_df = add_to_file(mapper=mapper, ansatz=ansatz, optimizer=optimizer)\n",
    "         "
   ]
  },
  {
   "cell_type": "code",
   "execution_count": 46,
   "metadata": {
    "colab": {
     "base_uri": "https://localhost:8080/",
     "height": 672
    },
    "id": "_IKcEyas3KzO",
    "outputId": "b747d30e-9a27-4472-8929-5ce7746b724a"
   },
   "outputs": [
    {
     "name": "stdout",
     "output_type": "stream",
     "text": [
      "Drive already mounted at /content/drive; to attempt to forcibly remount, call drive.mount(\"/content/drive\", force_remount=True).\n"
     ]
    },
    {
     "data": {
      "text/html": [
       "\n",
       "  <div id=\"df-ab9eba19-6276-449e-9199-a7ecef8e6936\">\n",
       "    <div class=\"colab-df-container\">\n",
       "      <div>\n",
       "<style scoped>\n",
       "    .dataframe tbody tr th:only-of-type {\n",
       "        vertical-align: middle;\n",
       "    }\n",
       "\n",
       "    .dataframe tbody tr th {\n",
       "        vertical-align: top;\n",
       "    }\n",
       "\n",
       "    .dataframe thead th {\n",
       "        text-align: right;\n",
       "    }\n",
       "</style>\n",
       "<table border=\"1\" class=\"dataframe\">\n",
       "  <thead>\n",
       "    <tr style=\"text-align: right;\">\n",
       "      <th></th>\n",
       "      <th>mapper</th>\n",
       "      <th>optimizer</th>\n",
       "      <th>ansatz</th>\n",
       "      <th>entanglement</th>\n",
       "      <th>rotation blocks</th>\n",
       "      <th>entanglement blocks</th>\n",
       "      <th>electronic gs-energy VQE (Ha)</th>\n",
       "      <th>electronic gs-energy error (mHa)</th>\n",
       "      <th># of parameters</th>\n",
       "      <th>optimizer time</th>\n",
       "      <th># of qubits</th>\n",
       "      <th># of CNOTs</th>\n",
       "      <th>runtime</th>\n",
       "    </tr>\n",
       "  </thead>\n",
       "  <tbody>\n",
       "    <tr>\n",
       "      <th>8</th>\n",
       "      <td>JordanWignerMapper</td>\n",
       "      <td>COBYLA</td>\n",
       "      <td>TwoLocal</td>\n",
       "      <td>full</td>\n",
       "      <td>['rx', 'ry', 'rz']</td>\n",
       "      <td>cz</td>\n",
       "      <td>-1.288969</td>\n",
       "      <td>0.000568</td>\n",
       "      <td>48</td>\n",
       "      <td>0.698315</td>\n",
       "      <td>4</td>\n",
       "      <td>18</td>\n",
       "      <td>0.959292</td>\n",
       "    </tr>\n",
       "    <tr>\n",
       "      <th>59</th>\n",
       "      <td>ParityMapper</td>\n",
       "      <td>COBYLA</td>\n",
       "      <td>TwoLocal</td>\n",
       "      <td>circular</td>\n",
       "      <td>['rx', 'ry', 'rz']</td>\n",
       "      <td>cx</td>\n",
       "      <td>-1.220512</td>\n",
       "      <td>0.000637</td>\n",
       "      <td>48</td>\n",
       "      <td>0.488881</td>\n",
       "      <td>4</td>\n",
       "      <td>12</td>\n",
       "      <td>0.723795</td>\n",
       "    </tr>\n",
       "    <tr>\n",
       "      <th>6</th>\n",
       "      <td>JordanWignerMapper</td>\n",
       "      <td>COBYLA</td>\n",
       "      <td>TwoLocal</td>\n",
       "      <td>linear</td>\n",
       "      <td>['rx', 'ry', 'rz']</td>\n",
       "      <td>cz</td>\n",
       "      <td>-1.204515</td>\n",
       "      <td>0.000653</td>\n",
       "      <td>48</td>\n",
       "      <td>0.671409</td>\n",
       "      <td>4</td>\n",
       "      <td>9</td>\n",
       "      <td>0.943687</td>\n",
       "    </tr>\n",
       "    <tr>\n",
       "      <th>129</th>\n",
       "      <td>BravyiKitaevMapper</td>\n",
       "      <td>SLSQP</td>\n",
       "      <td>TwoLocal</td>\n",
       "      <td>full</td>\n",
       "      <td>['rx', 'ry', 'rz']</td>\n",
       "      <td>cx</td>\n",
       "      <td>-1.199130</td>\n",
       "      <td>0.000658</td>\n",
       "      <td>48</td>\n",
       "      <td>25.138433</td>\n",
       "      <td>4</td>\n",
       "      <td>18</td>\n",
       "      <td>25.380978</td>\n",
       "    </tr>\n",
       "    <tr>\n",
       "      <th>115</th>\n",
       "      <td>BravyiKitaevMapper</td>\n",
       "      <td>SPSA</td>\n",
       "      <td>TwoLocal</td>\n",
       "      <td>linear</td>\n",
       "      <td>['rx', 'ry', 'rz']</td>\n",
       "      <td>cx</td>\n",
       "      <td>-1.099908</td>\n",
       "      <td>0.000757</td>\n",
       "      <td>48</td>\n",
       "      <td>3.043539</td>\n",
       "      <td>4</td>\n",
       "      <td>9</td>\n",
       "      <td>3.286350</td>\n",
       "    </tr>\n",
       "    <tr>\n",
       "      <th>...</th>\n",
       "      <td>...</td>\n",
       "      <td>...</td>\n",
       "      <td>...</td>\n",
       "      <td>...</td>\n",
       "      <td>...</td>\n",
       "      <td>...</td>\n",
       "      <td>...</td>\n",
       "      <td>...</td>\n",
       "      <td>...</td>\n",
       "      <td>...</td>\n",
       "      <td>...</td>\n",
       "      <td>...</td>\n",
       "      <td>...</td>\n",
       "    </tr>\n",
       "    <tr>\n",
       "      <th>28</th>\n",
       "      <td>JordanWignerMapper</td>\n",
       "      <td>SLSQP</td>\n",
       "      <td>EfficientSU2</td>\n",
       "      <td>NaN</td>\n",
       "      <td>NaN</td>\n",
       "      <td>NaN</td>\n",
       "      <td>-0.692007</td>\n",
       "      <td>1165.267778</td>\n",
       "      <td>32</td>\n",
       "      <td>1.797873</td>\n",
       "      <td>4</td>\n",
       "      <td>18</td>\n",
       "      <td>2.055233</td>\n",
       "    </tr>\n",
       "    <tr>\n",
       "      <th>26</th>\n",
       "      <td>JordanWignerMapper</td>\n",
       "      <td>SLSQP</td>\n",
       "      <td>SUCCD</td>\n",
       "      <td>NaN</td>\n",
       "      <td>NaN</td>\n",
       "      <td>NaN</td>\n",
       "      <td>-0.337390</td>\n",
       "      <td>1519.885053</td>\n",
       "      <td>1</td>\n",
       "      <td>3.559185</td>\n",
       "      <td>4</td>\n",
       "      <td>48</td>\n",
       "      <td>3.821133</td>\n",
       "    </tr>\n",
       "    <tr>\n",
       "      <th>74</th>\n",
       "      <td>ParityMapper</td>\n",
       "      <td>SLSQP</td>\n",
       "      <td>SUCCD</td>\n",
       "      <td>NaN</td>\n",
       "      <td>NaN</td>\n",
       "      <td>NaN</td>\n",
       "      <td>-0.319847</td>\n",
       "      <td>1537.428266</td>\n",
       "      <td>1</td>\n",
       "      <td>2.233772</td>\n",
       "      <td>4</td>\n",
       "      <td>32</td>\n",
       "      <td>2.460384</td>\n",
       "    </tr>\n",
       "    <tr>\n",
       "      <th>73</th>\n",
       "      <td>ParityMapper</td>\n",
       "      <td>SLSQP</td>\n",
       "      <td>PUCCD</td>\n",
       "      <td>NaN</td>\n",
       "      <td>NaN</td>\n",
       "      <td>NaN</td>\n",
       "      <td>-0.272286</td>\n",
       "      <td>1584.989472</td>\n",
       "      <td>1</td>\n",
       "      <td>1.753726</td>\n",
       "      <td>4</td>\n",
       "      <td>32</td>\n",
       "      <td>1.982290</td>\n",
       "    </tr>\n",
       "    <tr>\n",
       "      <th>122</th>\n",
       "      <td>BravyiKitaevMapper</td>\n",
       "      <td>SLSQP</td>\n",
       "      <td>SUCCD</td>\n",
       "      <td>NaN</td>\n",
       "      <td>NaN</td>\n",
       "      <td>NaN</td>\n",
       "      <td>-0.228739</td>\n",
       "      <td>1628.535600</td>\n",
       "      <td>1</td>\n",
       "      <td>3.150931</td>\n",
       "      <td>4</td>\n",
       "      <td>32</td>\n",
       "      <td>3.388235</td>\n",
       "    </tr>\n",
       "  </tbody>\n",
       "</table>\n",
       "<p>144 rows × 13 columns</p>\n",
       "</div>\n",
       "      <button class=\"colab-df-convert\" onclick=\"convertToInteractive('df-ab9eba19-6276-449e-9199-a7ecef8e6936')\"\n",
       "              title=\"Convert this dataframe to an interactive table.\"\n",
       "              style=\"display:none;\">\n",
       "        \n",
       "  <svg xmlns=\"http://www.w3.org/2000/svg\" height=\"24px\"viewBox=\"0 0 24 24\"\n",
       "       width=\"24px\">\n",
       "    <path d=\"M0 0h24v24H0V0z\" fill=\"none\"/>\n",
       "    <path d=\"M18.56 5.44l.94 2.06.94-2.06 2.06-.94-2.06-.94-.94-2.06-.94 2.06-2.06.94zm-11 1L8.5 8.5l.94-2.06 2.06-.94-2.06-.94L8.5 2.5l-.94 2.06-2.06.94zm10 10l.94 2.06.94-2.06 2.06-.94-2.06-.94-.94-2.06-.94 2.06-2.06.94z\"/><path d=\"M17.41 7.96l-1.37-1.37c-.4-.4-.92-.59-1.43-.59-.52 0-1.04.2-1.43.59L10.3 9.45l-7.72 7.72c-.78.78-.78 2.05 0 2.83L4 21.41c.39.39.9.59 1.41.59.51 0 1.02-.2 1.41-.59l7.78-7.78 2.81-2.81c.8-.78.8-2.07 0-2.86zM5.41 20L4 18.59l7.72-7.72 1.47 1.35L5.41 20z\"/>\n",
       "  </svg>\n",
       "      </button>\n",
       "      \n",
       "  <style>\n",
       "    .colab-df-container {\n",
       "      display:flex;\n",
       "      flex-wrap:wrap;\n",
       "      gap: 12px;\n",
       "    }\n",
       "\n",
       "    .colab-df-convert {\n",
       "      background-color: #E8F0FE;\n",
       "      border: none;\n",
       "      border-radius: 50%;\n",
       "      cursor: pointer;\n",
       "      display: none;\n",
       "      fill: #1967D2;\n",
       "      height: 32px;\n",
       "      padding: 0 0 0 0;\n",
       "      width: 32px;\n",
       "    }\n",
       "\n",
       "    .colab-df-convert:hover {\n",
       "      background-color: #E2EBFA;\n",
       "      box-shadow: 0px 1px 2px rgba(60, 64, 67, 0.3), 0px 1px 3px 1px rgba(60, 64, 67, 0.15);\n",
       "      fill: #174EA6;\n",
       "    }\n",
       "\n",
       "    [theme=dark] .colab-df-convert {\n",
       "      background-color: #3B4455;\n",
       "      fill: #D2E3FC;\n",
       "    }\n",
       "\n",
       "    [theme=dark] .colab-df-convert:hover {\n",
       "      background-color: #434B5C;\n",
       "      box-shadow: 0px 1px 3px 1px rgba(0, 0, 0, 0.15);\n",
       "      filter: drop-shadow(0px 1px 2px rgba(0, 0, 0, 0.3));\n",
       "      fill: #FFFFFF;\n",
       "    }\n",
       "  </style>\n",
       "\n",
       "      <script>\n",
       "        const buttonEl =\n",
       "          document.querySelector('#df-ab9eba19-6276-449e-9199-a7ecef8e6936 button.colab-df-convert');\n",
       "        buttonEl.style.display =\n",
       "          google.colab.kernel.accessAllowed ? 'block' : 'none';\n",
       "\n",
       "        async function convertToInteractive(key) {\n",
       "          const element = document.querySelector('#df-ab9eba19-6276-449e-9199-a7ecef8e6936');\n",
       "          const dataTable =\n",
       "            await google.colab.kernel.invokeFunction('convertToInteractive',\n",
       "                                                     [key], {});\n",
       "          if (!dataTable) return;\n",
       "\n",
       "          const docLinkHtml = 'Like what you see? Visit the ' +\n",
       "            '<a target=\"_blank\" href=https://colab.research.google.com/notebooks/data_table.ipynb>data table notebook</a>'\n",
       "            + ' to learn more about interactive tables.';\n",
       "          element.innerHTML = '';\n",
       "          dataTable['output_type'] = 'display_data';\n",
       "          await google.colab.output.renderOutput(dataTable, element);\n",
       "          const docLink = document.createElement('div');\n",
       "          docLink.innerHTML = docLinkHtml;\n",
       "          element.appendChild(docLink);\n",
       "        }\n",
       "      </script>\n",
       "    </div>\n",
       "  </div>\n",
       "  "
      ],
      "text/plain": [
       "                 mapper optimizer        ansatz entanglement  \\\n",
       "8    JordanWignerMapper    COBYLA      TwoLocal         full   \n",
       "59         ParityMapper    COBYLA      TwoLocal     circular   \n",
       "6    JordanWignerMapper    COBYLA      TwoLocal       linear   \n",
       "129  BravyiKitaevMapper     SLSQP      TwoLocal         full   \n",
       "115  BravyiKitaevMapper      SPSA      TwoLocal       linear   \n",
       "..                  ...       ...           ...          ...   \n",
       "28   JordanWignerMapper     SLSQP  EfficientSU2          NaN   \n",
       "26   JordanWignerMapper     SLSQP         SUCCD          NaN   \n",
       "74         ParityMapper     SLSQP         SUCCD          NaN   \n",
       "73         ParityMapper     SLSQP         PUCCD          NaN   \n",
       "122  BravyiKitaevMapper     SLSQP         SUCCD          NaN   \n",
       "\n",
       "        rotation blocks entanglement blocks  electronic gs-energy VQE (Ha)  \\\n",
       "8    ['rx', 'ry', 'rz']                  cz                      -1.288969   \n",
       "59   ['rx', 'ry', 'rz']                  cx                      -1.220512   \n",
       "6    ['rx', 'ry', 'rz']                  cz                      -1.204515   \n",
       "129  ['rx', 'ry', 'rz']                  cx                      -1.199130   \n",
       "115  ['rx', 'ry', 'rz']                  cx                      -1.099908   \n",
       "..                  ...                 ...                            ...   \n",
       "28                  NaN                 NaN                      -0.692007   \n",
       "26                  NaN                 NaN                      -0.337390   \n",
       "74                  NaN                 NaN                      -0.319847   \n",
       "73                  NaN                 NaN                      -0.272286   \n",
       "122                 NaN                 NaN                      -0.228739   \n",
       "\n",
       "     electronic gs-energy error (mHa)  # of parameters  optimizer time  \\\n",
       "8                            0.000568               48        0.698315   \n",
       "59                           0.000637               48        0.488881   \n",
       "6                            0.000653               48        0.671409   \n",
       "129                          0.000658               48       25.138433   \n",
       "115                          0.000757               48        3.043539   \n",
       "..                                ...              ...             ...   \n",
       "28                        1165.267778               32        1.797873   \n",
       "26                        1519.885053                1        3.559185   \n",
       "74                        1537.428266                1        2.233772   \n",
       "73                        1584.989472                1        1.753726   \n",
       "122                       1628.535600                1        3.150931   \n",
       "\n",
       "     # of qubits  # of CNOTs    runtime  \n",
       "8              4          18   0.959292  \n",
       "59             4          12   0.723795  \n",
       "6              4           9   0.943687  \n",
       "129            4          18  25.380978  \n",
       "115            4           9   3.286350  \n",
       "..           ...         ...        ...  \n",
       "28             4          18   2.055233  \n",
       "26             4          48   3.821133  \n",
       "74             4          32   2.460384  \n",
       "73             4          32   1.982290  \n",
       "122            4          32   3.388235  \n",
       "\n",
       "[144 rows x 13 columns]"
      ]
     },
     "execution_count": 46,
     "metadata": {},
     "output_type": "execute_result"
    }
   ],
   "source": [
    "from google.colab import drive\n",
    "drive.mount('/content/drive')\n",
    "file = '/content/drive/MyDrive/FP/results_h2.csv'\n",
    "# file = \"results_h2.csv\"\n",
    "# for google colab, for local adjust the file location\n",
    "\n",
    "results_df = pd.read_csv(file)\n",
    "results_df[['mapper', 'optimizer', 'ansatz', 'entanglement', 'rotation blocks', 'entanglement blocks',\n",
    "            'electronic gs-energy VQE (Ha)', 'electronic gs-energy error (mHa)',\n",
    "            '# of parameters', 'optimizer time', '# of qubits', '# of CNOTs', 'runtime']].sort_values(\"electronic gs-energy error (mHa)\")\n"
   ]
  },
  {
   "cell_type": "markdown",
   "metadata": {
    "id": "AYmWkFCK3KkI"
   },
   "source": [
    "The lowest error was found with JordanWignerMapper,\tCOBYLA optimizer,\tTwoLocal ansatz,\tfull entanglement and cz blocks.\n",
    "Almost the same error but with half the CNOT gates was found with linear entanglement."
   ]
  },
  {
   "cell_type": "markdown",
   "metadata": {
    "id": "DoKpzYmcnl6J"
   },
   "source": [
    "#### 5.4: Helper - import everything"
   ]
  },
  {
   "cell_type": "markdown",
   "metadata": {
    "id": "X_7q6RqXnl6J"
   },
   "source": [
    "If you have closed the notebook or restared the kernel, than you need to reimport the required packeges. In order to avoid going trough the whole notebook again, you can run the fowlloing code."
   ]
  },
  {
   "cell_type": "code",
   "execution_count": 33,
   "metadata": {
    "id": "G6nb3KOknl6J"
   },
   "outputs": [],
   "source": [
    "import numpy as np\n",
    "import matplotlib.pyplot as plt\n",
    "import pandas as pd\n",
    "import os.path\n",
    "import timeit\n",
    "\n",
    "from qiskit_nature.drivers import Molecule\n",
    "from qiskit_nature.drivers.second_quantization import (\n",
    "    ElectronicStructureMoleculeDriver, ElectronicStructureDriverType)\n",
    "from qiskit_nature.problems.second_quantization import ElectronicStructureProblem\n",
    "\n",
    "from qiskit_nature.mappers.second_quantization import JordanWignerMapper, ParityMapper, BravyiKitaevMapper\n",
    "from qiskit_nature.converters.second_quantization import QubitConverter\n",
    "\n",
    "from qiskit_nature.circuit.library import HartreeFock\n",
    "from qiskit.circuit.library import TwoLocal, EfficientSU2 \n",
    "from qiskit_nature.circuit.library import UCCSD, PUCCD, SUCCD\n",
    "\n",
    "from qiskit.algorithms.optimizers import COBYLA, SPSA, SLSQP, L_BFGS_B\n",
    "\n",
    "from qiskit.transpiler import PassManager\n",
    "from qiskit.transpiler.passes import Unroller\n",
    "\n",
    "from qiskit.algorithms import VQE\n",
    "\n",
    "from qiskit import Aer\n",
    "from qiskit.providers.aer import QasmSimulator\n",
    "from qiskit.utils import QuantumInstance\n",
    "\n",
    "\n",
    "from qiskit_nature.algorithms import (GroundStateEigensolver,\n",
    "                                      NumPyMinimumEigensolverFactory)\n",
    "\n",
    "def exact_solver(problem, converter):\n",
    "    solver = NumPyMinimumEigensolverFactory()\n",
    "    calc = GroundStateEigensolver(converter, solver)\n",
    "    result = calc.solve(problem)\n",
    "    return result"
   ]
  },
  {
   "cell_type": "markdown",
   "metadata": {
    "id": "KZLewGNWnl6K"
   },
   "source": [
    "## Part 2: VQE for LiH"
   ]
  },
  {
   "cell_type": "markdown",
   "metadata": {
    "id": "0h4-G5Q7nl6K"
   },
   "source": [
    "### 2.1 Import required packaes and build functions"
   ]
  },
  {
   "cell_type": "markdown",
   "metadata": {
    "id": "F_u1up7_nl6K"
   },
   "source": [
    "We start off with importing all required packages and define similiar funtions as used in part 1."
   ]
  },
  {
   "cell_type": "code",
   "execution_count": 1,
   "metadata": {
    "id": "z_f_pc2Cnl6K"
   },
   "outputs": [
    {
     "name": "stderr",
     "output_type": "stream",
     "text": [
      "/tmp/ipykernel_23705/3575495753.py:41: NatureDeprecationWarning: The qiskit_nature.algorithms.excited_state_solvers package is deprecated as of version 0.5.0 and will be removed no sooner than 3 months after the release. Instead use the qiskit_nature.second_q.algorithms.excited_state_solvers package.\n",
      "  from qiskit_nature.algorithms import (GroundStateEigensolver,\n",
      "/tmp/ipykernel_23705/3575495753.py:41: NatureDeprecationWarning: The qiskit_nature.algorithms.pes_sampler package is deprecated as of version 0.5.0 and will be removed no sooner than 3 months after the release . Please refer to 'https://github.com/Qiskit/qiskit-nature/issues/750' for additional information regarding 'extrapolators'.\n",
      "  from qiskit_nature.algorithms import (GroundStateEigensolver,\n"
     ]
    }
   ],
   "source": [
    "import numpy as np\n",
    "import matplotlib.pyplot as plt\n",
    "import pandas as pd\n",
    "import os.path\n",
    "import timeit\n",
    "\n",
    "# Import the driver and problem\n",
    "from qiskit_nature.drivers import Molecule\n",
    "from qiskit_nature.drivers.second_quantization import (\n",
    "    ElectronicStructureMoleculeDriver, ElectronicStructureDriverType)\n",
    "from qiskit_nature.problems.second_quantization import ElectronicStructureProblem\n",
    "\n",
    "# Import the FreezeCoreTransformer\n",
    "from qiskit_nature.transformers.second_quantization.electronic import FreezeCoreTransformer\n",
    "\n",
    "# Import the mappers\n",
    "from qiskit_nature.mappers.second_quantization import JordanWignerMapper, ParityMapper, BravyiKitaevMapper\n",
    "from qiskit_nature.converters.second_quantization import QubitConverter\n",
    "\n",
    "# Import the ansatzes\n",
    "from qiskit_nature.circuit.library import HartreeFock\n",
    "from qiskit.circuit.library import TwoLocal, EfficientSU2 \n",
    "from qiskit_nature.circuit.library import UCCSD, PUCCD, SUCCD\n",
    "\n",
    "# Import the optimizer\n",
    "from qiskit.algorithms.optimizers import COBYLA, SPSA, SLSQP, L_BFGS_B\n",
    "\n",
    "# Import the unroller\n",
    "from qiskit.transpiler import PassManager\n",
    "from qiskit.transpiler.passes import Unroller\n",
    "\n",
    "# Import thq VQE\n",
    "from qiskit.algorithms import VQE\n",
    "\n",
    "# Import Aer\n",
    "from qiskit import Aer\n",
    "from qiskit.providers.aer import QasmSimulator\n",
    "from qiskit.utils import QuantumInstance\n",
    "\n",
    "# Import the exact solver\n",
    "from qiskit_nature.algorithms import (GroundStateEigensolver,\n",
    "                                      NumPyMinimumEigensolverFactory)"
   ]
  },
  {
   "cell_type": "code",
   "execution_count": 2,
   "metadata": {
    "id": "mhE6kbMHnl6K"
   },
   "outputs": [],
   "source": [
    "def exact_solver(problem, converter):\n",
    "    '''\n",
    "    Calcualtes the exact solution to a given problem and converter.\n",
    "    '''\n",
    "    solver = NumPyMinimumEigensolverFactory()\n",
    "    calc = GroundStateEigensolver(converter, solver)\n",
    "    result = calc.solve(problem)\n",
    "    return result\n",
    "\n",
    "\n",
    "def create_qubit_op_lih(dist,mappertype='JordanWignerMapper',reduce=False):\n",
    "    '''\n",
    "    Creates the second quantization Hamilton operator for the LiH molecule for a \n",
    "    given interatomic distance and mapps it onto qubits using a given mapper.\n",
    "    \n",
    "    Input: \n",
    "        dist: interatomic distance of the atoms (float)\n",
    "        mapper: name of the mapper (str) \n",
    "            possible mappers: JordanWignerMapper, ParityMapper, BravyiKitaevMapper\n",
    "        reduce: boolean to apply the freeze core approximation and to remove \n",
    "        some orbitals\n",
    "    Output:\n",
    "        qubit_op: Hamiltonian mapped onto the qubits\n",
    "        num_particles: total number of electrons\n",
    "        num_spin_orbitals: total number of spin orbitals\n",
    "        problem: corresponding ElectronicStructureProblem object\n",
    "        converter: QubitConverter object\n",
    "    '''\n",
    "    \n",
    "    # Define the molecule for the given distance \n",
    "    molecule = Molecule(\n",
    "    # Coordinates in Angstrom \n",
    "    geometry= [\n",
    "        [\"Li\", [0.0,0.0,0.0]], \n",
    "        [\"H\", [0.0,0.0,dist]]],\n",
    "        multiplicity=1,  # = 2*spin + 1\n",
    "        charge=0, \n",
    "    )\n",
    "\n",
    "    # Define the driver \n",
    "    driver = ElectronicStructureMoleculeDriver(\n",
    "        molecule=molecule,\n",
    "        basis=\"sto3g\",\n",
    "        driver_type = ElectronicStructureDriverType.PYSCF\n",
    "    )\n",
    "\n",
    "    # Run the driver\n",
    "    properties = driver.run()\n",
    "\n",
    "    # Define the problem using the driver\n",
    "    if reduce:\n",
    "        # Remove the core orbitals and the unoccupied orbitals\n",
    "        problem = ElectronicStructureProblem(\n",
    "            driver,\n",
    "            [FreezeCoreTransformer(freeze_core=True,\n",
    "                                   remove_orbitals=[-3,-2])]\n",
    "        )\n",
    "    else:\n",
    "        problem = ElectronicStructureProblem(driver)\n",
    "    \n",
    "    # Generate the second-quantized operators\n",
    "    second_q_ops = problem.second_q_ops()\n",
    "    \n",
    "    # Get additional properties\n",
    "    num_particles = problem.num_particles\n",
    "    num_spin_orbitals = problem.num_spin_orbitals\n",
    "\n",
    "    # Get the Hamiltonian\n",
    "    hamiltonian = second_q_ops['ElectronicEnergy']\n",
    "\n",
    "    # Set the mapper\n",
    "    if mappertype == 'JordanWignerMapper':\n",
    "        mapper = JordanWignerMapper()\n",
    "    elif mappertype == 'ParityMapper':\n",
    "        mapper = ParityMapper()\n",
    "    elif mappertype == 'BravyiKitaevMapper':\n",
    "        mapper =  BravyiKitaevMapper()\n",
    "    else:\n",
    "        print('No mapper found with the name: ', mappertype)\n",
    "        return \n",
    "        \n",
    "    # Set the converter without two qubit reduction\n",
    "    converter = QubitConverter(mapper = mapper, two_qubit_reduction = False)\n",
    "\n",
    "    # Map the fermionic operators onto qubit operators \n",
    "    num_particles = problem.num_particles\n",
    "    qubit_op = converter.convert(hamiltonian, num_particles=num_particles)\n",
    "    \n",
    "    \n",
    "    return qubit_op, num_particles, num_spin_orbitals, problem, converter\n",
    "\n",
    "\n",
    "def run_vqe(qubit_op, num_particles, num_spin_orbitals, problem, converter, \n",
    "            simulator_type ='aer_simulator', ansatz_type='UCCSD', \n",
    "            optimizer_type='SPSA', max_iterations = 100,\n",
    "            entanglement = 'full', rotation_blocks = ['rx', 'ry'], \n",
    "            entanglement_blocks = ['cz']):\n",
    "    '''\n",
    "    Performs the VQE for a given qubit Hamiltonian (including the corresponding \n",
    "    number of particles and orbitales, the problem and the converter) using\n",
    "    different simualtors, ansatzes and optimizers. The convergence is monitored\n",
    "    as well.\n",
    "    \n",
    "    Input:\n",
    "    qubit_op: Appropriate qubit operator\n",
    "    num_particles: number of electrons\n",
    "    num_spin_orbitales: number of spin orbitales\n",
    "    problem: electronic structure problem\n",
    "    converter: qubit converter\n",
    "    Optional Input:\n",
    "    simulator_type: 'aer_simulator', 'statevector_simulator'\n",
    "    ansatz_type:'UCCSD', 'PUCDD', 'SUCCD', 'EfficientSU2', 'TwoLocal'\n",
    "    optimizer_type: 'COBYLA', 'SPSA', 'SLSQP', 'L_BFGS_B'\n",
    "    ntanglement: 'linear', 'full', 'circular'\n",
    "    rotation_blocks: list of 'rx', 'ry', 'rz'\n",
    "    entanglement_blocks: 'cx', 'cz'\n",
    "    \n",
    "    Output:\n",
    "    vqe_result: result of the VQE \n",
    "    counts: list of the evaluation counts \n",
    "    values: list of the energy values for each evaluation\n",
    "    ansatz: the used ansatz object\n",
    "    '''\n",
    "    \n",
    "    # Load the simulator\n",
    "    try:\n",
    "        backend = Aer.get_backend(simulator_type)\n",
    "        # Generate a QuantumInstance\n",
    "        qi = QuantumInstance(backend=backend)\n",
    "    except:\n",
    "        print('Simualtor: ', simulator_type, 'not found!')\n",
    "        return\n",
    "    \n",
    "    \n",
    "    # Set up the TwoLocal ansatz   \n",
    "    \n",
    "    # Repetitions of rotation_blocks + entanglement_blocks with independent parameters\n",
    "    repetitions = 3\n",
    "    # Skip the final rotation_blocks layer\n",
    "    skip_final_rotation_layer = False\n",
    "    \n",
    "    # Get the initiale state for the other ansatzes\n",
    "    init_state = HartreeFock(num_spin_orbitals, num_particles, converter) \n",
    "\n",
    "    # Define the Ansatz\n",
    "    if ansatz_type == 'TwoLocal':    \n",
    "        ansatz = TwoLocal(qubit_op.num_qubits, rotation_blocks, entanglement_blocks, reps=repetitions, \n",
    "                      entanglement=entanglement, skip_final_rotation_layer=skip_final_rotation_layer)   \n",
    "    elif ansatz_type == 'UCCSD':\n",
    "        ansatz = UCCSD(converter, num_particles, num_spin_orbitals,initial_state=init_state)\n",
    "    elif ansatz_type == 'PUCCD':\n",
    "        ansatz = PUCCD(converter, num_particles, num_spin_orbitals,initial_state=init_state)\n",
    "    elif ansatz_type == 'SUCCD':\n",
    "        ansatz = SUCCD(converter, num_particles, num_spin_orbitals,initial_state=init_state)    \n",
    "    elif ansatz_type == 'EfficientSU2':\n",
    "        ansatz = EfficientSU2(qubit_op.num_qubits, entanglement=entanglement)\n",
    "    else:\n",
    "        print('Ansatz ', ansatz_type, ' not found!')\n",
    "        return\n",
    "    \n",
    "    # Define the optimizer\n",
    "    if optimizer_type == 'COBYLA':\n",
    "        optimizer = COBYLA(maxiter=max_iterations)\n",
    "    elif optimizer_type == 'L_BFGS_B':\n",
    "        optimizer = L_BFGS_B(maxiter=max_iterations)\n",
    "    elif optimizer_type == 'SPSA':\n",
    "        optimizer = SPSA(maxiter=max_iterations)\n",
    "    elif optimizer_type == 'SLSQP':\n",
    "        optimizer = SLSQP(maxiter=max_iterations)\n",
    "\n",
    "    # Run the VQE using the quantum instance and the callback function\n",
    "    vqe = VQE(ansatz, optimizer=optimizer, quantum_instance=qi)\n",
    "    vqe_result = vqe.compute_minimum_eigenvalue(operator=qubit_op)\n",
    "\n",
    "    return vqe_result, ansatz\n",
    "\n",
    "\n",
    "def eval_vqe_result(vqe_result,problem,converter):\n",
    "    \n",
    "    # Get the VQE results     \n",
    "    vqe_electronic_ground_state = vqe_result.optimal_value\n",
    "    print('Electronic ground state energy (Ha): ', vqe_electronic_ground_state)\n",
    "\n",
    "    vqe_total_ground_state = problem.interpret(vqe_result).total_energies[0].real\n",
    "    print('Total ground state energy (Ha): ', vqe_total_ground_state)\n",
    "    \n",
    "    # Get the exact results\n",
    "    result_exact = exact_solver(problem,converter)\n",
    "\n",
    "    exact_electronic_ground_state = result_exact.eigenenergies[0]\n",
    "    print('Exact electronic ground state energy (Ha): ', exact_electronic_ground_state)\n",
    "\n",
    "    exact_total_ground_state = result_exact.total_energies[0].real\n",
    "    print('Exact: total ground state energy (Ha): ',exact_total_ground_state)\n",
    "    \n",
    "    # Calculate the deviation\n",
    "    error_electronic = abs(exact_electronic_ground_state - vqe_electronic_ground_state)*1000\n",
    "    print('Error for the electrontic ground state (mHa): ', error_electronic)"
   ]
  },
  {
   "cell_type": "markdown",
   "metadata": {
    "id": "ldJgGMK2nl6L"
   },
   "source": [
    "### 2.2 Run a simualtion with and without reduction"
   ]
  },
  {
   "cell_type": "markdown",
   "metadata": {
    "id": "nikAcG_Dnl6L"
   },
   "source": [
    "To avoid very long calculation times, we again use the `statevector_simulator` for LiH, which is much faster than the `aer_simulator` and gives good results in the case of LiH without oversimplifying (as in the case of $\\text{H}_2$)."
   ]
  },
  {
   "cell_type": "markdown",
   "metadata": {
    "id": "wkPoWPVinl6L"
   },
   "source": [
    "#### 2.2.1 Without reduction"
   ]
  },
  {
   "cell_type": "markdown",
   "metadata": {
    "id": "CVfbtvVVnl6L"
   },
   "source": [
    "**Task**:\n",
    "\n",
    "Use the functions above to to determine the electronic ground state energy of $\\mathrm{LiH}$, as well as the total ground state energy and the deviation from the exact value for a interatomic distance of 1.0 Angstrom. \n",
    "Use the Jordan-Wigner mapper, the UCCSD ansatz and the SLSQP optimizer. Limit the number of maximal iterations to 5 and set the input argument `reduce` to `False`. "
   ]
  },
  {
   "cell_type": "code",
   "execution_count": null,
   "metadata": {
    "colab": {
     "base_uri": "https://localhost:8080/"
    },
    "id": "mmygZA4tnl6L",
    "outputId": "3ebfd8b4-0e0b-4119-f82c-b409a1033649",
    "pycharm": {
     "is_executing": true
    }
   },
   "outputs": [
    {
     "name": "stderr",
     "output_type": "stream",
     "text": [
      "/tmp/ipykernel_23705/1356920191.py:2: NatureDeprecationWarning: The qiskit_nature.drivers.Molecule class is deprecated as of version 0.5.0 and will be removed no sooner than 3 months after the release. Instead use the qiskit_nature.second_q.drivers.Molecule class.\n",
      "  qubit_op, num_particles, num_spin_orbitals, problem, converter = create_qubit_op_lih(dist,mappertype='JordanWignerMapper',reduce=False)\n",
      "/tmp/ipykernel_23705/1356920191.py:2: NatureDeprecationWarning: The qiskit_nature.problems.second_quantization.electronic.ElectronicStructureProblem class is deprecated as of version 0.5.0 and will be removed no sooner than 3 months after the release. Instead use the qiskit_nature.second_q.problems.ElectronicStructureProblem class.\n",
      "  qubit_op, num_particles, num_spin_orbitals, problem, converter = create_qubit_op_lih(dist,mappertype='JordanWignerMapper',reduce=False)\n"
     ]
    },
    {
     "name": "stdout",
     "output_type": "stream",
     "text": [
      "(2, 2) 12\n",
      "{   'aux_operator_eigenvalues': None,\n",
      "    'cost_function_evals': 469,\n",
      "    'eigenstate': array([ 2.50992803e-17-4.98732999e-18j,  4.78387546e-17+4.85862351e-17j,\n",
      "        1.09438818e-16-4.11497621e-17j, ...,\n",
      "       -1.74891296e-19-4.55196312e-20j, -1.77665161e-19+1.80581236e-19j,\n",
      "        1.94057435e-19-1.98848991e-19j]),\n",
      "    'eigenvalue': (-9.3716782924479+0j),\n",
      "    'optimal_circuit': None,\n",
      "    'optimal_parameters': {   ParameterVectorElement(t[4]): -0.002921592728024041,\n",
      "                              ParameterVectorElement(t[6]): 1.5658548816356015e-07,\n",
      "                              ParameterVectorElement(t[5]): -3.9393462724468387e-07,\n",
      "                              ParameterVectorElement(t[3]): 0.0006007553968895132,\n",
      "                              ParameterVectorElement(t[2]): -3.566102223333605e-07,\n",
      "                              ParameterVectorElement(t[1]): -2.68220182938072e-07,\n",
      "                              ParameterVectorElement(t[7]): 0.0005990379765141332,\n",
      "                              ParameterVectorElement(t[8]): -0.0005790553823883492,\n",
      "                              ParameterVectorElement(t[9]): -1.6140626548386079e-07,\n",
      "                              ParameterVectorElement(t[10]): -1.4261826134069736e-07,\n",
      "                              ParameterVectorElement(t[11]): 0.0006005334432928692,\n",
      "                              ParameterVectorElement(t[12]): -0.0029170131558039084,\n",
      "                              ParameterVectorElement(t[13]): 2.1104965010695408e-07,\n",
      "                              ParameterVectorElement(t[14]): 3.883957421371837e-07,\n",
      "                              ParameterVectorElement(t[15]): 0.0005995075888510155,\n",
      "                              ParameterVectorElement(t[16]): -1.8486329753184746e-07,\n",
      "                              ParameterVectorElement(t[17]): -1.5093503916277777e-07,\n",
      "                              ParameterVectorElement(t[18]): 0.0018380049101109491,\n",
      "                              ParameterVectorElement(t[19]): 0.004621664266871263,\n",
      "                              ParameterVectorElement(t[20]): -2.1063689181156456e-07,\n",
      "                              ParameterVectorElement(t[21]): 1.0646246013111799e-07,\n",
      "                              ParameterVectorElement(t[22]): 0.0017225135472039846,\n",
      "                              ParameterVectorElement(t[23]): 6.298299999261454e-05,\n",
      "                              ParameterVectorElement(t[24]): -2.1757840993595933e-07,\n",
      "                              ParameterVectorElement(t[25]): -4.579226472112011e-07,\n",
      "                              ParameterVectorElement(t[26]): -0.0030235175013758305,\n",
      "                              ParameterVectorElement(t[27]): 2.3977522937337535e-07,\n",
      "                              ParameterVectorElement(t[28]): 2.5044997032310825e-08,\n",
      "                              ParameterVectorElement(t[29]): -1.321994772298279e-07,\n",
      "                              ParameterVectorElement(t[30]): 0.0020530081556136004,\n",
      "                              ParameterVectorElement(t[31]): 1.101786607424768e-07,\n",
      "                              ParameterVectorElement(t[32]): -1.2270211714937292e-07,\n",
      "                              ParameterVectorElement(t[33]): -1.2699583931892228e-07,\n",
      "                              ParameterVectorElement(t[34]): 0.0020507336640539246,\n",
      "                              ParameterVectorElement(t[35]): -2.258981823961403e-07,\n",
      "                              ParameterVectorElement(t[36]): 1.1614195405251031e-07,\n",
      "                              ParameterVectorElement(t[37]): -6.921856094759905e-08,\n",
      "                              ParameterVectorElement(t[38]): 5.315734807222172e-07,\n",
      "                              ParameterVectorElement(t[39]): -6.859914666618211e-08,\n",
      "                              ParameterVectorElement(t[40]): 0.0020515588013695915,\n",
      "                              ParameterVectorElement(t[41]): -1.7648140875412188e-07,\n",
      "                              ParameterVectorElement(t[42]): -1.4908763088145954e-07,\n",
      "                              ParameterVectorElement(t[43]): -1.4256901541134108e-07,\n",
      "                              ParameterVectorElement(t[44]): 0.002051165512931292,\n",
      "                              ParameterVectorElement(t[45]): -2.1006454417365e-07,\n",
      "                              ParameterVectorElement(t[46]): 0.001725174933869882,\n",
      "                              ParameterVectorElement(t[47]): -1.2414273442850665e-08,\n",
      "                              ParameterVectorElement(t[48]): 1.6923971505981503e-07,\n",
      "                              ParameterVectorElement(t[49]): -0.001019581800337482,\n",
      "                              ParameterVectorElement(t[50]): -0.0011892857110518665,\n",
      "                              ParameterVectorElement(t[51]): 1.6014639796985635e-07,\n",
      "                              ParameterVectorElement(t[52]): -9.290247258240864e-08,\n",
      "                              ParameterVectorElement(t[53]): 0.0024916380258265458,\n",
      "                              ParameterVectorElement(t[54]): 6.332501178046844e-05,\n",
      "                              ParameterVectorElement(t[55]): -2.0287107757583211e-07,\n",
      "                              ParameterVectorElement(t[56]): -1.2555029474410853e-07,\n",
      "                              ParameterVectorElement(t[57]): -0.0011886072501097764,\n",
      "                              ParameterVectorElement(t[58]): 0.01328630530269449,\n",
      "                              ParameterVectorElement(t[59]): 3.0052526307985194e-07,\n",
      "                              ParameterVectorElement(t[60]): 1.5119869757394128e-07,\n",
      "                              ParameterVectorElement(t[61]): -0.03614857577129994,\n",
      "                              ParameterVectorElement(t[62]): -9.170887647956068e-08,\n",
      "                              ParameterVectorElement(t[63]): 0.002052677236186749,\n",
      "                              ParameterVectorElement(t[64]): -7.24139807545558e-08,\n",
      "                              ParameterVectorElement(t[65]): 2.257289189410371e-07,\n",
      "                              ParameterVectorElement(t[66]): 3.863685809454167e-08,\n",
      "                              ParameterVectorElement(t[67]): 0.03263547107072057,\n",
      "                              ParameterVectorElement(t[68]): 1.3522249915496169e-08,\n",
      "                              ParameterVectorElement(t[69]): 1.5856898247589772e-07,\n",
      "                              ParameterVectorElement(t[70]): -7.862690163425874e-08,\n",
      "                              ParameterVectorElement(t[71]): -1.2555029474481853e-07,\n",
      "                              ParameterVectorElement(t[72]): 0.002054157608064753,\n",
      "                              ParameterVectorElement(t[73]): -2.5696711523210616e-09,\n",
      "                              ParameterVectorElement(t[74]): -2.8177465146886646e-07,\n",
      "                              ParameterVectorElement(t[75]): 6.882637135280524e-08,\n",
      "                              ParameterVectorElement(t[76]): 0.032643027846542876,\n",
      "                              ParameterVectorElement(t[77]): 3.017125248091272e-07,\n",
      "                              ParameterVectorElement(t[78]): -0.003026528782191311,\n",
      "                              ParameterVectorElement(t[79]): -2.0928908519313278e-08,\n",
      "                              ParameterVectorElement(t[80]): 6.726830407633104e-08,\n",
      "                              ParameterVectorElement(t[81]): 0.0024913380267018777,\n",
      "                              ParameterVectorElement(t[82]): -0.03617938508534263,\n",
      "                              ParameterVectorElement(t[83]): -1.6902965931108715e-07,\n",
      "                              ParameterVectorElement(t[84]): -2.3199974102823772e-07,\n",
      "                              ParameterVectorElement(t[85]): 0.10103814610911002,\n",
      "                              ParameterVectorElement(t[86]): -7.766053021760106e-08,\n",
      "                              ParameterVectorElement(t[87]): 5.676131594238111e-09,\n",
      "                              ParameterVectorElement(t[88]): 0.0018441782602534496,\n",
      "                              ParameterVectorElement(t[89]): 7.142076629017217e-08,\n",
      "                              ParameterVectorElement(t[90]): -8.292628444647192e-08,\n",
      "                              ParameterVectorElement(t[91]): 7.63402371146414e-08,\n",
      "                              ParameterVectorElement(t[0]): -0.0005781693141921592},\n",
      "    'optimal_point': array([-5.78169314e-04, -2.68220183e-07, -3.56610222e-07,  6.00755397e-04,\n",
      "       -2.92159273e-03, -3.93934627e-07,  1.56585488e-07,  5.99037977e-04,\n",
      "       -5.79055382e-04, -1.61406265e-07, -1.42618261e-07,  6.00533443e-04,\n",
      "       -2.91701316e-03,  2.11049650e-07,  3.88395742e-07,  5.99507589e-04,\n",
      "       -1.84863298e-07, -1.50935039e-07,  1.83800491e-03,  4.62166427e-03,\n",
      "       -2.10636892e-07,  1.06462460e-07,  1.72251355e-03,  6.29830000e-05,\n",
      "       -2.17578410e-07, -4.57922647e-07, -3.02351750e-03,  2.39775229e-07,\n",
      "        2.50449970e-08, -1.32199477e-07,  2.05300816e-03,  1.10178661e-07,\n",
      "       -1.22702117e-07, -1.26995839e-07,  2.05073366e-03, -2.25898182e-07,\n",
      "        1.16141954e-07, -6.92185609e-08,  5.31573481e-07, -6.85991467e-08,\n",
      "        2.05155880e-03, -1.76481409e-07, -1.49087631e-07, -1.42569015e-07,\n",
      "        2.05116551e-03, -2.10064544e-07,  1.72517493e-03, -1.24142734e-08,\n",
      "        1.69239715e-07, -1.01958180e-03, -1.18928571e-03,  1.60146398e-07,\n",
      "       -9.29024726e-08,  2.49163803e-03,  6.33250118e-05, -2.02871078e-07,\n",
      "       -1.25550295e-07, -1.18860725e-03,  1.32863053e-02,  3.00525263e-07,\n",
      "        1.51198698e-07, -3.61485758e-02, -9.17088765e-08,  2.05267724e-03,\n",
      "       -7.24139808e-08,  2.25728919e-07,  3.86368581e-08,  3.26354711e-02,\n",
      "        1.35222499e-08,  1.58568982e-07, -7.86269016e-08, -1.25550295e-07,\n",
      "        2.05415761e-03, -2.56967115e-09, -2.81774651e-07,  6.88263714e-08,\n",
      "        3.26430278e-02,  3.01712525e-07, -3.02652878e-03, -2.09289085e-08,\n",
      "        6.72683041e-08,  2.49133803e-03, -3.61793851e-02, -1.69029659e-07,\n",
      "       -2.31999741e-07,  1.01038146e-01, -7.76605302e-08,  5.67613159e-09,\n",
      "        1.84417826e-03,  7.14207663e-08, -8.29262844e-08,  7.63402371e-08]),\n",
      "    'optimal_value': -9.3716782924479,\n",
      "    'optimizer_evals': None,\n",
      "    'optimizer_result': None,\n",
      "    'optimizer_time': 74.82675361633301}       »\n",
      " q_0: »\n",
      "      »\n",
      " q_1: »\n",
      "      »\n",
      " q_2: »\n",
      "      »\n",
      " q_3: »\n",
      "      »\n",
      " q_4: »\n",
      "      »\n",
      " q_5: »\n",
      "      »\n",
      " q_6: »\n",
      "      »\n",
      " q_7: »\n",
      "      »\n",
      " q_8: »\n",
      "      »\n",
      " q_9: »\n",
      "      »\n",
      "q_10: »\n",
      "      »\n",
      "q_11: »\n",
      "      »\n",
      "«      ┌─────────────────────────────────────────────────────────────────────────────────────────────────────────────────────────────────────────────────────────────────────────────────────────────────────────────────────────────────────────────────────────────────────────────────────────────────────────────────────────────────────────────────────────────────────────────────────────────────────────────────────────────────────────────────────────────────────────────────────────────────────────────────────────────────────────────────────────────────────────────┐\n",
      "« q_0: ┤0                                                                                                                                                                                                                                                                                                                                                                                                                                                                                                                                                                            ├\n",
      "«      │                                                                                                                                                                                                                                                                                                                                                                                                                                                                                                                                                                             │\n",
      "« q_1: ┤1                                                                                                                                                                                                                                                                                                                                                                                                                                                                                                                                                                            ├\n",
      "«      │                                                                                                                                                                                                                                                                                                                                                                                                                                                                                                                                                                             │\n",
      "« q_2: ┤2                                                                                                                                                                                                                                                                                                                                                                                                                                                                                                                                                                            ├\n",
      "«      │                                                                                                                                                                                                                                                                                                                                                                                                                                                                                                                                                                             │\n",
      "« q_3: ┤3                                                                                                                                                                                                                                                                                                                                                                                                                                                                                                                                                                            ├\n",
      "«      │                                                                                                                                                                                                                                                                                                                                                                                                                                                                                                                                                                             │\n",
      "« q_4: ┤4                                                                                                                                                                                                                                                                                                                                                                                                                                                                                                                                                                            ├\n",
      "«      │                                                                                                                                                                                                                                                                                                                                                                                                                                                                                                                                                                             │\n",
      "« q_5: ┤5                                                                                                                                                                                                                                                                                                                                                                                                                                                                                                                                                                            ├\n",
      "«      │   EvolvedOps(t[0],t[1],t[2],t[3],t[4],t[5],t[6],t[7],t[8],t[9],t[10],t[11],t[12],t[13],t[14],t[15],t[16],t[17],t[18],t[19],t[20],t[21],t[22],t[23],t[24],t[25],t[26],t[27],t[28],t[29],t[30],t[31],t[32],t[33],t[34],t[35],t[36],t[37],t[38],t[39],t[40],t[41],t[42],t[43],t[44],t[45],t[46],t[47],t[48],t[49],t[50],t[51],t[52],t[53],t[54],t[55],t[56],t[57],t[58],t[59],t[60],t[61],t[62],t[63],t[64],t[65],t[66],t[67],t[68],t[69],t[70],t[71],t[72],t[73],t[74],t[75],t[76],t[77],t[78],t[79],t[80],t[81],t[82],t[83],t[84],t[85],t[86],t[87],t[88],t[89],t[90],t[91]) │\n",
      "« q_6: ┤6                                                                                                                                                                                                                                                                                                                                                                                                                                                                                                                                                                            ├\n",
      "«      │                                                                                                                                                                                                                                                                                                                                                                                                                                                                                                                                                                             │\n",
      "« q_7: ┤7                                                                                                                                                                                                                                                                                                                                                                                                                                                                                                                                                                            ├\n",
      "«      │                                                                                                                                                                                                                                                                                                                                                                                                                                                                                                                                                                             │\n",
      "« q_8: ┤8                                                                                                                                                                                                                                                                                                                                                                                                                                                                                                                                                                            ├\n",
      "«      │                                                                                                                                                                                                                                                                                                                                                                                                                                                                                                                                                                             │\n",
      "« q_9: ┤9                                                                                                                                                                                                                                                                                                                                                                                                                                                                                                                                                                            ├\n",
      "«      │                                                                                                                                                                                                                                                                                                                                                                                                                                                                                                                                                                             │\n",
      "«q_10: ┤10                                                                                                                                                                                                                                                                                                                                                                                                                                                                                                                                                                           ├\n",
      "«      │                                                                                                                                                                                                                                                                                                                                                                                                                                                                                                                                                                             │\n",
      "«q_11: ┤11                                                                                                                                                                                                                                                                                                                                                                                                                                                                                                                                                                           ├\n",
      "«      └─────────────────────────────────────────────────────────────────────────────────────────────────────────────────────────────────────────────────────────────────────────────────────────────────────────────────────────────────────────────────────────────────────────────────────────────────────────────────────────────────────────────────────────────────────────────────────────────────────────────────────────────────────────────────────────────────────────────────────────────────────────────────────────────────────────────────────────────────────────────┘\n",
      "Electronic ground state energy (Ha):  -9.3716782924479\n",
      "Total ground state energy (Ha):  -7.7841466596879\n"
     ]
    },
    {
     "name": "stderr",
     "output_type": "stream",
     "text": [
      "/tmp/ipykernel_23705/2348905665.py:6: NatureDeprecationWarning: The qiskit_nature.algorithms.ground_state_solvers.GroundStateEigensolver class is deprecated as of version 0.5.0 and will be removed no sooner than 3 months after the release. Instead use the qiskit_nature.second_q.algorithms.ground_state_solvers.GroundStateEigensolver class.\n",
      "  calc = GroundStateEigensolver(converter, solver)\n"
     ]
    }
   ],
   "source": [
    "dist = 1.0\n",
    "qubit_op, num_particles, num_spin_orbitals, problem, converter = create_qubit_op_lih(dist,mappertype='JordanWignerMapper',reduce=False)\n",
    "print(num_particles, num_spin_orbitals)\n",
    "vqe_result, ansatz = run_vqe(qubit_op, num_particles, num_spin_orbitals, problem, converter, \n",
    "                              simulator_type ='statevector_simulator', ansatz_type='UCCSD', \n",
    "                              optimizer_type='SLSQP', max_iterations = 5,\n",
    "                              entanglement = 'full', rotation_blocks = ['rx', 'ry'], \n",
    "                              entanglement_blocks = ['cz'])\n",
    "print(vqe_result, ansatz)\n",
    "eval_vqe_result(vqe_result,problem,converter)"
   ]
  },
  {
   "cell_type": "markdown",
   "metadata": {
    "id": "ZflqZdz-nl6L"
   },
   "source": [
    "We observe extremely long calculation times ($\\geq$ 5 min. for one calculation with only `max_iter = 5`). This is inconvenient for our further calculations and therefore we want to reduce the problem."
   ]
  },
  {
   "cell_type": "markdown",
   "metadata": {
    "id": "2Y31M2Qbnl6L"
   },
   "source": [
    "#### 2.2.2 With reduction"
   ]
  },
  {
   "cell_type": "markdown",
   "metadata": {
    "id": "jHvplVnqnl6L"
   },
   "source": [
    "To simplify the problem and speed up the calculation we can use the `FreezeCoreTransformer` from Qiskit. This is already built into the function for creating the qubit operator above and can be activated with `reduce = True`. \n",
    "If enabled, the core orbitals are automatically determined and removed from the calculation. In addition, unoccupied orbitals can optionally be removed manually (see section 5.5.2 of the manual). Let's take a look at the orbitals."
   ]
  },
  {
   "cell_type": "code",
   "execution_count": null,
   "metadata": {
    "id": "MnB-pvxunl6L"
   },
   "outputs": [],
   "source": [
    "# Define the molecule for the given distance \n",
    "molecule = Molecule(\n",
    "# Coordinates in Angstrom \n",
    "geometry= [\n",
    "    [\"Li\", [0.0,0.0,0.0]], \n",
    "    [\"H\", [0.0,0.0,1.0]]],\n",
    "    multiplicity=1,  # = 2*spin + 1\n",
    "    charge=0, \n",
    ")\n",
    "\n",
    "# Define the driver \n",
    "driver = ElectronicStructureMoleculeDriver(\n",
    "    molecule=molecule,\n",
    "    basis=\"sto3g\",\n",
    "    driver_type = ElectronicStructureDriverType.PYSCF\n",
    ")\n",
    "\n",
    "# Run the driver\n",
    "properties = driver.run()\n",
    "\n",
    "print(properties.get_property(\"ParticleNumber\"))\n"
   ]
  },
  {
   "cell_type": "markdown",
   "metadata": {
    "id": "3nB3_ghNnl6L"
   },
   "source": [
    "We find 12 orbitals, which explains the longer computation times compared to $\\mathrm{H}_2$. We can remove some of the orbitals using the `FreezeCoreTransformer`, which is already build into the function `create_qubit_op_lih` above. You can enable it, by changing the input agrument `reduce` to `True`. As you can see in the function, two orbitals are removed manually. In addition the core orbitals are also not taken into accout.\n",
    "\n",
    "**Task**: \n",
    "\n",
    "a) Explain why you don't have to consider the core orbitals in the calculation and why you can even remove two more orbitals manually. \n",
    "\n",
    "b) How many orbitals are left for the calculation when using the Jordan Wigner mapping? Name a way to reduce the number of orbitals even further.\n",
    "\n",
    "c) Modify the code from the last task to reduce the number of orbitals by setting the input argument `reduce` of the `create_qubit_op_lih` to `True` and run the code again. What do you observe?"
   ]
  },
  {
   "cell_type": "markdown",
   "metadata": {
    "id": "KWYM2Uz3nl6N"
   },
   "source": []
  },
  {
   "cell_type": "markdown",
   "metadata": {
    "id": "OqLbWJA3nl6N"
   },
   "source": [
    "The calculation time has improved significantly. Therefore, we reduce the problem for all further calculations."
   ]
  },
  {
   "cell_type": "markdown",
   "metadata": {
    "id": "byedhXOEnl6N"
   },
   "source": [
    "### 2.3 Varying interatomic distance"
   ]
  },
  {
   "cell_type": "markdown",
   "metadata": {
    "id": "dQWftuOdnl6N"
   },
   "source": [
    "Next we want to find the correct interatomic distance. We perform the calculation analogous to $\\text{H}_2$, but here we reduce the number of orbitals. We stick with the `statevector_simulator`. \n",
    "\n",
    "**Task**: \n",
    "\n",
    "a) Use the functions from 2.1 to calculate the total ground state energy of $\\mathrm{LiH}$ for various distances and plot your results. Determine the bond length and compare your results with the literature value. \n",
    "\n",
    "Note that the code may take a few minutes to run to completion. To cap the computation time, you should limit the step size of the distance to a minimal value of 0.1 and the maximal iterations of the optimizer to 5. \n",
    "\n",
    "b) Even though we used the same method to simulate the $\\mathrm{H}_2$ and $\\mathrm{LiH}$ molecule, these two molecules have different bonding type. Compare the binding types of $\\mathrm{H}_2$ and $\\mathrm{LiH}$. According to this, in what form are the chemicals usually to be found?"
   ]
  },
  {
   "cell_type": "code",
   "execution_count": null,
   "metadata": {
    "id": "ei69LMYsnl6N"
   },
   "outputs": [],
   "source": []
  },
  {
   "cell_type": "markdown",
   "metadata": {
    "id": "Ms8R_H_vnl6N"
   },
   "source": [
    "### 2.4 Varying: Mapper, Ansatz and Optimizer"
   ]
  },
  {
   "cell_type": "markdown",
   "metadata": {
    "id": "Xpqy--pnnl6N"
   },
   "source": [
    "**Task**: \n",
    "\n",
    "Use the code below to vary the mapper, ansatz, and optimizer for the VQE (analogous to Section 5.3). Again, try to achieve the highest possible accuracy with a low computation time and number of computations."
   ]
  },
  {
   "cell_type": "code",
   "execution_count": null,
   "metadata": {
    "id": "1_wPV7Znnl6O"
   },
   "outputs": [],
   "source": [
    "### Choose the mapper, the ansatz and the optimizer\n",
    "\n",
    "mapper = 'ParityMapper'\n",
    "# 'JordanWignerMapper', 'ParityMapper', 'BravyiKitaevMapper'\n",
    "\n",
    "ansatz = 'UCCSD'\n",
    "# 'UCCSD', 'PUCCD', 'SUCCD', 'EfficientSU2', 'TwoLocal'\n",
    "\n",
    "optimizer = 'SLSQP'\n",
    "# 'COBYLA', 'SPSA', 'SLSQP', 'L_BFGS_B'\n",
    "max_iterations = 10\n",
    "\n",
    "### Set the parameters of the TwoLocal and the EfficientSU2 Ansatz \n",
    "\n",
    "entanglement = 'full' \n",
    "# 'linear', 'full', 'circular'\n",
    "rotation_blocks = ['rx', 'rz']\n",
    "# 'rx', 'ry', 'rz'\n",
    "entanglement_blocks = ['cz']\n",
    "# 'cz', 'cx'\n",
    "\n",
    "\n",
    "### Perform the VQE \n",
    "\n",
    "# Time the computation \n",
    "start = timeit.default_timer()\n",
    "\n",
    "# Generate the qubit Hamiltonian\n",
    "(qubit_op, num_particles, num_spin_orbitals, problem, converter) = create_qubit_op_lih(dist = 1.5474,mappertype=mapper,reduce=True)\n",
    "\n",
    "# Perform the VQE and observe the convergence \n",
    "(vqe_result, ansatz_circuit) = run_vqe(qubit_op, num_particles, num_spin_orbitals, problem, converter, \n",
    "            simulator_type = 'statevector_simulator', ansatz_type=ansatz, optimizer_type=optimizer, max_iterations = max_iterations,\n",
    "            entanglement=entanglement, rotation_blocks=rotation_blocks, entanglement_blocks=entanglement_blocks)\n",
    "\n",
    "\n",
    "stop = timeit.default_timer()\n",
    "\n",
    "### Calculate the exact energy \n",
    "\n",
    "exact_result = exact_solver(problem,converter)\n",
    "\n",
    "\n",
    "### Get the number of required CNOTS\n",
    "\n",
    "# Use an Unroller to transpile the used circuit into CNOTs and U gates to campe them\n",
    "pass_ = Unroller(['u', 'cx'])\n",
    "pass_manager = PassManager(pass_)\n",
    "ansatz_tp = pass_manager.run(ansatz_circuit)\n",
    "n_cnots = ansatz_tp.count_ops()['cx']\n",
    "\n",
    "   \n",
    "### Gnerate the result dictinoary\n",
    "\n",
    "if ansatz == 'TwoLocal':\n",
    "    result_dict = {\n",
    "        'mapper': mapper,\n",
    "        'optimizer': optimizer, \n",
    "        'max iterations': max_iterations,\n",
    "        'ansatz': ansatz,\n",
    "        'entanglement': entanglement,\n",
    "        'rotation blocks': rotation_blocks,\n",
    "        'entanglement blocks': entanglement_blocks,\n",
    "        'electronic gs-energy VQE (Ha)': vqe_result.optimal_value,\n",
    "        'electronic gs-energy error (mHa)': abs(exact_result.eigenenergies[0] - vqe_result.optimal_value)/1000,\n",
    "        'total gs-energy VQE (Ha)):': problem.interpret(vqe_result).total_energies[0].real,\n",
    "        'total gs-energy error (mHa)': abs(exact_result.total_energies[0].real - problem.interpret(vqe_result).total_energies[0].real)/1000,\n",
    "        '# of parameters': len(vqe_result.optimal_point),\n",
    "        'optimizer time': vqe_result.optimizer_time,\n",
    "        '# of qubits': int(qubit_op.num_qubits),\n",
    "        '# of CNOTs': n_cnots,\n",
    "        'runtime (s)': stop - start\n",
    "    }\n",
    "elif ansatz == 'EfficientSU2\"':\n",
    "    result_dict = {\n",
    "        'mapper': mapper,\n",
    "        'optimizer': optimizer, \n",
    "        'max iterations': max_iterations,\n",
    "        'ansatz': ansatz,\n",
    "        'entanglement': entanglement,\n",
    "        'rotation blocks': None,\n",
    "        'entanglement blocks': None,\n",
    "        'electronic gs-energy VQE (Ha)': vqe_result.optimal_value,\n",
    "        'electronic gs-energy error (mHa)': abs(exact_result.eigenenergies[0] - vqe_result.optimal_value)/1000,\n",
    "        'total gs-energy VQE (Ha)):': problem.interpret(vqe_result).total_energies[0].real,\n",
    "        'total gs-energy error (mHa)': abs(exact_result.total_energies[0].real - problem.interpret(vqe_result).total_energies[0].real)/1000,\n",
    "        '# of parameters': len(vqe_result.optimal_point),\n",
    "        'optimizer time': vqe_result.optimizer_time,\n",
    "        '# of qubits': int(qubit_op.num_qubits),\n",
    "        '# of CNOTs': n_cnots,\n",
    "        'runtime (s)': stop - start\n",
    "    }\n",
    "else:\n",
    "    result_dict = {\n",
    "        'mapper': mapper,\n",
    "        'optimizer': optimizer, \n",
    "        'ansatz': ansatz,\n",
    "        'max iterations': max_iterations,\n",
    "        'entanglement': None,\n",
    "        'rotation blocks': None,\n",
    "        'entanglement blocks': None,\n",
    "        'electronic gs-energy VQE (Ha)': vqe_result.optimal_value,\n",
    "        'electronic gs-energy error (mHa)': abs(exact_result.eigenenergies[0] - vqe_result.optimal_value)*1000,\n",
    "        'total gs-energy VQE (Ha)):': problem.interpret(vqe_result).total_energies[0].real,\n",
    "        'total gs-energy error (mHa)': abs(exact_result.total_energies[0].real - problem.interpret(vqe_result).total_energies[0].real)*1000,\n",
    "        '# of parameters': len(vqe_result.optimal_point),\n",
    "        'optimizer time': vqe_result.optimizer_time,\n",
    "        '# of qubits': int(qubit_op.num_qubits),\n",
    "        '# of CNOTs': n_cnots,\n",
    "        'runtime (s)': stop - start\n",
    "    }\n",
    "\n",
    "\n",
    "### Display and save the data \n",
    "\n",
    "file = 'results_lih.csv'\n",
    "\n",
    "# Append the result dictinoary to the savefile\n",
    "if os.path.isfile(file):\n",
    "    # Get the data frame from the savefile and append the new data\n",
    "    results_df = pd.read_csv(file)\n",
    "    result_dict = pd.DataFrame.from_dict([result_dict])\n",
    "    results_df = pd.concat([results_df, result_dict],ignore_index = True)\n",
    "else:\n",
    "    # Create a new data frame \n",
    "    results_df = pd.DataFrame.from_dict([result_dict])\n",
    "# Store the data frame \n",
    "results_df.to_csv(file)\n",
    "\n",
    "# Show the data \n",
    "results_df[['mapper', 'optimizer', 'ansatz', 'entanglement', 'rotation blocks', 'entanglement blocks',\n",
    "            'electronic gs-energy VQE (Ha)', 'electronic gs-energy error (mHa)',\n",
    "            '# of parameters', 'optimizer time', '# of qubits', '# of CNOTs', 'runtime (s)']]"
   ]
  }
 ],
 "metadata": {
  "colab": {
   "provenance": []
  },
  "kernelspec": {
   "display_name": "Python 3 (ipykernel)",
   "language": "python",
   "name": "python3"
  },
  "language_info": {
   "codemirror_mode": {
    "name": "ipython",
    "version": 3
   },
   "file_extension": ".py",
   "mimetype": "text/x-python",
   "name": "python",
   "nbconvert_exporter": "python",
   "pygments_lexer": "ipython3",
   "version": "3.10.6"
  },
  "vscode": {
   "interpreter": {
    "hash": "e7370f93d1d0cde622a1f8e1c04877d8463912d04d973331ad4851f04de6915a"
   }
  }
 },
 "nbformat": 4,
 "nbformat_minor": 4
}
